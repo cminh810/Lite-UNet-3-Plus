{
 "cells": [
  {
   "cell_type": "markdown",
   "id": "fede0467",
   "metadata": {},
   "source": [
    "# ***Lite U-Net 3+ Architecture*** for *semantic segmentation*"
   ]
  },
  {
   "cell_type": "markdown",
   "id": "dbf76f6b",
   "metadata": {},
   "source": [
    "<p align=\"center\">\n",
    "  <img src=\"Images/UNet3plus.png\" alt=\"U-Net 3+\" title = \"U-Net 3+/ U-Net 3 Plus\" width=\"75%\"/> <br>\n",
    "  <em> U-Net ++/ Nested U-Net Architecture </em>\n",
    "</p>"
   ]
  },
  {
   "cell_type": "markdown",
   "id": "7b3d7960",
   "metadata": {},
   "source": [
    "### ***Indexing:*** \n",
    "- Encoder: 0-1-2-3-4 (*Top -> Bottom*)\n",
    "- Decoder: 0-1-2-3-4 (*Bottom -> Top*)\n",
    "- Bottleneck block is indiced at 4 and 0"
   ]
  },
  {
   "cell_type": "markdown",
   "id": "e4595554",
   "metadata": {},
   "source": [
    "### **Original U-Net 3+**\n",
    "- Inspired by U-Net and UNet++: *UNet 3+* keeps the encoder–decoder idea, but changes how skips are used so features at different scales talk to each other more directly.\n",
    "\n",
    "- *Full-Scale Skip Connections*: At each decoder stage, UNet 3+ collects features from all encoder scales and the deeper decoder, upsamples/downsamples them to the same size, concats, then refines with a 3×3 conv. This mixes coarse context (deep) with fine detail (shallow) right where you decode.\n",
    "\n",
    "- *Deep Supervision* (multi-scale outputs): Each decoder stage can produce an output map. During training, these side outputs help gradients reach early layers.\n",
    "\n",
    "- *Full-scale Aggregation*: Smaller semantic gap. Instead of many dense nested skips, UNet 3+ uses one fusion per stage (full-scale aggregation). That typically means fewer parameters, and better alignment of semantics across scales.\n",
    "\n",
    "- *Classification-guided Module*: Relying on the output of the bottleneck, richest featues, it computes a scalar by global pooling then select the argmax of the sigmoid which indicates a prediction of whether the target exists. This is helpful for dataset where there are negative samples (no target) but for my DSB 2018 set, this can break the model."
   ]
  },
  {
   "cell_type": "markdown",
   "id": "85665bc6",
   "metadata": {},
   "source": [
    "### **Lite U-Net 3+**\n",
    "- Inspired by the lightweight design of U-Lite, this variant of U-Net 3+ is similar to that Lite U-Net ++ that I once did. The amount of filters was also halved to save memory.\n",
    "- *Add-ons*: Lightweight block like **SE** is applied before the skips to Full-scale Aggregation to enrich features even more. In addtion a **ResBlock + Cbam** is also applied at the BottleNeck to enhance performance of extracting features.\n",
    "- *Loss*: Combo loss similar to my other code, including Boundary, Focal Tversky and Focal loss.\n",
    "- For semantic segmentation, this model works very well on DSB 2018 dataset."
   ]
  },
  {
   "cell_type": "markdown",
   "id": "a2303595",
   "metadata": {},
   "source": [
    "## Importing libraries and modules"
   ]
  },
  {
   "cell_type": "code",
   "execution_count": 593,
   "id": "9f805520",
   "metadata": {},
   "outputs": [],
   "source": [
    "from torch.utils.data import DataLoader, Dataset\n",
    "import torch\n",
    "import torch.nn as nn\n",
    "from torch.optim import Adam, SGD\n",
    "from torchvision import datasets\n",
    "import numpy as np\n",
    "import matplotlib.pyplot as plt\n",
    "import os\n",
    "from torchvision.transforms import v2\n",
    "import cv2\n",
    "import random\n",
    "import torch.optim.lr_scheduler as lr_scheduler\n",
    "import torchvision.transforms.functional as TF\n",
    "import torch.nn.functional as F\n",
    "from torchsummary import summary\n",
    "from sklearn.model_selection import train_test_split\n",
    "import torchvision.io as io\n",
    "from scipy import ndimage as ndi\n",
    "\n",
    "device = \"cuda\" if torch.cuda.is_available() else \"cpu\""
   ]
  },
  {
   "cell_type": "markdown",
   "id": "9c0ddab9",
   "metadata": {},
   "source": [
    "## Declaring static variables, tailored to the Dataset (DSB 2018)"
   ]
  },
  {
   "cell_type": "code",
   "execution_count": 594,
   "id": "c66a9cb0",
   "metadata": {},
   "outputs": [],
   "source": [
    "IMG_HEIGHT = 128\n",
    "IMG_WIDTH = 128\n",
    "\n",
    "TRAIN_DIR = '../data_temp/DSB_2018/data-science-bowl-2018/stage1_train'\n",
    "TRAIN_MASKS_DIR = '../data_temp/DSB_2018/data-science-bowl-2018/stage1_train_combinedmasks'\n",
    "TEST_DIR = '../data_temp/DSB_2018/data-science-bowl-2018/stage1_test'"
   ]
  },
  {
   "cell_type": "markdown",
   "id": "6dda0c84",
   "metadata": {},
   "source": [
    "## *Squeeze and Excitation Block*"
   ]
  },
  {
   "cell_type": "code",
   "execution_count": 595,
   "id": "fec0c059",
   "metadata": {},
   "outputs": [],
   "source": [
    "class SE(nn.Module):\n",
    "    def __init__(self, in_channels, out_channels, reduction = 4):\n",
    "        super(SE, self).__init__()\n",
    "        self.squeeze = nn.AdaptiveAvgPool2d((1,1))\n",
    "        self.excitation = nn.Sequential(\n",
    "            nn.Flatten(),\n",
    "            nn.Linear(in_features=in_channels, out_features=out_channels//reduction),\n",
    "            nn.ReLU(inplace=True),\n",
    "            nn.Linear(in_features=out_channels//reduction, out_features=out_channels),\n",
    "            nn.Sigmoid()\n",
    "        )\n",
    "    def forward(self, input_map):\n",
    "        x = self.squeeze(input_map)\n",
    "        x = self.excitation(x).unsqueeze(-1).unsqueeze(-1) #[B,C]->[B,C,1,1], unsqueeze(-1) means to unsqueeze the last dim\n",
    "        return input_map*x"
   ]
  },
  {
   "cell_type": "markdown",
   "id": "c9c6fd5d",
   "metadata": {},
   "source": [
    "## **CBAM**"
   ]
  },
  {
   "cell_type": "markdown",
   "id": "67d64d08",
   "metadata": {},
   "source": [
    "### *Channel Attention*\n",
    "<p align=\"center\">\n",
    "  <img src=\"Images/ChannelAtt.png\" alt=\"Channel Attention\" title = \"Channel Attention\" width=\"75%\"/> <br>\n",
    "  <em> Channel Attention </em>\n",
    "</p>"
   ]
  },
  {
   "cell_type": "code",
   "execution_count": 596,
   "id": "15aa0880",
   "metadata": {},
   "outputs": [],
   "source": [
    "class ChannelAttention (nn.Module):\n",
    "    def __init__ (self, in_channels, reduction = 2):\n",
    "        super(ChannelAttention,self).__init__()\n",
    "        self.global_maxpool = nn.AdaptiveMaxPool2d((1,1))\n",
    "        self.global_avgpool = nn.AdaptiveAvgPool2d((1,1))\n",
    "        #Input: [B,C,1,1]\n",
    "        self.mlp = nn.Sequential(\n",
    "            nn.Flatten(), #Size [B,C]\n",
    "            nn.Linear(in_channels, in_channels//reduction),\n",
    "            nn.ReLU(inplace=True),\n",
    "            nn.Linear(in_channels//reduction,in_channels)\n",
    "        )\n",
    "        self.sigmoid = nn.Sigmoid()\n",
    "        \n",
    "    def forward(self, input_map):\n",
    "\n",
    "        x1 = self.global_maxpool(input_map)\n",
    "        x2 = self.global_avgpool(input_map)\n",
    "\n",
    "        x1 = self.mlp(x1)\n",
    "        x2 = self.mlp(x2)\n",
    "\n",
    "        out = self.sigmoid(x1 + x2).unsqueeze(2).unsqueeze(3)  # [B, C, 1, 1]\n",
    "\n",
    "        return out"
   ]
  },
  {
   "cell_type": "markdown",
   "id": "981a69a6",
   "metadata": {},
   "source": [
    "### *Spatial Attention*\n",
    "<p align=\"center\">\n",
    "  <img src=\"Images/SpatialAtt.png\" alt=\"Spatial Attention\" title = \"Spatial Attention\" width=\"75%\"/> <br>\n",
    "  <em> Spatial Attention </em>\n",
    "</p>"
   ]
  },
  {
   "cell_type": "code",
   "execution_count": 597,
   "id": "c6a0bf22",
   "metadata": {},
   "outputs": [],
   "source": [
    "class SpatialAttention (nn.Module):\n",
    "    def __init__ (self):\n",
    "        super(SpatialAttention,self).__init__()\n",
    "        self.conv = nn.Conv2d(in_channels=2, out_channels=1, kernel_size=7, stride = 1, padding=3)\n",
    "        self.sigmoid = nn.Sigmoid()\n",
    "    def forward(self, input_map):\n",
    "        x1 = torch.amax(input_map,dim = 1,keepdim=True) #[B,1,H,W]\n",
    "        x2 = torch.mean(input_map,dim = 1,keepdim=True) #[B,1,H,W]\n",
    "        x = torch.cat([x1,x2], dim = 1)\n",
    "        x = self.conv(x)\n",
    "        return self.sigmoid(x)"
   ]
  },
  {
   "cell_type": "markdown",
   "id": "1afdf3a8",
   "metadata": {},
   "source": [
    "### ***Convolutional Block Attention Module (CBAM)***\n",
    "<p align=\"center\">\n",
    "  <img src=\"Images/CBAM.png\" alt=\"Convolutional Block Attention Module(CBAM)\" title = \"Convolutional Block Attention Module(CBAM)\" width=\"75%\"/> <br>\n",
    "  <em> Convolutional Block Attention Module(CBAM) </em>\n",
    "</p>"
   ]
  },
  {
   "cell_type": "code",
   "execution_count": 598,
   "id": "114aa17a",
   "metadata": {},
   "outputs": [],
   "source": [
    "class CBAM(nn.Module):\n",
    "    def __init__(self, in_channels):\n",
    "        super().__init__()\n",
    "        self.channel_att = ChannelAttention(in_channels, reduction = 2)\n",
    "        self.spatial_att = SpatialAttention()\n",
    "        self.conv = nn.Conv2d(in_channels=in_channels, out_channels=in_channels, kernel_size=3, stride=1, padding=1)\n",
    "    \n",
    "    def forward(self, x):\n",
    "        x = self.conv(x)\n",
    "        x = self.channel_att(x)*x\n",
    "        x = self.spatial_att(x)*x\n",
    "        return x"
   ]
  },
  {
   "cell_type": "markdown",
   "id": "fabbff80",
   "metadata": {},
   "source": [
    "### ***ResBlock + CBAM***\n",
    "<p align=\"center\">\n",
    "  <img src=\"Images/ResCBAM.png\" alt=\"ResCBAM\" title = \"ResCBAM\" width=\"85%\"/> <br>\n",
    "  <em> ResBlock + CBAM </em>\n",
    "</p>"
   ]
  },
  {
   "cell_type": "code",
   "execution_count": 599,
   "id": "4132292a",
   "metadata": {},
   "outputs": [],
   "source": [
    "class ResCBAM(nn.Module):\n",
    "    def __init__(self, in_channels):\n",
    "        super().__init__()\n",
    "        self.channel_att = ChannelAttention(in_channels, reduction = 2)\n",
    "        self.spatial_att = SpatialAttention()\n",
    "        self.conv = nn.Conv2d(in_channels=in_channels, out_channels=in_channels, kernel_size=3, stride=1, padding=1)\n",
    "    \n",
    "    def forward(self, skip):\n",
    "        x = self.conv(skip)\n",
    "        x = self.channel_att(x)*x\n",
    "        x = self.spatial_att(x)*x\n",
    "        return x+self.conv(skip)"
   ]
  },
  {
   "cell_type": "markdown",
   "id": "3fa3d832",
   "metadata": {},
   "source": [
    "### *Group Normalization / Batch Normalization / Instance Normalization*"
   ]
  },
  {
   "cell_type": "code",
   "execution_count": 600,
   "id": "7eb3e668",
   "metadata": {},
   "outputs": [],
   "source": [
    "# --- norm factory (GN by default) ---\n",
    "def get_norm(num_channels, kind=\"gn\", num_groups=8):\n",
    "    if kind == \"gn\":\n",
    "        # choose a divisor of num_channels\n",
    "        g = min(num_groups, num_channels)\n",
    "        while g > 1 and (num_channels % g) != 0:\n",
    "            g -= 1\n",
    "        return nn.GroupNorm(g, num_channels)\n",
    "    elif kind == \"in\":\n",
    "        return nn.InstanceNorm2d(num_channels, affine=True, track_running_stats=False)\n",
    "    elif kind == \"bn\":\n",
    "        return nn.BatchNorm2d(num_channels)\n",
    "    else:\n",
    "        raise ValueError(f\"Unknown norm kind: {kind}\")"
   ]
  },
  {
   "cell_type": "markdown",
   "id": "69263fc7",
   "metadata": {},
   "source": [
    "## U-Lite inpsired **Convolution Blocks**"
   ]
  },
  {
   "cell_type": "markdown",
   "id": "b7436b4a",
   "metadata": {},
   "source": [
    "### *Axial Depth-wise Convolution*"
   ]
  },
  {
   "cell_type": "code",
   "execution_count": 601,
   "id": "e553c21a",
   "metadata": {},
   "outputs": [],
   "source": [
    "class AxialConvDW(nn.Module):\n",
    "    def __init__ (self, in_channels, axial_size = 7, dilation=1):\n",
    "        super(AxialConvDW,self).__init__()\n",
    "\n",
    "        padding = ((axial_size-1)//2)*dilation\n",
    "\n",
    "        self.horizontal_conv = nn.Conv2d(in_channels, in_channels, \n",
    "            kernel_size=(1,axial_size), stride=1, padding = (0,padding), \n",
    "            groups=in_channels, dilation=dilation)\n",
    "        \n",
    "        self.vertical_conv = nn.Conv2d(in_channels, in_channels, \n",
    "            kernel_size=(axial_size,1), stride=1, padding = (padding,0), \n",
    "            groups=in_channels, dilation=dilation)\n",
    "        \n",
    "    def forward(self, x):\n",
    "        return x+self.horizontal_conv(x)+self.vertical_conv(x)"
   ]
  },
  {
   "cell_type": "markdown",
   "id": "b0d1d219",
   "metadata": {},
   "source": [
    "### *Single Axial Depth-wise Convolution Block*"
   ]
  },
  {
   "cell_type": "code",
   "execution_count": 602,
   "id": "e0ef671e",
   "metadata": {},
   "outputs": [],
   "source": [
    "class SDWConv (nn.Module):\n",
    "    def __init__ (self, in_channels, out_channels, axial_size = 3, dilation=1, act = 'gelu', norm = 'gn'):\n",
    "        super().__init__()\n",
    "        self.conv = nn.Sequential(\n",
    "            AxialConvDW(in_channels=in_channels,axial_size=axial_size,dilation=dilation),\n",
    "            get_norm(in_channels,kind=norm),\n",
    "            nn.Conv2d(in_channels, out_channels, 1, 1),\n",
    "            nn.GELU() if act == 'gelu' else nn.ReLU(inplace = True))\n",
    "    def forward(self, x):\n",
    "        return self.conv(x)"
   ]
  },
  {
   "cell_type": "markdown",
   "id": "00572cd8",
   "metadata": {},
   "source": [
    "### *Double Axial Depth-wise Convolution Block*"
   ]
  },
  {
   "cell_type": "code",
   "execution_count": 603,
   "id": "676ec19b",
   "metadata": {},
   "outputs": [],
   "source": [
    "class DoubleSDWConv (nn.Module):\n",
    "    def __init__ (self, in_channels, out_channels, axial_size = 3, dilation = 1, act = 'gelu'):\n",
    "        super().__init__()\n",
    "        self.conv1 = SDWConv(in_channels, out_channels, axial_size, dilation, act)\n",
    "        self.conv2 = SDWConv(out_channels, out_channels, axial_size, dilation, act)\n",
    "    def forward(self, x):\n",
    "        return self.conv2(self.conv1(x))"
   ]
  },
  {
   "cell_type": "markdown",
   "id": "906af6d9",
   "metadata": {},
   "source": [
    "### U-Lite **BottleNeck** with added SE Block"
   ]
  },
  {
   "cell_type": "code",
   "execution_count": 604,
   "id": "d60d7752",
   "metadata": {},
   "outputs": [],
   "source": [
    "class BottleNeck(nn.Module):\n",
    "    def __init__ (self, in_channels, mid_channels):\n",
    "        super(BottleNeck, self).__init__()\n",
    "        self.pw1 = nn.Conv2d(in_channels, mid_channels//4, kernel_size=1, stride = 1)\n",
    "        self.dw1 = AxialConvDW(mid_channels//4, dilation=1)\n",
    "        self.dw2 = AxialConvDW(mid_channels//4, dilation=2)\n",
    "        self.dw3 = AxialConvDW(mid_channels//4, dilation=3)\n",
    "        self.bn = get_norm(mid_channels)\n",
    "        self.pw2 = nn.Conv2d(mid_channels, mid_channels, kernel_size=1, stride = 1)\n",
    "        self.gelu = nn.GELU()\n",
    "        self.cbam = ResCBAM(mid_channels)\n",
    "\n",
    "    def forward(self, x):\n",
    "        x = self.pw1(x)\n",
    "        x = torch.cat([x,self.dw1(x),self.dw2(x),self.dw3(x)], dim=1)\n",
    "        x = self.gelu(self.pw2(self.bn(x)))\n",
    "        return self.cbam(x)"
   ]
  },
  {
   "cell_type": "markdown",
   "id": "2be2a631",
   "metadata": {},
   "source": [
    "## **Encode Block**"
   ]
  },
  {
   "cell_type": "code",
   "execution_count": 605,
   "id": "53040ceb",
   "metadata": {},
   "outputs": [],
   "source": [
    "class EncodeBlock(nn.Module):\n",
    "    def __init__(self, in_channels, out_channels):\n",
    "        super(EncodeBlock,self).__init__()\n",
    "        self.double_conv = DoubleSDWConv(in_channels=in_channels, \n",
    "                                         out_channels=out_channels)\n",
    "        self.down_sample= nn.MaxPool2d(kernel_size=2,stride=2)\n",
    "    def forward(self, x):\n",
    "        skip = self.double_conv(x)\n",
    "        x = self.down_sample(skip)\n",
    "        return x, skip"
   ]
  },
  {
   "cell_type": "markdown",
   "id": "5ff0fd4a",
   "metadata": {},
   "source": [
    "## **Decode Block** with added ResCBAM block"
   ]
  },
  {
   "cell_type": "code",
   "execution_count": 606,
   "id": "d1f6c227",
   "metadata": {},
   "outputs": [],
   "source": [
    "class DecodeBlock(nn.Module):\n",
    "    def __init__(self,in_channels = 320, out_channels = 320):\n",
    "        super(DecodeBlock,self).__init__()\n",
    "        self.decode = nn.Sequential(\n",
    "            nn.Conv2d(in_channels=in_channels, out_channels=out_channels, kernel_size=1, stride=1, padding=0),\n",
    "            SDWConv(in_channels=out_channels, out_channels=out_channels, axial_size=7)\n",
    "        )\n",
    "    def forward(self, x):\n",
    "        return self.decode(x)"
   ]
  },
  {
   "cell_type": "markdown",
   "id": "33bce6a0",
   "metadata": {},
   "source": [
    "## **Full-scale Aggregation**"
   ]
  },
  {
   "attachments": {
    "image.png": {
     "image/png": "[encoded data removed]"
    }
   },
   "cell_type": "markdown",
   "id": "e959a281",
   "metadata": {},
   "source": [
    "![image.png](attachment:image.png)"
   ]
  },
  {
   "cell_type": "code",
   "execution_count": 607,
   "id": "c6e1659c",
   "metadata": {},
   "outputs": [],
   "source": [
    "class FullScaleAggregation(nn.Module):\n",
    "    def __init__(self, skip_idx, \n",
    "                 skips_channel = [32,64,128,256,512], \n",
    "                 de_channel = None, \n",
    "                 num_layers = 5, \n",
    "                 agg_channels = 64):\n",
    "        \n",
    "        super(FullScaleAggregation, self).__init__()\n",
    "        if skip_idx < 1 or skip_idx >= num_layers:\n",
    "            raise Exception('INVALID INDEX OF THE DECODER BLOCK\\n')\n",
    "        \n",
    "        self.skip_idx = skip_idx\n",
    "        self.encoder_aligns = nn.ModuleList()\n",
    "        self.decoder_aligns = nn.ModuleList()\n",
    "\n",
    "        # --- Encoder's aggregation ---\n",
    "        for i in range (num_layers-skip_idx-1):\n",
    "            align = nn.Sequential(\n",
    "                SDWConv(skips_channel[i],agg_channels),\n",
    "                SE(agg_channels, agg_channels, reduction=4)\n",
    "            )\n",
    "            self.encoder_aligns.append(align)\n",
    "        \n",
    "        # --- Current decoder stage's aggregation ---\n",
    "        self.center_align = nn.Sequential(\n",
    "            SDWConv(skips_channel[-skip_idx-1],agg_channels),\n",
    "            SE(agg_channels, agg_channels, reduction=4)\n",
    "        )\n",
    "\n",
    "        # --- Decoder's aggregation ---\n",
    "        bottleneck_align = nn.Sequential(\n",
    "            SDWConv(skips_channel[-1],agg_channels),\n",
    "            SE(agg_channels, agg_channels, reduction=4)\n",
    "        )\n",
    "        self.decoder_aligns.append(bottleneck_align)\n",
    "\n",
    "        if skip_idx>1:\n",
    "            if de_channel is None: de_channels = [agg_channels*num_layers]*(skip_idx-1)\n",
    "            else: de_channels = [de_channel]*(skip_idx-1)\n",
    "        \n",
    "            for channel in de_channels:\n",
    "                align = nn.Sequential(\n",
    "                    SDWConv(channel,agg_channels),\n",
    "                    SE(agg_channels, agg_channels, reduction=4))\n",
    "                self.decoder_aligns.append(align)\n",
    "\n",
    "    def forward(self, skips, de_skips):\n",
    "        H,W = skips[-self.skip_idx-1].shape[2:]\n",
    "        aligned_maps = []\n",
    "        \n",
    "        for i, align in enumerate(self.encoder_aligns):\n",
    "            x= F.interpolate(skips[i], size = (H,W), mode='bilinear', align_corners=False)\n",
    "            x = align(x)\n",
    "            aligned_maps.append(x)\n",
    "        \n",
    "        aligned = self.center_align(skips[-self.skip_idx-1])\n",
    "        aligned_maps.append(aligned)\n",
    "\n",
    "        for i, align in enumerate(self.decoder_aligns):\n",
    "            x = F.interpolate(de_skips[i], size=(H,W), mode='bilinear', align_corners=False)\n",
    "            aligned_maps.append(align(x))\n",
    "        \n",
    "        aggregated_map = torch.cat(aligned_maps, dim =1)\n",
    "        return aggregated_map"
   ]
  },
  {
   "cell_type": "code",
   "execution_count": 608,
   "id": "3d4133bc",
   "metadata": {},
   "outputs": [],
   "source": [
    "class CGM (nn.Module):\n",
    "    def __init__ (self, in_channels, num_classes = 1, dropout_rate = 0.25):\n",
    "        super(CGM, self).__init__()\n",
    "        self.guide = nn.Sequential(\n",
    "            nn.Dropout(dropout_rate),\n",
    "            nn.Conv2d(in_channels=in_channels, out_channels=num_classes, kernel_size=1, stride = 1, padding = 0),\n",
    "            nn.AdaptiveAvgPool2d(output_size=(1,1)),\n",
    "            nn.Sigmoid()\n",
    "        )\n",
    "    def forward(self, x):\n",
    "        x = self.guide(x)\n",
    "        return x #(B,1,1,1)"
   ]
  },
  {
   "cell_type": "code",
   "execution_count": 609,
   "id": "36c0759a",
   "metadata": {},
   "outputs": [],
   "source": [
    "class DeepSupervision(nn.Module):\n",
    "    def __init__ (self, in_channels, out_channels=1):\n",
    "        super().__init__()\n",
    "        self.conv = nn.Conv2d(in_channels=in_channels, \n",
    "                              out_channels=out_channels, \n",
    "                              kernel_size=1, \n",
    "                              stride=1)\n",
    "    def forward(self, decode_map, mask_size):\n",
    "        if decode_map.shape[2:]!=mask_size:\n",
    "            decode_map = F.interpolate(decode_map, \n",
    "                                       size=mask_size, \n",
    "                                       mode='bilinear', \n",
    "                                       align_corners=False)\n",
    "        return self.conv(decode_map)"
   ]
  },
  {
   "cell_type": "code",
   "execution_count": 610,
   "id": "e341b9ca",
   "metadata": {},
   "outputs": [],
   "source": [
    "class MultiScaleInput(nn.Module):\n",
    "    def __init__(self, mid_channels, num_channels = 3):\n",
    "        super().__init__()\n",
    "        self.flow = nn.Sequential(\n",
    "            nn.Conv2d(in_channels=num_channels, out_channels=mid_channels, kernel_size=3, stride = 1, padding = 1),\n",
    "            nn.BatchNorm2d(mid_channels),\n",
    "            nn.ReLU(inplace=True)\n",
    "        )\n",
    "    def forward(self,og_input,encode_map):\n",
    "        og_input = F.interpolate(og_input, size=encode_map.shape[2:], mode='bilinear', align_corners=False)\n",
    "        og_input = self.flow(og_input)\n",
    "        return torch.cat([og_input, encode_map], dim = 1)"
   ]
  },
  {
   "cell_type": "code",
   "execution_count": 611,
   "id": "36780ac0",
   "metadata": {},
   "outputs": [],
   "source": [
    "class UNet3Plus(nn.Module):\n",
    "    def __init__ (self, num_classes = 1, in_channels = 3, \n",
    "                  deep_supervision = True, \n",
    "                  planes = [32,64,128,256,512], \n",
    "                  mask_size =(IMG_HEIGHT,IMG_WIDTH)):\n",
    "        super().__init__()\n",
    "\n",
    "        #--- Store variables ---\n",
    "        self.deep_supervision = deep_supervision\n",
    "        self.num_layers = 5\n",
    "        self.agg_channels = planes[0]\n",
    "        length = len(planes)\n",
    "        self.mask_size = mask_size\n",
    "\n",
    "        #--- Encoding ---\n",
    "        self.first_conv = nn.Sequential(\n",
    "            nn.Conv2d(in_channels, out_channels=planes[0], kernel_size=7, stride=1,padding=3),\n",
    "            nn.BatchNorm2d(planes[0]),\n",
    "            nn.ReLU(inplace=True))\n",
    "        \n",
    "        self.encode_layer1 = EncodeBlock(planes[0], planes[0])\n",
    "\n",
    "        self.encode_layers = nn.ModuleList()\n",
    "        for i in range (0, length-2):\n",
    "            encode_layer = EncodeBlock(planes[i], planes[i+1])\n",
    "            self.encode_layers.append(encode_layer)\n",
    "\n",
    "        #--- BottleNeck ---\n",
    "        self.bottleneck = BottleNeck(in_channels=planes[-2], mid_channels=planes[-1])\n",
    "        self.CGM = CGM(in_channels=planes[-1], num_classes=1) #For DSB 2018, CGM is not needed\n",
    "\n",
    "        #--- Decoding ---\n",
    "        self.decode_layers = nn.ModuleList()\n",
    "        self.intermediate_outputs = nn.ModuleList()\n",
    "        self.aggregation = nn.ModuleList()\n",
    "        for i in range (length-1):\n",
    "            decode_layer = DecodeBlock(in_channels=self.agg_channels*self.num_layers, out_channels=self.agg_channels)\n",
    "            inter_output = DeepSupervision(in_channels=self.agg_channels,out_channels=num_classes)\n",
    "            aggregated_map = FullScaleAggregation(skip_idx=i+1, num_layers=5,skips_channel=planes,\n",
    "                                                  de_channel=self.agg_channels, \n",
    "                                                  agg_channels=self.agg_channels)\n",
    "            self.decode_layers.append(decode_layer)\n",
    "            self.intermediate_outputs.append(inter_output)\n",
    "            self.aggregation.append(aggregated_map)\n",
    "        \n",
    "    def forward(self, input):\n",
    "        skips = []\n",
    "        de_skips = []\n",
    "        outputs = []\n",
    "        x = input.clone()\n",
    "\n",
    "        #--- Encoding ---\n",
    "        x = self.first_conv(x)\n",
    "        x, skip_map1 = self.encode_layer1(x)\n",
    "        skips.append(skip_map1)\n",
    "\n",
    "        for encode_layer in self.encode_layers:\n",
    "            x,skip_map = encode_layer(x)\n",
    "            skips.append(skip_map)\n",
    "        \n",
    "        #--- BottleNeck ---\n",
    "        x = self.bottleneck(x)\n",
    "        skips.append(x)\n",
    "        de_skips.append(x)\n",
    "\n",
    "        #--- Decoding ---\n",
    "        for idx in range(len(self.decode_layers)):\n",
    "            aggregated = self.aggregation[idx](skips, de_skips)\n",
    "            x = self.decode_layers[idx](aggregated)\n",
    "            de_skips.append(x)\n",
    "            output = self.intermediate_outputs[idx](x, self.mask_size)\n",
    "            outputs.append(output)\n",
    "        \n",
    "        if self.deep_supervision:\n",
    "            return outputs\n",
    "        else: \n",
    "            return outputs[-1]"
   ]
  },
  {
   "cell_type": "code",
   "execution_count": 612,
   "id": "0c9c9ef2",
   "metadata": {},
   "outputs": [
    {
     "name": "stdout",
     "output_type": "stream",
     "text": [
      "torch.Size([8, 1, 128, 128])\n",
      "===============================================================================================\n",
      "Layer (type:depth-idx)                        Output Shape              Param #\n",
      "===============================================================================================\n",
      "├─Sequential: 1-1                             [-1, 32, 128, 128]        --\n",
      "|    └─Conv2d: 2-1                            [-1, 32, 128, 128]        4,736\n",
      "|    └─BatchNorm2d: 2-2                       [-1, 32, 128, 128]        64\n",
      "|    └─ReLU: 2-3                              [-1, 32, 128, 128]        --\n",
      "├─EncodeBlock: 1-2                            [-1, 32, 64, 64]          --\n",
      "|    └─DoubleSDWConv: 2-4                     [-1, 32, 128, 128]        --\n",
      "|    |    └─SDWConv: 3-1                      [-1, 32, 128, 128]        1,376\n",
      "|    |    └─SDWConv: 3-2                      [-1, 32, 128, 128]        1,376\n",
      "|    └─MaxPool2d: 2-5                         [-1, 32, 64, 64]          --\n",
      "├─ModuleList: 1                               []                        --\n",
      "|    └─EncodeBlock: 2-6                       [-1, 64, 32, 32]          --\n",
      "|    |    └─DoubleSDWConv: 3-3                [-1, 64, 64, 64]          7,232\n",
      "|    |    └─MaxPool2d: 3-4                    [-1, 64, 32, 32]          --\n",
      "|    └─EncodeBlock: 2-7                       [-1, 128, 16, 16]         --\n",
      "|    |    └─DoubleSDWConv: 3-5                [-1, 128, 32, 32]         26,752\n",
      "|    |    └─MaxPool2d: 3-6                    [-1, 128, 16, 16]         --\n",
      "|    └─EncodeBlock: 2-8                       [-1, 256, 8, 8]           --\n",
      "|    |    └─DoubleSDWConv: 3-7                [-1, 256, 16, 16]         102,656\n",
      "|    |    └─MaxPool2d: 3-8                    [-1, 256, 8, 8]           --\n",
      "├─BottleNeck: 1-3                             [-1, 512, 8, 8]           --\n",
      "|    └─Conv2d: 2-9                            [-1, 128, 8, 8]           32,896\n",
      "|    └─AxialConvDW: 2-10                      [-1, 128, 8, 8]           --\n",
      "|    |    └─Conv2d: 3-9                       [-1, 128, 8, 8]           1,024\n",
      "|    |    └─Conv2d: 3-10                      [-1, 128, 8, 8]           1,024\n",
      "|    └─AxialConvDW: 2-11                      [-1, 128, 8, 8]           --\n",
      "|    |    └─Conv2d: 3-11                      [-1, 128, 8, 8]           1,024\n",
      "|    |    └─Conv2d: 3-12                      [-1, 128, 8, 8]           1,024\n",
      "|    └─AxialConvDW: 2-12                      [-1, 128, 8, 8]           --\n",
      "|    |    └─Conv2d: 3-13                      [-1, 128, 8, 8]           1,024\n",
      "|    |    └─Conv2d: 3-14                      [-1, 128, 8, 8]           1,024\n",
      "|    └─GroupNorm: 2-13                        [-1, 512, 8, 8]           1,024\n",
      "|    └─Conv2d: 2-14                           [-1, 512, 8, 8]           262,656\n",
      "|    └─GELU: 2-15                             [-1, 512, 8, 8]           --\n",
      "|    └─ResCBAM: 2-16                          [-1, 512, 8, 8]           --\n",
      "|    |    └─Conv2d: 3-15                      [-1, 512, 8, 8]           2,359,808\n",
      "|    |    └─ChannelAttention: 3-16            [-1, 512, 1, 1]           262,912\n",
      "|    |    └─SpatialAttention: 3-17            [-1, 1, 8, 8]             99\n",
      "|    |    └─Conv2d: 3-18                      [-1, 512, 8, 8]           (recursive)\n",
      "├─ModuleList: 1                               []                        --\n",
      "|    └─FullScaleAggregation: 2-17             [-1, 160, 16, 16]         --\n",
      "|    |    └─Sequential: 3-19                  [-1, 32, 16, 16]          11,336\n",
      "├─ModuleList: 1                               []                        --\n",
      "|    └─DecodeBlock: 2-18                      [-1, 32, 16, 16]          --\n",
      "|    |    └─Sequential: 3-20                  [-1, 32, 16, 16]          6,784\n",
      "├─ModuleList: 1                               []                        --\n",
      "|    └─DeepSupervision: 2-19                  [-1, 1, 128, 128]         --\n",
      "|    |    └─Conv2d: 3-21                      [-1, 1, 128, 128]         33\n",
      "├─ModuleList: 1                               []                        --\n",
      "|    └─FullScaleAggregation: 2-20             [-1, 160, 32, 32]         --\n",
      "|    |    └─Sequential: 3-22                  [-1, 32, 32, 32]          5,960\n",
      "├─ModuleList: 1                               []                        --\n",
      "|    └─DecodeBlock: 2-21                      [-1, 32, 32, 32]          --\n",
      "|    |    └─Sequential: 3-23                  [-1, 32, 32, 32]          6,784\n",
      "├─ModuleList: 1                               []                        --\n",
      "|    └─DeepSupervision: 2-22                  [-1, 1, 128, 128]         --\n",
      "|    |    └─Conv2d: 3-24                      [-1, 1, 128, 128]         33\n",
      "├─ModuleList: 1                               []                        --\n",
      "|    └─FullScaleAggregation: 2-23             [-1, 160, 64, 64]         --\n",
      "|    |    └─Sequential: 3-25                  [-1, 32, 64, 64]          3,272\n",
      "├─ModuleList: 1                               []                        --\n",
      "|    └─DecodeBlock: 2-24                      [-1, 32, 64, 64]          --\n",
      "|    |    └─Sequential: 3-26                  [-1, 32, 64, 64]          6,784\n",
      "├─ModuleList: 1                               []                        --\n",
      "|    └─DeepSupervision: 2-25                  [-1, 1, 128, 128]         --\n",
      "|    |    └─Conv2d: 3-27                      [-1, 1, 128, 128]         33\n",
      "├─ModuleList: 1                               []                        --\n",
      "|    └─FullScaleAggregation: 2-26             [-1, 160, 128, 128]       --\n",
      "|    |    └─Sequential: 3-28                  [-1, 32, 128, 128]        1,928\n",
      "├─ModuleList: 1                               []                        --\n",
      "|    └─DecodeBlock: 2-27                      [-1, 32, 128, 128]        --\n",
      "|    |    └─Sequential: 3-29                  [-1, 32, 128, 128]        6,784\n",
      "├─ModuleList: 1                               []                        --\n",
      "|    └─DeepSupervision: 2-28                  [-1, 1, 128, 128]         --\n",
      "|    |    └─Conv2d: 3-30                      [-1, 1, 128, 128]         33\n",
      "===============================================================================================\n",
      "Total params: 3,119,495\n",
      "Trainable params: 3,119,495\n",
      "Non-trainable params: 0\n",
      "Total mult-adds (M): 518.89\n",
      "===============================================================================================\n",
      "Input size (MB): 0.19\n",
      "Forward/backward pass size (MB): 15.00\n",
      "Params size (MB): 11.90\n",
      "Estimated Total Size (MB): 27.09\n",
      "===============================================================================================\n"
     ]
    }
   ],
   "source": [
    "if __name__ == \"__main__\":\n",
    "    inputs = torch.randn((8, 3, IMG_HEIGHT, IMG_WIDTH))\n",
    "    model = UNet3Plus()\n",
    "    outputs = model(inputs)\n",
    "    print(outputs[0].shape)\n",
    "    summary(model, (3,IMG_HEIGHT,IMG_WIDTH))"
   ]
  },
  {
   "cell_type": "code",
   "execution_count": 613,
   "id": "8540441a",
   "metadata": {},
   "outputs": [
    {
     "name": "stdout",
     "output_type": "stream",
     "text": [
      "Params: 3.24 M\n",
      "MACs: 1.32 GMac\n",
      "FLOPs: 2.64 GFLOPs\n"
     ]
    }
   ],
   "source": [
    "from ptflops import get_model_complexity_info\n",
    "\n",
    "model = UNet3Plus(deep_supervision=False).eval()\n",
    "mac, params = get_model_complexity_info(model, (3,IMG_HEIGHT,IMG_WIDTH),\n",
    "                                        as_strings=False,\n",
    "                                        print_per_layer_stat=False)\n",
    "print(f\"Params: {params/1e6:.2f} M\")\n",
    "print(f\"MACs: {mac/1e9:.2f} GMac\")\n",
    "print(f\"FLOPs: {2*mac/1e9:.2f} GFLOPs\")"
   ]
  },
  {
   "cell_type": "code",
   "execution_count": 614,
   "id": "813ba02a",
   "metadata": {},
   "outputs": [
    {
     "name": "stdout",
     "output_type": "stream",
     "text": [
      "670 65 670\n"
     ]
    }
   ],
   "source": [
    "train_dirs = next(os.walk(top = TRAIN_DIR, topdown=True))[1]\n",
    "test_dirs = next(os.walk(top = TEST_DIR, topdown=True))[1]\n",
    "masks_filenames = next(os.walk(top=TRAIN_MASKS_DIR,topdown=True))[2]\n",
    "print(len(train_dirs), len(test_dirs), len(masks_filenames))\n",
    "\n",
    "#----------------------------------------------------------------------------------------------\n",
    "train_dirs = next(os.walk(top = TRAIN_DIR, topdown=True))[1]\n",
    "train_ids, eval_ids = train_test_split(train_dirs, test_size=150, shuffle=True, random_state=18)"
   ]
  },
  {
   "cell_type": "code",
   "execution_count": 638,
   "id": "e62eafc3",
   "metadata": {},
   "outputs": [],
   "source": [
    "class DSB2018_Dataset (torch.utils.data.Dataset):\n",
    "    def __init__ (self, set_type, \n",
    "                  size = (IMG_HEIGHT, IMG_WIDTH), \n",
    "                  joint_transform = None, \n",
    "                  train_ids = train_ids, \n",
    "                  eval_ids = eval_ids, \n",
    "                  binary_mask = True,\n",
    "                  distance_map = False,\n",
    "                  clip_dist = None,\n",
    "                  normalize_phi = True):\n",
    "        \n",
    "        self.joint_transform = joint_transform\n",
    "        self.binary_mask = binary_mask\n",
    "        self.distance_map = distance_map\n",
    "        self.clip_dist = clip_dist\n",
    "        self.normalize_phi = normalize_phi\n",
    "\n",
    "        # Check for dataset type and assign correct list of sample ids (folder names)\n",
    "        if set_type.lower() == 'train':\n",
    "            self.data_ids = train_ids  \n",
    "        elif set_type.lower() == 'eval':\n",
    "            self.data_ids = eval_ids\n",
    "        else: raise ValueError('Dataset type must be \\'train\\' or \\'eval\\'.')\n",
    "\n",
    "        self.img_resize = v2.Resize(size=size, interpolation=v2.InterpolationMode.BILINEAR)\n",
    "        self.mask_resize = v2.Resize(size=size, interpolation=v2.InterpolationMode.NEAREST_EXACT)\n",
    "        self.to_float01 = v2.ToDtype(torch.float32,scale=True) #Normalize to [0,1]\n",
    "\n",
    "    def __len__(self):\n",
    "        return len(self.data_ids)\n",
    "    \n",
    "    def __distance_transform__ (self, mask):\n",
    "        mk = mask[0].cpu().numpy().astype(np.uint8) #[1,H,W]->[H,W]\n",
    "        # _edt means Euclidean distance transform \n",
    "        inner_distance = ndi.distance_transform_edt(mk) #This returns the distance to the nearest zero-element\n",
    "        outer_distance = ndi.distance_transform_edt(1-mk)\n",
    "        \n",
    "        phi = outer_distance-inner_distance #Positive outside of the foreground, negative on the inside\n",
    "        D = np.abs(phi)\n",
    "\n",
    "        if self.clip_dist is not None:\n",
    "            phi = np.clip(phi,-self.clip_dist,self.clip_dist)\n",
    "            D   = np.clip(D,0.0,self.clip_dist)\n",
    "\n",
    "        if self.normalize_phi:\n",
    "            abs_mean = np.mean(np.abs(phi)) + 1e-8\n",
    "            phi = phi / abs_mean\n",
    "\n",
    "        phi = torch.from_numpy(phi).unsqueeze(0).to(mask.dtype)\n",
    "        D = torch.from_numpy(D).unsqueeze(0).to(mask.dtype)\n",
    "\n",
    "        return phi,D\n",
    "    \n",
    "    def __getitem__(self, index):\n",
    "\n",
    "        img_id = self.data_ids[index]\n",
    "        img_path = os.path.join(TRAIN_DIR, img_id, 'images', f'{img_id}.png')\n",
    "        mask_path =  os.path.join(TRAIN_MASKS_DIR, f'{img_id}.png')\n",
    "\n",
    "        image = io.decode_image(img_path, mode= 'RGB')\n",
    "        mask = io.decode_image(mask_path, mode = 'GRAY')\n",
    "\n",
    "        if self.joint_transform is not None:\n",
    "            image, mask = self.joint_transform(image, mask)\n",
    "\n",
    "            if self.distance_map and self.binary_mask:\n",
    "                phi,D = self.__distance_transform__(mask)\n",
    "                return image, mask, phi, D\n",
    "            \n",
    "            return image, mask\n",
    "        else:\n",
    "            image = self.img_resize(image)\n",
    "            image = self.to_float01(image)\n",
    "            \n",
    "            mask = self.mask_resize(mask)\n",
    "            if mask.ndim == 2:\n",
    "                mask = mask.unsqueeze(0)\n",
    "            \n",
    "           # ---Mask binarization & handling dtype--- (Last for safety)\n",
    "            if self.binary_mask:\n",
    "                mask = (mask>0).to(torch.float32) \n",
    "            else: # Multi-class segment, which would expect mask to be of long dtype\n",
    "                mask = mask.to(torch.long)\n",
    "            \n",
    "            if self.distance_map and self.binary_mask:\n",
    "                phi,D = self.__distance_transform__(mask)\n",
    "                return image, mask, phi, D\n",
    "            \n",
    "            '''[3,H,w] & [1,H,W]'''\n",
    "            return image, mask \n"
   ]
  },
  {
   "cell_type": "code",
   "execution_count": 639,
   "id": "a699e4a3",
   "metadata": {},
   "outputs": [],
   "source": [
    "class JointTransform: # Takes both numpy and torch tensors\n",
    "\n",
    "    def __init__(self,  size = (IMG_HEIGHT,IMG_WIDTH), binary_mask = True):\n",
    "        self.size = size #True size\n",
    "        self.normalize = v2.Normalize(mean = [0.485, 0.456, 0.406], \n",
    "                                      std = [0.229, 0.224, 0.225])\n",
    "        self.img_resize = v2.Resize(size=size, interpolation=v2.InterpolationMode.BILINEAR)#Resizing size is bigger because we want to perform random crop\n",
    "        self.mask_resize = v2.Resize(size=size, interpolation=v2.InterpolationMode.NEAREST_EXACT)\n",
    "        self.to_float01 = v2.ToDtype(torch.float32,scale=True) #Normalize to [0,1]\n",
    "        self.binary_mask = binary_mask\n",
    "    \n",
    "    def _to_torch_tensor(self, input): # Accept both numpy arrays and tensors\n",
    "        if isinstance(input, np.ndarray):\n",
    "            tensor = torch.from_numpy(input) #(H,W,C) - numpy array or (H,W)\n",
    "            if tensor.ndim == 2: #(H,W)\n",
    "                tensor = tensor.unsqueeze(-1) #(H,W,1)\n",
    "            tensor = tensor.permute(2,0,1) #(1,H,W)\n",
    "        else: # Tensor (C,H,W)\n",
    "            tensor = input\n",
    "            if tensor.ndim == 2: #(H,W)\n",
    "                tensor = tensor.unsqueeze(0) #(1,H,W)\n",
    "        return tensor\n",
    "        \n",
    "    def __call__(self, image, mask):\n",
    "        #Convert ndarray to tensor\n",
    "        image = self._to_torch_tensor(image)\n",
    "        image = self.to_float01(image)\n",
    "\n",
    "        mask = self._to_torch_tensor(mask)\n",
    "        mask = mask[:1,:,:] #Ensure that mask has only one channel\n",
    "\n",
    "        # ---Resizing---\n",
    "        if image.shape[1:] != (IMG_HEIGHT,IMG_WIDTH):\n",
    "            image = self.img_resize(image)\n",
    "        if mask.shape[1:] != (IMG_HEIGHT,IMG_WIDTH):\n",
    "            mask = self.mask_resize(mask)\n",
    "\n",
    "        # ---Random crop---\n",
    "        # i,j are the coordinates that signifies where to start cropping\n",
    "        i,j,h,w = v2.RandomCrop.get_params(image, output_size=self.size)\n",
    "        image = TF.crop(image, i,j,h,w)\n",
    "        mask = TF.crop(mask, i,j,h,w)\n",
    "        \n",
    "        # ---Random horizontal flip---\n",
    "        if random.random() > 0.5:\n",
    "            image = TF.hflip(image)\n",
    "            mask = TF.hflip(mask)\n",
    "        \n",
    "        # ---Random vertical flip---\n",
    "        if random.random() > 0.5:\n",
    "            image = TF.vflip(image)\n",
    "            mask = TF.vflip(mask)\n",
    "        \n",
    "        # ---Random rotation---\n",
    "        if random.random() > 0.5:\n",
    "            angle = random.uniform(-10, 10)\n",
    "            image = TF.rotate(image, angle=angle,\n",
    "                             interpolation=v2.InterpolationMode.BILINEAR)\n",
    "            mask = TF.rotate(mask, angle=angle, \n",
    "                            interpolation=v2.InterpolationMode.NEAREST)\n",
    "\n",
    "        # ---Mask binarization & handling dtype--- (Last for safety)\n",
    "        if self.binary_mask:\n",
    "            mask = (mask>0).to(torch.float32) \n",
    "        else: # Multi-class segment, which would expect mask to be of long dtype\n",
    "            mask = mask.to(torch.long)\n",
    "\n",
    "        # ---Normalized the image---\n",
    "        image = self.normalize(image)\n",
    "      \n",
    "        '''[3,H,w] & [1,H,W]'''\n",
    "        return image, mask"
   ]
  },
  {
   "cell_type": "code",
   "execution_count": 617,
   "id": "03f080a9",
   "metadata": {},
   "outputs": [],
   "source": [
    "def Dice_IoU(pred, mask, epsilon = 1e-6):\n",
    "    # Case 1: Pred's shape is [N,2,H,W], binary is 2 classes, this was treated like multi class segmentation\n",
    "    if pred.ndim == 4 and pred.shape[1]==2:\n",
    "        pred = pred.argmax(dim = 1).unsqueeze(1) # [N,2,H,W] -> [N,H,W]\n",
    "\n",
    "    # Case 2: Pred's shape is [N,H,W] -> [N,1,H,W]\n",
    "    elif pred.ndim == 4 and pred.shape[1]==1:\n",
    "        pred = pred.squeeze(1) # [N,1,H,w] -> [N,H,W]\n",
    "    \n",
    "    pred = pred.to(torch.float32)\n",
    "\n",
    "    if pred.dtype.is_floating_point and (pred.min()<0 or pred.max()>1): # Check if the pred pixel values are float, neccessary for sigmoid function\n",
    "        pred = torch.sigmoid(pred)\n",
    "        pred = (pred >= 0.5)\n",
    "\n",
    "    mask = (mask > 0).to(torch.float32)\n",
    "\n",
    "    intersection = (pred*mask).sum(dim=(1,2))\n",
    "    union = pred.sum(dim=(1,2)) + mask.sum(dim=(1,2))\n",
    "    \n",
    "    dice = (2*intersection + epsilon)/(union + epsilon) # [N], dice score for each sample in the batch\n",
    "    iou = (intersection + epsilon) / (union - intersection + epsilon)\n",
    "\n",
    "    return dice.mean().item(), iou.mean().item()"
   ]
  },
  {
   "cell_type": "code",
   "execution_count": 618,
   "id": "f5988ddf",
   "metadata": {},
   "outputs": [],
   "source": [
    "'''---Focal Loss---'''\n",
    "class BCEFocalLoss(nn.Module):\n",
    "    def __init__(self, gamma= 4/3, alpha=None, reduction='mean'):\n",
    "        super().__init__()\n",
    "        self.gamma = gamma\n",
    "        self.alpha = alpha  # Can be a list/tuple or scalar\n",
    "        self.reduction = reduction\n",
    "\n",
    "    def forward(self, pred, mask):\n",
    "        '''\n",
    "        logits: [B, H, W] (Raw information), mask: [B, H, W] \n",
    "        '''\n",
    "        if pred.ndim==4 and pred.shape[1]==1: \n",
    "            pred = pred.squeeze(1) #[N,1,H,W] -> [N,H,W]\n",
    "        elif pred.ndim != 3: \n",
    "            raise ValueError('Predicted logit is expected to be in the size [N,1,H,W] or [N,H,W]')\n",
    "\n",
    "        if mask.ndim==4 and mask.shape[1]==1: \n",
    "            mask = mask.squeeze(1) # [N,1,H,W] -> [N,H,W]\n",
    "        elif mask.ndim !=3: \n",
    "            raise ValueError('Ground truth mask is expected to be in the size [N,1,H,W] or [N,H,W]')\n",
    "        \n",
    "        mask = mask.to(torch.float32) # Ensure the right dtype of mask, BCE loss requires float\n",
    "\n",
    "        bce = nn.functional.binary_cross_entropy_with_logits(pred, mask, reduction='none')  # [N,]\n",
    "        pt = torch.exp(-bce)  # pt = prob of true class\n",
    "\n",
    "        if self.alpha is not None:\n",
    "            at = self.alpha*mask + (1-self.alpha)*(1-mask)\n",
    "        else: at = 1.0\n",
    "\n",
    "        loss = (at*(1 - pt) ** self.gamma *(bce))\n",
    "\n",
    "        if self.reduction == 'mean':\n",
    "            return loss.mean()\n",
    "        elif self.reduction == 'sum':\n",
    "            return loss.sum()\n",
    "        \n",
    "        return loss  # no reduction"
   ]
  },
  {
   "cell_type": "code",
   "execution_count": 619,
   "id": "4e5f41cc",
   "metadata": {},
   "outputs": [],
   "source": [
    "'''---Focal Tversky Loss---'''\n",
    "class FTL(nn.Module):\n",
    "    def __init__(self, alpha = 0.3, beta = 0.7, gamma = 4/3, epsilon = 1e-6, from_logits = True, reduction = 'mean'):\n",
    "        super(FTL, self).__init__()\n",
    "        self.epsilon = epsilon\n",
    "        self.alpha = alpha\n",
    "        self.beta = beta\n",
    "        self.gamma = gamma\n",
    "        self.from_logits = from_logits\n",
    "        self.reduction = reduction\n",
    "    \n",
    "    def forward (self, pred, mask): \n",
    "        '''\n",
    "        Both pred and mask are converted into tensors before passing in\n",
    "        Mask's input shape: [N,H,W]\n",
    "        Logits(Predicted image)'s shape: [N,1,H,W]\n",
    "        logits: [N, H, W] (Raw information), mask: [N, H, W] \n",
    "        '''\n",
    "\n",
    "        # Shape\n",
    "        if pred.ndim==4 and pred.shape[1]==1:\n",
    "            pred = pred[:,0,:,:] #[N,1,H,W] -> [N,H,W]\n",
    "        elif pred.ndim != 3: \n",
    "            raise ValueError('Predicted logit is expected to be in the size [N,1,H,W] or [N,H,W]')\n",
    "\n",
    "        if mask.ndim==4 and mask.shape[1]==1:\n",
    "            mask = mask[:,0,:,:] # [N,1,H,W] -> [N,H,W]\n",
    "        elif mask.ndim !=3: \n",
    "            raise ValueError('Ground truth mask is expected to be in the size [N,1,H,W] or [N,H,W]')\n",
    "        \n",
    "        # Datatypes\n",
    "        pred = pred.to(torch.float32)\n",
    "        mask = mask.to(torch.float32)\n",
    "\n",
    "        # logits -> Probability\n",
    "        if self.from_logits: \n",
    "            prob = torch.sigmoid(pred)\n",
    "        else: prob = pred.clamp(0,1)\n",
    "        \n",
    "        # FTL\n",
    "        tp = (prob*mask).sum(dim =(1,2)) #[N,]\n",
    "        fp = (prob*(1.0-mask)).sum(dim=(1,2)) \n",
    "        fn = (mask*(1.0-prob)).sum(dim=(1,2))\n",
    "        tversky_index = (tp+self.epsilon)/(tp+self.alpha*fp+self.beta*fn+self.epsilon) #[N,]\n",
    "        loss = (1-tversky_index)**(1/self.gamma)\n",
    "        \n",
    "        # Reduction\n",
    "        if self.reduction == 'mean':\n",
    "            return loss.mean()\n",
    "        elif self.reduction == 'sum':\n",
    "            return loss.sum()\n",
    "        \n",
    "        return loss  # no reduction"
   ]
  },
  {
   "cell_type": "code",
   "execution_count": 620,
   "id": "b4106879",
   "metadata": {},
   "outputs": [],
   "source": [
    "class BoundaryLoss(nn.Module):\n",
    "    \"\"\"\n",
    "    L = <phi_G, s_theta>\n",
    "    - Binary: logits [B,1,H,W], phi [B,1,H,W]\n",
    "    - Multi : logits [B,C,H,W], phi [B,C,H,W] (one phi per class)\n",
    "    Expect phi already prepared (signed; you normalized it in the Dataset).\n",
    "    \"\"\"\n",
    "    def __init__(self, reduction=\"mean\"):\n",
    "        super().__init__()\n",
    "        self.reduction = reduction\n",
    "\n",
    "    def forward(self, logits, phi):\n",
    "        probs = torch.sigmoid(logits) if logits.shape[1] == 1 else F.softmax(logits, dim=1)\n",
    "        loss_map = probs * phi                      # <phi, s>\n",
    "        loss = loss_map.mean(dim=(1,2,3))          # per-sample\n",
    "        if self.reduction == \"mean\": return loss.mean()\n",
    "        if self.reduction == \"sum\":  return loss.sum()\n",
    "        return loss"
   ]
  },
  {
   "cell_type": "code",
   "execution_count": 621,
   "id": "ca736954",
   "metadata": {},
   "outputs": [],
   "source": [
    "def get_model(UNet = UNet3Plus,device = 'cuda',lr = 1e-3,weight_decay = 1e-5, optim = 'Adam'):\n",
    "    \n",
    "    #--- Model ---\n",
    "    model = UNet().to(device)\n",
    "    \n",
    "    #--- Loss functions ---\n",
    "    focal_tversky_loss = FTL(alpha = 0.3, beta=0.7, gamma=4/3)\n",
    "    focal_loss = BCEFocalLoss(alpha=0.75, gamma=2) \n",
    "    boundary_loss = BoundaryLoss(reduction='mean')\n",
    "    \n",
    "    #--- Optimizers ---\n",
    "    if optim == 'Adam':\n",
    "        optimizer = Adam(model.parameters(), lr = lr, weight_decay = weight_decay) \n",
    "    elif optim == 'SGD':\n",
    "        optimizer = SGD(model.parameters(), momentum=0.9, nesterov=True,lr = lr, weight_decay = weight_decay) \n",
    "    else: \n",
    "        raise ValueError('Unsupported Optimizer')\n",
    "    \n",
    "    return model, focal_tversky_loss, focal_loss, boundary_loss, optimizer"
   ]
  },
  {
   "cell_type": "code",
   "execution_count": 622,
   "id": "2ee6be3b",
   "metadata": {},
   "outputs": [],
   "source": [
    "def train_batch(model,data_batch,optimizer,\n",
    "                focal_tversky_loss,focal_loss,boundary_loss,\n",
    "                device = 'cuda',\n",
    "                head_weights = [0.1,0.1,0.2,0.6],\n",
    "                w_bdry = 0.5, w_ftl = 0.7, w_fl = 0.3):\n",
    "    model.train()\n",
    "    img, mask, phi, D = data_batch\n",
    "    img = img.to(device)\n",
    "    mask = mask.to(device)\n",
    "    phi = phi.to(device)\n",
    "    D = D.to(device)\n",
    "    \n",
    "    if mask.ndim == 4 and mask.shape[1] == 1:\n",
    "        mask = mask.squeeze(1)  # -> [N,H,W]\n",
    "        \n",
    "    mask = (mask > 0).to(torch.float32)\n",
    "\n",
    "    optimizer.zero_grad()\n",
    "    \n",
    "\n",
    "    logits = model(img) \n",
    "    total_loss = 0.0\n",
    "\n",
    "    for logit, w in zip(logits,head_weights):\n",
    "        if logit.shape[2:]!=mask.shape[1:]:\n",
    "            logit = F.interpolate(logit, size=mask.shape[1:], mode='bilinear', align_corners=False)\n",
    "        loss = w_ftl*focal_tversky_loss(logit, mask) + w_fl*focal_loss(logit,mask) + w_bdry*boundary_loss(logit, phi)\n",
    "        total_loss += loss*w\n",
    "\n",
    "    total_loss.backward()\n",
    "    optimizer.step() \n",
    "\n",
    "    final_logit = logits[-1]\n",
    "    final_pred = (torch.sigmoid(final_logit)>=0.5)\n",
    "    dice, iou = Dice_IoU(final_pred,mask)\n",
    "    pixel_acc = (final_pred==mask).float().mean()\n",
    "\n",
    "    return total_loss.item(), dice, iou, pixel_acc"
   ]
  },
  {
   "cell_type": "markdown",
   "id": "556d4bad",
   "metadata": {},
   "source": [
    "## ***Training***"
   ]
  },
  {
   "cell_type": "markdown",
   "id": "b05f2313",
   "metadata": {},
   "source": [
    "### Loading data into batches"
   ]
  },
  {
   "cell_type": "code",
   "execution_count": 623,
   "id": "9ebbbbb5",
   "metadata": {},
   "outputs": [],
   "source": [
    "train_data = DSB2018_Dataset(set_type='train', \n",
    "                             joint_transform= JointTransform(),\n",
    "                             distance_map=True,\n",
    "                             binary_mask=True)\n",
    "trn_dl = DataLoader(train_data, batch_size = 16, shuffle = True)\n",
    "img, mk, phi, D = next(iter(trn_dl))"
   ]
  },
  {
   "cell_type": "code",
   "execution_count": 624,
   "id": "27f1116f",
   "metadata": {},
   "outputs": [],
   "source": [
    "#Warming up for boundary loss\n",
    "def ramp_weight(epoch, start=3, end=15, max_w=0.2):\n",
    "    if epoch < start:\n",
    "        return 0.0\n",
    "    if epoch >= end:\n",
    "        return max_w\n",
    "    # linear ramp\n",
    "    return max_w * (epoch - start) / (end - start)"
   ]
  },
  {
   "cell_type": "code",
   "execution_count": 626,
   "id": "862152c3",
   "metadata": {},
   "outputs": [
    {
     "name": "stdout",
     "output_type": "stream",
     "text": [
      "torch.Size([16, 3, 128, 128]) torch.Size([16, 1, 128, 128])\n"
     ]
    },
    {
     "name": "stderr",
     "output_type": "stream",
     "text": [
      "CURRENT EPOCH: 0: 100%|██████████| 33/33 [00:10<00:00,  3.02it/s]\n"
     ]
    },
    {
     "name": "stdout",
     "output_type": "stream",
     "text": [
      "Learning rate: 0.001000\n",
      "Epoch loss = 0.4682, pixel accuracy = 46.7071%\n",
      "Dice score = 49.7151%, IoU = 37.8239%\n",
      "\n"
     ]
    },
    {
     "name": "stderr",
     "output_type": "stream",
     "text": [
      "CURRENT EPOCH: 1: 100%|██████████| 33/33 [00:09<00:00,  3.39it/s]\n"
     ]
    },
    {
     "name": "stdout",
     "output_type": "stream",
     "text": [
      "Learning rate: 0.001000\n",
      "Epoch loss = 0.2674, pixel accuracy = 67.8282%\n",
      "Dice score = 81.1725%, IoU = 70.0929%\n",
      "\n"
     ]
    },
    {
     "name": "stderr",
     "output_type": "stream",
     "text": [
      "CURRENT EPOCH: 2: 100%|██████████| 33/33 [00:09<00:00,  3.32it/s]\n"
     ]
    },
    {
     "name": "stdout",
     "output_type": "stream",
     "text": [
      "Learning rate: 0.001000\n",
      "Epoch loss = 0.1770, pixel accuracy = 68.2080%\n",
      "Dice score = 86.2397%, IoU = 77.2075%\n",
      "\n"
     ]
    },
    {
     "name": "stderr",
     "output_type": "stream",
     "text": [
      "CURRENT EPOCH: 3: 100%|██████████| 33/33 [00:09<00:00,  3.54it/s]\n"
     ]
    },
    {
     "name": "stdout",
     "output_type": "stream",
     "text": [
      "Learning rate: 0.001000\n",
      "Epoch loss = 0.1688, pixel accuracy = 68.0874%\n",
      "Dice score = 86.3279%, IoU = 77.4223%\n",
      "\n"
     ]
    },
    {
     "name": "stderr",
     "output_type": "stream",
     "text": [
      "CURRENT EPOCH: 4: 100%|██████████| 33/33 [00:09<00:00,  3.57it/s]\n"
     ]
    },
    {
     "name": "stdout",
     "output_type": "stream",
     "text": [
      "Learning rate: 0.001000\n",
      "Epoch loss = 0.1532, pixel accuracy = 68.2777%\n",
      "Dice score = 87.6959%, IoU = 79.3375%\n",
      "\n"
     ]
    },
    {
     "name": "stderr",
     "output_type": "stream",
     "text": [
      "CURRENT EPOCH: 5: 100%|██████████| 33/33 [00:09<00:00,  3.57it/s]\n"
     ]
    },
    {
     "name": "stdout",
     "output_type": "stream",
     "text": [
      "Learning rate: 0.001000\n",
      "Epoch loss = 0.1399, pixel accuracy = 68.3750%\n",
      "Dice score = 88.5840%, IoU = 80.6509%\n",
      "\n"
     ]
    },
    {
     "name": "stderr",
     "output_type": "stream",
     "text": [
      "CURRENT EPOCH: 6: 100%|██████████| 33/33 [00:09<00:00,  3.45it/s]\n"
     ]
    },
    {
     "name": "stdout",
     "output_type": "stream",
     "text": [
      "Learning rate: 0.001000\n",
      "Epoch loss = 0.1417, pixel accuracy = 68.3034%\n",
      "Dice score = 87.9644%, IoU = 79.8446%\n",
      "\n"
     ]
    },
    {
     "name": "stderr",
     "output_type": "stream",
     "text": [
      "CURRENT EPOCH: 7: 100%|██████████| 33/33 [00:09<00:00,  3.51it/s]\n"
     ]
    },
    {
     "name": "stdout",
     "output_type": "stream",
     "text": [
      "Learning rate: 0.001000\n",
      "Epoch loss = 0.1294, pixel accuracy = 68.4104%\n",
      "Dice score = 88.7196%, IoU = 80.7761%\n",
      "\n"
     ]
    },
    {
     "name": "stderr",
     "output_type": "stream",
     "text": [
      "CURRENT EPOCH: 8: 100%|██████████| 33/33 [00:09<00:00,  3.48it/s]\n"
     ]
    },
    {
     "name": "stdout",
     "output_type": "stream",
     "text": [
      "Learning rate: 0.001000\n",
      "Epoch loss = 0.1240, pixel accuracy = 68.5237%\n",
      "Dice score = 89.0281%, IoU = 81.3168%\n",
      "\n"
     ]
    },
    {
     "name": "stderr",
     "output_type": "stream",
     "text": [
      "CURRENT EPOCH: 9: 100%|██████████| 33/33 [00:09<00:00,  3.45it/s]\n"
     ]
    },
    {
     "name": "stdout",
     "output_type": "stream",
     "text": [
      "Learning rate: 0.001000\n",
      "Epoch loss = 0.1204, pixel accuracy = 68.2008%\n",
      "Dice score = 88.6617%, IoU = 80.7896%\n",
      "\n"
     ]
    },
    {
     "name": "stderr",
     "output_type": "stream",
     "text": [
      "CURRENT EPOCH: 10: 100%|██████████| 33/33 [00:09<00:00,  3.53it/s]\n"
     ]
    },
    {
     "name": "stdout",
     "output_type": "stream",
     "text": [
      "Learning rate: 0.001000\n",
      "Epoch loss = 0.1164, pixel accuracy = 68.6408%\n",
      "Dice score = 88.9482%, IoU = 81.2744%\n",
      "\n"
     ]
    },
    {
     "name": "stderr",
     "output_type": "stream",
     "text": [
      "CURRENT EPOCH: 11: 100%|██████████| 33/33 [00:09<00:00,  3.53it/s]\n"
     ]
    },
    {
     "name": "stdout",
     "output_type": "stream",
     "text": [
      "Learning rate: 0.001000\n",
      "Epoch loss = 0.1086, pixel accuracy = 68.4546%\n",
      "Dice score = 89.2395%, IoU = 81.6003%\n",
      "\n"
     ]
    },
    {
     "name": "stderr",
     "output_type": "stream",
     "text": [
      "CURRENT EPOCH: 12: 100%|██████████| 33/33 [00:09<00:00,  3.52it/s]\n"
     ]
    },
    {
     "name": "stdout",
     "output_type": "stream",
     "text": [
      "Learning rate: 0.001000\n",
      "Epoch loss = 0.1017, pixel accuracy = 68.7470%\n",
      "Dice score = 89.6414%, IoU = 82.1220%\n",
      "\n"
     ]
    },
    {
     "name": "stderr",
     "output_type": "stream",
     "text": [
      "CURRENT EPOCH: 13: 100%|██████████| 33/33 [00:09<00:00,  3.57it/s]\n"
     ]
    },
    {
     "name": "stdout",
     "output_type": "stream",
     "text": [
      "Learning rate: 0.001000\n",
      "Epoch loss = 0.0959, pixel accuracy = 68.6049%\n",
      "Dice score = 89.7383%, IoU = 82.2664%\n",
      "\n"
     ]
    },
    {
     "name": "stderr",
     "output_type": "stream",
     "text": [
      "CURRENT EPOCH: 14: 100%|██████████| 33/33 [00:09<00:00,  3.49it/s]\n"
     ]
    },
    {
     "name": "stdout",
     "output_type": "stream",
     "text": [
      "Learning rate: 0.001000\n",
      "Epoch loss = 0.0918, pixel accuracy = 68.5859%\n",
      "Dice score = 89.8391%, IoU = 82.4567%\n",
      "\n"
     ]
    },
    {
     "name": "stderr",
     "output_type": "stream",
     "text": [
      "CURRENT EPOCH: 15: 100%|██████████| 33/33 [00:09<00:00,  3.57it/s]\n"
     ]
    },
    {
     "name": "stdout",
     "output_type": "stream",
     "text": [
      "Learning rate: 0.001000\n",
      "Epoch loss = 0.0875, pixel accuracy = 68.6636%\n",
      "Dice score = 89.9035%, IoU = 82.5001%\n",
      "\n"
     ]
    },
    {
     "name": "stderr",
     "output_type": "stream",
     "text": [
      "CURRENT EPOCH: 16: 100%|██████████| 33/33 [00:09<00:00,  3.56it/s]\n"
     ]
    },
    {
     "name": "stdout",
     "output_type": "stream",
     "text": [
      "Learning rate: 0.001000\n",
      "Epoch loss = 0.0934, pixel accuracy = 68.6588%\n",
      "Dice score = 89.0915%, IoU = 81.3748%\n",
      "\n"
     ]
    },
    {
     "name": "stderr",
     "output_type": "stream",
     "text": [
      "CURRENT EPOCH: 17: 100%|██████████| 33/33 [00:09<00:00,  3.57it/s]\n"
     ]
    },
    {
     "name": "stdout",
     "output_type": "stream",
     "text": [
      "Learning rate: 0.001000\n",
      "Epoch loss = 0.0918, pixel accuracy = 68.6641%\n",
      "Dice score = 89.3568%, IoU = 82.0361%\n",
      "\n"
     ]
    },
    {
     "name": "stderr",
     "output_type": "stream",
     "text": [
      "CURRENT EPOCH: 18: 100%|██████████| 33/33 [00:09<00:00,  3.58it/s]\n"
     ]
    },
    {
     "name": "stdout",
     "output_type": "stream",
     "text": [
      "Learning rate: 0.001000\n",
      "Epoch loss = 0.0920, pixel accuracy = 68.6188%\n",
      "Dice score = 89.3225%, IoU = 81.6717%\n",
      "\n"
     ]
    },
    {
     "name": "stderr",
     "output_type": "stream",
     "text": [
      "CURRENT EPOCH: 19: 100%|██████████| 33/33 [00:09<00:00,  3.55it/s]\n"
     ]
    },
    {
     "name": "stdout",
     "output_type": "stream",
     "text": [
      "Learning rate: 0.001000\n",
      "Epoch loss = 0.0858, pixel accuracy = 68.6305%\n",
      "Dice score = 89.9722%, IoU = 82.5610%\n",
      "\n"
     ]
    },
    {
     "name": "stderr",
     "output_type": "stream",
     "text": [
      "CURRENT EPOCH: 20: 100%|██████████| 33/33 [00:09<00:00,  3.57it/s]\n"
     ]
    },
    {
     "name": "stdout",
     "output_type": "stream",
     "text": [
      "Learning rate: 0.001000\n",
      "Epoch loss = 0.0817, pixel accuracy = 68.8745%\n",
      "Dice score = 90.3882%, IoU = 83.1539%\n",
      "\n"
     ]
    },
    {
     "name": "stderr",
     "output_type": "stream",
     "text": [
      "CURRENT EPOCH: 21: 100%|██████████| 33/33 [00:09<00:00,  3.53it/s]\n"
     ]
    },
    {
     "name": "stdout",
     "output_type": "stream",
     "text": [
      "Learning rate: 0.001000\n",
      "Epoch loss = 0.0826, pixel accuracy = 68.5591%\n",
      "Dice score = 90.2247%, IoU = 82.9558%\n",
      "\n"
     ]
    },
    {
     "name": "stderr",
     "output_type": "stream",
     "text": [
      "CURRENT EPOCH: 22: 100%|██████████| 33/33 [00:09<00:00,  3.53it/s]\n"
     ]
    },
    {
     "name": "stdout",
     "output_type": "stream",
     "text": [
      "Learning rate: 0.001000\n",
      "Epoch loss = 0.0876, pixel accuracy = 68.7397%\n",
      "Dice score = 89.9310%, IoU = 82.6108%\n",
      "\n"
     ]
    },
    {
     "name": "stderr",
     "output_type": "stream",
     "text": [
      "CURRENT EPOCH: 23: 100%|██████████| 33/33 [00:09<00:00,  3.55it/s]\n"
     ]
    },
    {
     "name": "stdout",
     "output_type": "stream",
     "text": [
      "Learning rate: 0.001000\n",
      "Epoch loss = 0.0828, pixel accuracy = 68.7438%\n",
      "Dice score = 90.1759%, IoU = 82.8588%\n",
      "\n"
     ]
    },
    {
     "name": "stderr",
     "output_type": "stream",
     "text": [
      "CURRENT EPOCH: 24: 100%|██████████| 33/33 [00:09<00:00,  3.59it/s]\n"
     ]
    },
    {
     "name": "stdout",
     "output_type": "stream",
     "text": [
      "Learning rate: 0.001000\n",
      "Epoch loss = 0.0810, pixel accuracy = 68.8494%\n",
      "Dice score = 90.4496%, IoU = 83.2619%\n",
      "\n"
     ]
    },
    {
     "name": "stderr",
     "output_type": "stream",
     "text": [
      "CURRENT EPOCH: 25: 100%|██████████| 33/33 [00:09<00:00,  3.56it/s]\n"
     ]
    },
    {
     "name": "stdout",
     "output_type": "stream",
     "text": [
      "Learning rate: 0.001000\n",
      "Epoch loss = 0.0794, pixel accuracy = 68.8401%\n",
      "Dice score = 90.7417%, IoU = 83.7236%\n",
      "\n"
     ]
    },
    {
     "name": "stderr",
     "output_type": "stream",
     "text": [
      "CURRENT EPOCH: 26: 100%|██████████| 33/33 [00:09<00:00,  3.58it/s]\n"
     ]
    },
    {
     "name": "stdout",
     "output_type": "stream",
     "text": [
      "Learning rate: 0.001000\n",
      "Epoch loss = 0.0808, pixel accuracy = 68.6102%\n",
      "Dice score = 90.3488%, IoU = 83.1389%\n",
      "\n"
     ]
    },
    {
     "name": "stderr",
     "output_type": "stream",
     "text": [
      "CURRENT EPOCH: 27: 100%|██████████| 33/33 [00:09<00:00,  3.44it/s]\n"
     ]
    },
    {
     "name": "stdout",
     "output_type": "stream",
     "text": [
      "Learning rate: 0.001000\n",
      "Epoch loss = 0.0796, pixel accuracy = 68.8479%\n",
      "Dice score = 90.5274%, IoU = 83.3192%\n",
      "\n"
     ]
    },
    {
     "name": "stderr",
     "output_type": "stream",
     "text": [
      "CURRENT EPOCH: 28: 100%|██████████| 33/33 [00:09<00:00,  3.41it/s]\n"
     ]
    },
    {
     "name": "stdout",
     "output_type": "stream",
     "text": [
      "Learning rate: 0.001000\n",
      "Epoch loss = 0.0808, pixel accuracy = 68.6426%\n",
      "Dice score = 90.3448%, IoU = 83.0875%\n",
      "\n"
     ]
    },
    {
     "name": "stderr",
     "output_type": "stream",
     "text": [
      "CURRENT EPOCH: 29: 100%|██████████| 33/33 [00:09<00:00,  3.50it/s]\n"
     ]
    },
    {
     "name": "stdout",
     "output_type": "stream",
     "text": [
      "Learning rate: 0.001000\n",
      "Epoch loss = 0.0811, pixel accuracy = 68.7387%\n",
      "Dice score = 90.4283%, IoU = 83.3296%\n",
      "\n"
     ]
    },
    {
     "name": "stderr",
     "output_type": "stream",
     "text": [
      "CURRENT EPOCH: 30: 100%|██████████| 33/33 [00:09<00:00,  3.51it/s]\n"
     ]
    },
    {
     "name": "stdout",
     "output_type": "stream",
     "text": [
      "Learning rate: 0.001000\n",
      "Epoch loss = 0.0804, pixel accuracy = 68.8045%\n",
      "Dice score = 90.5239%, IoU = 83.4052%\n",
      "\n"
     ]
    },
    {
     "name": "stderr",
     "output_type": "stream",
     "text": [
      "CURRENT EPOCH: 31: 100%|██████████| 33/33 [00:09<00:00,  3.55it/s]\n"
     ]
    },
    {
     "name": "stdout",
     "output_type": "stream",
     "text": [
      "Learning rate: 0.000800\n",
      "Epoch loss = 0.0806, pixel accuracy = 68.8645%\n",
      "Dice score = 90.3911%, IoU = 83.1654%\n",
      "\n"
     ]
    },
    {
     "name": "stderr",
     "output_type": "stream",
     "text": [
      "CURRENT EPOCH: 32: 100%|██████████| 33/33 [00:09<00:00,  3.55it/s]\n"
     ]
    },
    {
     "name": "stdout",
     "output_type": "stream",
     "text": [
      "Learning rate: 0.000800\n",
      "Epoch loss = 0.0771, pixel accuracy = 68.7845%\n",
      "Dice score = 90.7458%, IoU = 83.7153%\n",
      "\n"
     ]
    },
    {
     "name": "stderr",
     "output_type": "stream",
     "text": [
      "CURRENT EPOCH: 33: 100%|██████████| 33/33 [00:09<00:00,  3.57it/s]\n"
     ]
    },
    {
     "name": "stdout",
     "output_type": "stream",
     "text": [
      "Learning rate: 0.000800\n",
      "Epoch loss = 0.0764, pixel accuracy = 68.9183%\n",
      "Dice score = 90.8658%, IoU = 83.8744%\n",
      "\n"
     ]
    },
    {
     "name": "stderr",
     "output_type": "stream",
     "text": [
      "CURRENT EPOCH: 34: 100%|██████████| 33/33 [00:09<00:00,  3.53it/s]\n"
     ]
    },
    {
     "name": "stdout",
     "output_type": "stream",
     "text": [
      "Learning rate: 0.000800\n",
      "Epoch loss = 0.0763, pixel accuracy = 68.8187%\n",
      "Dice score = 90.7323%, IoU = 83.7111%\n",
      "\n"
     ]
    },
    {
     "name": "stderr",
     "output_type": "stream",
     "text": [
      "CURRENT EPOCH: 35: 100%|██████████| 33/33 [00:09<00:00,  3.57it/s]\n"
     ]
    },
    {
     "name": "stdout",
     "output_type": "stream",
     "text": [
      "Learning rate: 0.000800\n",
      "Epoch loss = 0.0770, pixel accuracy = 68.8626%\n",
      "Dice score = 90.8520%, IoU = 83.8778%\n",
      "\n"
     ]
    },
    {
     "name": "stderr",
     "output_type": "stream",
     "text": [
      "CURRENT EPOCH: 36: 100%|██████████| 33/33 [00:09<00:00,  3.57it/s]\n"
     ]
    },
    {
     "name": "stdout",
     "output_type": "stream",
     "text": [
      "Learning rate: 0.000800\n",
      "Epoch loss = 0.0746, pixel accuracy = 68.8971%\n",
      "Dice score = 90.9979%, IoU = 84.0901%\n",
      "\n"
     ]
    },
    {
     "name": "stderr",
     "output_type": "stream",
     "text": [
      "CURRENT EPOCH: 37: 100%|██████████| 33/33 [00:09<00:00,  3.58it/s]\n"
     ]
    },
    {
     "name": "stdout",
     "output_type": "stream",
     "text": [
      "Learning rate: 0.000800\n",
      "Epoch loss = 0.0767, pixel accuracy = 68.7950%\n",
      "Dice score = 90.7464%, IoU = 83.7521%\n",
      "\n"
     ]
    },
    {
     "name": "stderr",
     "output_type": "stream",
     "text": [
      "CURRENT EPOCH: 38: 100%|██████████| 33/33 [00:09<00:00,  3.56it/s]\n"
     ]
    },
    {
     "name": "stdout",
     "output_type": "stream",
     "text": [
      "Learning rate: 0.000800\n",
      "Epoch loss = 0.0767, pixel accuracy = 68.6607%\n",
      "Dice score = 90.6852%, IoU = 83.7370%\n",
      "\n"
     ]
    },
    {
     "name": "stderr",
     "output_type": "stream",
     "text": [
      "CURRENT EPOCH: 39: 100%|██████████| 33/33 [00:09<00:00,  3.57it/s]\n"
     ]
    },
    {
     "name": "stdout",
     "output_type": "stream",
     "text": [
      "Learning rate: 0.000800\n",
      "Epoch loss = 0.0767, pixel accuracy = 68.7579%\n",
      "Dice score = 90.7113%, IoU = 83.6861%\n",
      "\n"
     ]
    },
    {
     "name": "stderr",
     "output_type": "stream",
     "text": [
      "CURRENT EPOCH: 40: 100%|██████████| 33/33 [00:09<00:00,  3.46it/s]\n"
     ]
    },
    {
     "name": "stdout",
     "output_type": "stream",
     "text": [
      "Learning rate: 0.000800\n",
      "Epoch loss = 0.0734, pixel accuracy = 68.7816%\n",
      "Dice score = 91.1162%, IoU = 84.2885%\n",
      "\n"
     ]
    },
    {
     "name": "stderr",
     "output_type": "stream",
     "text": [
      "CURRENT EPOCH: 41: 100%|██████████| 33/33 [00:09<00:00,  3.51it/s]\n"
     ]
    },
    {
     "name": "stdout",
     "output_type": "stream",
     "text": [
      "Learning rate: 0.000800\n",
      "Epoch loss = 0.0746, pixel accuracy = 69.0227%\n",
      "Dice score = 90.9423%, IoU = 83.9769%\n",
      "\n"
     ]
    },
    {
     "name": "stderr",
     "output_type": "stream",
     "text": [
      "CURRENT EPOCH: 42: 100%|██████████| 33/33 [00:09<00:00,  3.50it/s]\n"
     ]
    },
    {
     "name": "stdout",
     "output_type": "stream",
     "text": [
      "Learning rate: 0.000800\n",
      "Epoch loss = 0.0743, pixel accuracy = 68.8280%\n",
      "Dice score = 91.0643%, IoU = 84.2550%\n",
      "\n"
     ]
    },
    {
     "name": "stderr",
     "output_type": "stream",
     "text": [
      "CURRENT EPOCH: 43: 100%|██████████| 33/33 [00:09<00:00,  3.51it/s]\n"
     ]
    },
    {
     "name": "stdout",
     "output_type": "stream",
     "text": [
      "Learning rate: 0.000800\n",
      "Epoch loss = 0.0752, pixel accuracy = 68.7128%\n",
      "Dice score = 90.9194%, IoU = 83.9657%\n",
      "\n"
     ]
    },
    {
     "name": "stderr",
     "output_type": "stream",
     "text": [
      "CURRENT EPOCH: 44: 100%|██████████| 33/33 [00:09<00:00,  3.53it/s]\n"
     ]
    },
    {
     "name": "stdout",
     "output_type": "stream",
     "text": [
      "Learning rate: 0.000640\n",
      "Epoch loss = 0.0728, pixel accuracy = 68.7001%\n",
      "Dice score = 91.0217%, IoU = 84.1346%\n",
      "\n"
     ]
    },
    {
     "name": "stderr",
     "output_type": "stream",
     "text": [
      "CURRENT EPOCH: 45: 100%|██████████| 33/33 [00:09<00:00,  3.56it/s]\n"
     ]
    },
    {
     "name": "stdout",
     "output_type": "stream",
     "text": [
      "Learning rate: 0.000640\n",
      "Epoch loss = 0.0731, pixel accuracy = 68.8289%\n",
      "Dice score = 91.2163%, IoU = 84.4261%\n",
      "\n"
     ]
    },
    {
     "name": "stderr",
     "output_type": "stream",
     "text": [
      "CURRENT EPOCH: 46: 100%|██████████| 33/33 [00:09<00:00,  3.53it/s]\n"
     ]
    },
    {
     "name": "stdout",
     "output_type": "stream",
     "text": [
      "Learning rate: 0.000640\n",
      "Epoch loss = 0.0722, pixel accuracy = 68.8614%\n",
      "Dice score = 91.2715%, IoU = 84.5134%\n",
      "\n"
     ]
    },
    {
     "name": "stderr",
     "output_type": "stream",
     "text": [
      "CURRENT EPOCH: 47: 100%|██████████| 33/33 [00:09<00:00,  3.48it/s]\n"
     ]
    },
    {
     "name": "stdout",
     "output_type": "stream",
     "text": [
      "Learning rate: 0.000640\n",
      "Epoch loss = 0.0721, pixel accuracy = 68.7702%\n",
      "Dice score = 91.2390%, IoU = 84.4320%\n",
      "\n"
     ]
    },
    {
     "name": "stderr",
     "output_type": "stream",
     "text": [
      "CURRENT EPOCH: 48: 100%|██████████| 33/33 [00:09<00:00,  3.51it/s]\n"
     ]
    },
    {
     "name": "stdout",
     "output_type": "stream",
     "text": [
      "Learning rate: 0.000640\n",
      "Epoch loss = 0.0758, pixel accuracy = 68.8668%\n",
      "Dice score = 90.9267%, IoU = 84.0075%\n",
      "\n"
     ]
    },
    {
     "name": "stderr",
     "output_type": "stream",
     "text": [
      "CURRENT EPOCH: 49: 100%|██████████| 33/33 [00:09<00:00,  3.52it/s]\n"
     ]
    },
    {
     "name": "stdout",
     "output_type": "stream",
     "text": [
      "Learning rate: 0.000640\n",
      "Epoch loss = 0.0726, pixel accuracy = 68.7859%\n",
      "Dice score = 91.1784%, IoU = 84.4198%\n",
      "\n"
     ]
    },
    {
     "name": "stderr",
     "output_type": "stream",
     "text": [
      "CURRENT EPOCH: 50: 100%|██████████| 33/33 [00:09<00:00,  3.53it/s]\n"
     ]
    },
    {
     "name": "stdout",
     "output_type": "stream",
     "text": [
      "Learning rate: 0.000640\n",
      "Epoch loss = 0.0732, pixel accuracy = 68.9100%\n",
      "Dice score = 90.9723%, IoU = 84.0848%\n",
      "\n"
     ]
    },
    {
     "name": "stderr",
     "output_type": "stream",
     "text": [
      "CURRENT EPOCH: 51: 100%|██████████| 33/33 [00:09<00:00,  3.55it/s]\n"
     ]
    },
    {
     "name": "stdout",
     "output_type": "stream",
     "text": [
      "Learning rate: 0.000640\n",
      "Epoch loss = 0.0717, pixel accuracy = 68.6747%\n",
      "Dice score = 91.1356%, IoU = 84.3183%\n",
      "\n"
     ]
    },
    {
     "name": "stderr",
     "output_type": "stream",
     "text": [
      "CURRENT EPOCH: 52: 100%|██████████| 33/33 [00:09<00:00,  3.55it/s]\n"
     ]
    },
    {
     "name": "stdout",
     "output_type": "stream",
     "text": [
      "Learning rate: 0.000640\n",
      "Epoch loss = 0.0722, pixel accuracy = 68.8217%\n",
      "Dice score = 91.2232%, IoU = 84.4750%\n",
      "\n"
     ]
    },
    {
     "name": "stderr",
     "output_type": "stream",
     "text": [
      "CURRENT EPOCH: 53: 100%|██████████| 33/33 [00:09<00:00,  3.50it/s]\n"
     ]
    },
    {
     "name": "stdout",
     "output_type": "stream",
     "text": [
      "Learning rate: 0.000640\n",
      "Epoch loss = 0.0720, pixel accuracy = 68.8051%\n",
      "Dice score = 91.2149%, IoU = 84.4673%\n",
      "\n"
     ]
    },
    {
     "name": "stderr",
     "output_type": "stream",
     "text": [
      "CURRENT EPOCH: 54: 100%|██████████| 33/33 [00:09<00:00,  3.54it/s]\n"
     ]
    },
    {
     "name": "stdout",
     "output_type": "stream",
     "text": [
      "Learning rate: 0.000640\n",
      "Epoch loss = 0.0705, pixel accuracy = 68.6442%\n",
      "Dice score = 91.2075%, IoU = 84.4161%\n",
      "\n"
     ]
    },
    {
     "name": "stderr",
     "output_type": "stream",
     "text": [
      "CURRENT EPOCH: 55: 100%|██████████| 33/33 [00:09<00:00,  3.53it/s]\n"
     ]
    },
    {
     "name": "stdout",
     "output_type": "stream",
     "text": [
      "Learning rate: 0.000512\n",
      "Epoch loss = 0.0718, pixel accuracy = 68.6921%\n",
      "Dice score = 91.2157%, IoU = 84.5267%\n",
      "\n"
     ]
    },
    {
     "name": "stderr",
     "output_type": "stream",
     "text": [
      "CURRENT EPOCH: 56: 100%|██████████| 33/33 [00:09<00:00,  3.54it/s]\n"
     ]
    },
    {
     "name": "stdout",
     "output_type": "stream",
     "text": [
      "Learning rate: 0.000512\n",
      "Epoch loss = 0.0712, pixel accuracy = 68.9975%\n",
      "Dice score = 91.3092%, IoU = 84.6113%\n",
      "\n"
     ]
    },
    {
     "name": "stderr",
     "output_type": "stream",
     "text": [
      "CURRENT EPOCH: 57: 100%|██████████| 33/33 [00:09<00:00,  3.53it/s]\n"
     ]
    },
    {
     "name": "stdout",
     "output_type": "stream",
     "text": [
      "Learning rate: 0.000512\n",
      "Epoch loss = 0.0700, pixel accuracy = 68.8382%\n",
      "Dice score = 91.4761%, IoU = 84.8388%\n",
      "\n"
     ]
    },
    {
     "name": "stderr",
     "output_type": "stream",
     "text": [
      "CURRENT EPOCH: 58: 100%|██████████| 33/33 [00:09<00:00,  3.56it/s]\n"
     ]
    },
    {
     "name": "stdout",
     "output_type": "stream",
     "text": [
      "Learning rate: 0.000512\n",
      "Epoch loss = 0.0701, pixel accuracy = 68.9304%\n",
      "Dice score = 91.3593%, IoU = 84.6289%\n",
      "\n"
     ]
    },
    {
     "name": "stderr",
     "output_type": "stream",
     "text": [
      "CURRENT EPOCH: 59: 100%|██████████| 33/33 [00:09<00:00,  3.49it/s]\n"
     ]
    },
    {
     "name": "stdout",
     "output_type": "stream",
     "text": [
      "Learning rate: 0.000512\n",
      "Epoch loss = 0.0705, pixel accuracy = 69.0003%\n",
      "Dice score = 91.3621%, IoU = 84.6650%\n",
      "\n"
     ]
    },
    {
     "name": "stderr",
     "output_type": "stream",
     "text": [
      "CURRENT EPOCH: 60: 100%|██████████| 33/33 [00:09<00:00,  3.54it/s]\n"
     ]
    },
    {
     "name": "stdout",
     "output_type": "stream",
     "text": [
      "Learning rate: 0.000512\n",
      "Epoch loss = 0.0705, pixel accuracy = 68.7541%\n",
      "Dice score = 91.2360%, IoU = 84.4474%\n",
      "\n"
     ]
    },
    {
     "name": "stderr",
     "output_type": "stream",
     "text": [
      "CURRENT EPOCH: 61: 100%|██████████| 33/33 [00:09<00:00,  3.54it/s]\n"
     ]
    },
    {
     "name": "stdout",
     "output_type": "stream",
     "text": [
      "Learning rate: 0.000512\n",
      "Epoch loss = 0.0699, pixel accuracy = 68.6790%\n",
      "Dice score = 91.3696%, IoU = 84.7688%\n",
      "\n"
     ]
    },
    {
     "name": "stderr",
     "output_type": "stream",
     "text": [
      "CURRENT EPOCH: 62: 100%|██████████| 33/33 [00:09<00:00,  3.55it/s]\n"
     ]
    },
    {
     "name": "stdout",
     "output_type": "stream",
     "text": [
      "Learning rate: 0.000512\n",
      "Epoch loss = 0.0707, pixel accuracy = 68.9572%\n",
      "Dice score = 91.2736%, IoU = 84.5242%\n",
      "\n"
     ]
    },
    {
     "name": "stderr",
     "output_type": "stream",
     "text": [
      "CURRENT EPOCH: 63: 100%|██████████| 33/33 [00:09<00:00,  3.53it/s]\n"
     ]
    },
    {
     "name": "stdout",
     "output_type": "stream",
     "text": [
      "Learning rate: 0.000512\n",
      "Epoch loss = 0.0704, pixel accuracy = 68.9492%\n",
      "Dice score = 91.2963%, IoU = 84.5392%\n",
      "\n"
     ]
    },
    {
     "name": "stderr",
     "output_type": "stream",
     "text": [
      "CURRENT EPOCH: 64: 100%|██████████| 33/33 [00:09<00:00,  3.52it/s]\n"
     ]
    },
    {
     "name": "stdout",
     "output_type": "stream",
     "text": [
      "Learning rate: 0.000512\n",
      "Epoch loss = 0.0720, pixel accuracy = 68.8326%\n",
      "Dice score = 91.2803%, IoU = 84.5381%\n",
      "\n"
     ]
    },
    {
     "name": "stderr",
     "output_type": "stream",
     "text": [
      "CURRENT EPOCH: 65: 100%|██████████| 33/33 [00:09<00:00,  3.51it/s]\n"
     ]
    },
    {
     "name": "stdout",
     "output_type": "stream",
     "text": [
      "Learning rate: 0.000512\n",
      "Epoch loss = 0.0702, pixel accuracy = 68.6741%\n",
      "Dice score = 91.3197%, IoU = 84.5546%\n",
      "\n"
     ]
    },
    {
     "name": "stderr",
     "output_type": "stream",
     "text": [
      "CURRENT EPOCH: 66: 100%|██████████| 33/33 [00:09<00:00,  3.51it/s]\n"
     ]
    },
    {
     "name": "stdout",
     "output_type": "stream",
     "text": [
      "Learning rate: 0.000512\n",
      "Epoch loss = 0.0696, pixel accuracy = 68.7879%\n",
      "Dice score = 91.4894%, IoU = 84.8731%\n",
      "\n"
     ]
    },
    {
     "name": "stderr",
     "output_type": "stream",
     "text": [
      "CURRENT EPOCH: 67: 100%|██████████| 33/33 [00:09<00:00,  3.57it/s]\n"
     ]
    },
    {
     "name": "stdout",
     "output_type": "stream",
     "text": [
      "Learning rate: 0.000512\n",
      "Epoch loss = 0.0678, pixel accuracy = 68.5668%\n",
      "Dice score = 91.4733%, IoU = 84.9288%\n",
      "\n"
     ]
    },
    {
     "name": "stderr",
     "output_type": "stream",
     "text": [
      "CURRENT EPOCH: 68: 100%|██████████| 33/33 [00:09<00:00,  3.54it/s]\n"
     ]
    },
    {
     "name": "stdout",
     "output_type": "stream",
     "text": [
      "Learning rate: 0.000410\n",
      "Epoch loss = 0.0717, pixel accuracy = 68.8466%\n",
      "Dice score = 91.2352%, IoU = 84.4328%\n",
      "\n"
     ]
    },
    {
     "name": "stderr",
     "output_type": "stream",
     "text": [
      "CURRENT EPOCH: 69: 100%|██████████| 33/33 [00:09<00:00,  3.54it/s]\n"
     ]
    },
    {
     "name": "stdout",
     "output_type": "stream",
     "text": [
      "Learning rate: 0.000410\n",
      "Epoch loss = 0.0702, pixel accuracy = 68.7984%\n",
      "Dice score = 91.3307%, IoU = 84.6244%\n",
      "\n"
     ]
    },
    {
     "name": "stderr",
     "output_type": "stream",
     "text": [
      "CURRENT EPOCH: 70: 100%|██████████| 33/33 [00:09<00:00,  3.55it/s]\n"
     ]
    },
    {
     "name": "stdout",
     "output_type": "stream",
     "text": [
      "Learning rate: 0.000410\n",
      "Epoch loss = 0.0691, pixel accuracy = 68.8146%\n",
      "Dice score = 91.4760%, IoU = 84.8602%\n",
      "\n"
     ]
    },
    {
     "name": "stderr",
     "output_type": "stream",
     "text": [
      "CURRENT EPOCH: 71: 100%|██████████| 33/33 [00:09<00:00,  3.50it/s]\n"
     ]
    },
    {
     "name": "stdout",
     "output_type": "stream",
     "text": [
      "Learning rate: 0.000410\n",
      "Epoch loss = 0.0696, pixel accuracy = 68.9298%\n",
      "Dice score = 91.4921%, IoU = 84.8645%\n",
      "\n"
     ]
    },
    {
     "name": "stderr",
     "output_type": "stream",
     "text": [
      "CURRENT EPOCH: 72: 100%|██████████| 33/33 [00:09<00:00,  3.47it/s]\n"
     ]
    },
    {
     "name": "stdout",
     "output_type": "stream",
     "text": [
      "Learning rate: 0.000410\n",
      "Epoch loss = 0.0677, pixel accuracy = 68.8378%\n",
      "Dice score = 91.6208%, IoU = 85.0628%\n",
      "\n"
     ]
    },
    {
     "name": "stderr",
     "output_type": "stream",
     "text": [
      "CURRENT EPOCH: 73: 100%|██████████| 33/33 [00:09<00:00,  3.56it/s]\n"
     ]
    },
    {
     "name": "stdout",
     "output_type": "stream",
     "text": [
      "Learning rate: 0.000410\n",
      "Epoch loss = 0.0667, pixel accuracy = 68.6602%\n",
      "Dice score = 91.6210%, IoU = 85.1279%\n",
      "\n"
     ]
    },
    {
     "name": "stderr",
     "output_type": "stream",
     "text": [
      "CURRENT EPOCH: 74: 100%|██████████| 33/33 [00:09<00:00,  3.55it/s]\n"
     ]
    },
    {
     "name": "stdout",
     "output_type": "stream",
     "text": [
      "Learning rate: 0.000410\n",
      "Epoch loss = 0.0675, pixel accuracy = 68.7667%\n",
      "Dice score = 91.6228%, IoU = 85.0449%\n",
      "\n"
     ]
    },
    {
     "name": "stderr",
     "output_type": "stream",
     "text": [
      "CURRENT EPOCH: 75: 100%|██████████| 33/33 [00:09<00:00,  3.55it/s]\n"
     ]
    },
    {
     "name": "stdout",
     "output_type": "stream",
     "text": [
      "Learning rate: 0.000410\n",
      "Epoch loss = 0.0684, pixel accuracy = 68.7483%\n",
      "Dice score = 91.4765%, IoU = 84.8222%\n",
      "\n"
     ]
    },
    {
     "name": "stderr",
     "output_type": "stream",
     "text": [
      "CURRENT EPOCH: 76: 100%|██████████| 33/33 [00:09<00:00,  3.55it/s]\n"
     ]
    },
    {
     "name": "stdout",
     "output_type": "stream",
     "text": [
      "Learning rate: 0.000410\n",
      "Epoch loss = 0.0678, pixel accuracy = 68.8197%\n",
      "Dice score = 91.5785%, IoU = 84.9979%\n",
      "\n"
     ]
    },
    {
     "name": "stderr",
     "output_type": "stream",
     "text": [
      "CURRENT EPOCH: 77: 100%|██████████| 33/33 [00:09<00:00,  3.56it/s]\n"
     ]
    },
    {
     "name": "stdout",
     "output_type": "stream",
     "text": [
      "Learning rate: 0.000410\n",
      "Epoch loss = 0.0671, pixel accuracy = 68.9156%\n",
      "Dice score = 91.6706%, IoU = 85.1564%\n",
      "\n"
     ]
    },
    {
     "name": "stderr",
     "output_type": "stream",
     "text": [
      "CURRENT EPOCH: 78: 100%|██████████| 33/33 [00:09<00:00,  3.55it/s]\n"
     ]
    },
    {
     "name": "stdout",
     "output_type": "stream",
     "text": [
      "Learning rate: 0.000410\n",
      "Epoch loss = 0.0672, pixel accuracy = 68.8086%\n",
      "Dice score = 91.7121%, IoU = 85.2185%\n",
      "\n"
     ]
    },
    {
     "name": "stderr",
     "output_type": "stream",
     "text": [
      "CURRENT EPOCH: 79: 100%|██████████| 33/33 [00:09<00:00,  3.51it/s]\n"
     ]
    },
    {
     "name": "stdout",
     "output_type": "stream",
     "text": [
      "Learning rate: 0.000328\n",
      "Epoch loss = 0.0675, pixel accuracy = 68.7880%\n",
      "Dice score = 91.5636%, IoU = 84.9560%\n",
      "\n"
     ]
    },
    {
     "name": "stderr",
     "output_type": "stream",
     "text": [
      "CURRENT EPOCH: 80: 100%|██████████| 33/33 [00:09<00:00,  3.54it/s]\n"
     ]
    },
    {
     "name": "stdout",
     "output_type": "stream",
     "text": [
      "Learning rate: 0.000328\n",
      "Epoch loss = 0.0710, pixel accuracy = 69.0057%\n",
      "Dice score = 91.3175%, IoU = 84.6049%\n",
      "\n"
     ]
    },
    {
     "name": "stderr",
     "output_type": "stream",
     "text": [
      "CURRENT EPOCH: 81: 100%|██████████| 33/33 [00:09<00:00,  3.55it/s]\n"
     ]
    },
    {
     "name": "stdout",
     "output_type": "stream",
     "text": [
      "Learning rate: 0.000328\n",
      "Epoch loss = 0.0674, pixel accuracy = 68.9083%\n",
      "Dice score = 91.6918%, IoU = 85.2030%\n",
      "\n"
     ]
    },
    {
     "name": "stderr",
     "output_type": "stream",
     "text": [
      "CURRENT EPOCH: 82: 100%|██████████| 33/33 [00:09<00:00,  3.56it/s]\n"
     ]
    },
    {
     "name": "stdout",
     "output_type": "stream",
     "text": [
      "Learning rate: 0.000328\n",
      "Epoch loss = 0.0665, pixel accuracy = 68.6898%\n",
      "Dice score = 91.7012%, IoU = 85.1472%\n",
      "\n"
     ]
    },
    {
     "name": "stderr",
     "output_type": "stream",
     "text": [
      "CURRENT EPOCH: 83: 100%|██████████| 33/33 [00:09<00:00,  3.52it/s]\n"
     ]
    },
    {
     "name": "stdout",
     "output_type": "stream",
     "text": [
      "Learning rate: 0.000328\n",
      "Epoch loss = 0.0655, pixel accuracy = 68.8442%\n",
      "Dice score = 91.7958%, IoU = 85.4228%\n",
      "\n"
     ]
    },
    {
     "name": "stderr",
     "output_type": "stream",
     "text": [
      "CURRENT EPOCH: 84: 100%|██████████| 33/33 [00:09<00:00,  3.54it/s]\n"
     ]
    },
    {
     "name": "stdout",
     "output_type": "stream",
     "text": [
      "Learning rate: 0.000328\n",
      "Epoch loss = 0.0654, pixel accuracy = 68.7385%\n",
      "Dice score = 91.7373%, IoU = 85.1996%\n",
      "\n"
     ]
    },
    {
     "name": "stderr",
     "output_type": "stream",
     "text": [
      "CURRENT EPOCH: 85: 100%|██████████| 33/33 [00:09<00:00,  3.52it/s]\n"
     ]
    },
    {
     "name": "stdout",
     "output_type": "stream",
     "text": [
      "Learning rate: 0.000328\n",
      "Epoch loss = 0.0682, pixel accuracy = 68.8865%\n",
      "Dice score = 91.5179%, IoU = 84.8881%\n",
      "\n"
     ]
    },
    {
     "name": "stderr",
     "output_type": "stream",
     "text": [
      "CURRENT EPOCH: 86: 100%|██████████| 33/33 [00:09<00:00,  3.52it/s]\n"
     ]
    },
    {
     "name": "stdout",
     "output_type": "stream",
     "text": [
      "Learning rate: 0.000328\n",
      "Epoch loss = 0.0663, pixel accuracy = 68.7344%\n",
      "Dice score = 91.7964%, IoU = 85.2913%\n",
      "\n"
     ]
    },
    {
     "name": "stderr",
     "output_type": "stream",
     "text": [
      "CURRENT EPOCH: 87: 100%|██████████| 33/33 [00:09<00:00,  3.52it/s]\n"
     ]
    },
    {
     "name": "stdout",
     "output_type": "stream",
     "text": [
      "Learning rate: 0.000328\n",
      "Epoch loss = 0.0669, pixel accuracy = 69.0015%\n",
      "Dice score = 91.7772%, IoU = 85.2760%\n",
      "\n"
     ]
    },
    {
     "name": "stderr",
     "output_type": "stream",
     "text": [
      "CURRENT EPOCH: 88: 100%|██████████| 33/33 [00:09<00:00,  3.55it/s]\n"
     ]
    },
    {
     "name": "stdout",
     "output_type": "stream",
     "text": [
      "Learning rate: 0.000328\n",
      "Epoch loss = 0.0684, pixel accuracy = 68.9661%\n",
      "Dice score = 91.5262%, IoU = 84.9107%\n",
      "\n"
     ]
    },
    {
     "name": "stderr",
     "output_type": "stream",
     "text": [
      "CURRENT EPOCH: 89: 100%|██████████| 33/33 [00:09<00:00,  3.55it/s]\n"
     ]
    },
    {
     "name": "stdout",
     "output_type": "stream",
     "text": [
      "Learning rate: 0.000328\n",
      "Epoch loss = 0.0654, pixel accuracy = 68.7121%\n",
      "Dice score = 91.8244%, IoU = 85.3538%\n",
      "\n"
     ]
    },
    {
     "name": "stderr",
     "output_type": "stream",
     "text": [
      "CURRENT EPOCH: 90: 100%|██████████| 33/33 [00:09<00:00,  3.52it/s]\n"
     ]
    },
    {
     "name": "stdout",
     "output_type": "stream",
     "text": [
      "Learning rate: 0.000262\n",
      "Epoch loss = 0.0650, pixel accuracy = 68.6782%\n",
      "Dice score = 91.8774%, IoU = 85.4523%\n",
      "\n"
     ]
    },
    {
     "name": "stderr",
     "output_type": "stream",
     "text": [
      "CURRENT EPOCH: 91: 100%|██████████| 33/33 [00:09<00:00,  3.51it/s]\n"
     ]
    },
    {
     "name": "stdout",
     "output_type": "stream",
     "text": [
      "Learning rate: 0.000262\n",
      "Epoch loss = 0.0652, pixel accuracy = 68.9279%\n",
      "Dice score = 91.9213%, IoU = 85.5282%\n",
      "\n"
     ]
    },
    {
     "name": "stderr",
     "output_type": "stream",
     "text": [
      "CURRENT EPOCH: 92: 100%|██████████| 33/33 [00:09<00:00,  3.47it/s]\n"
     ]
    },
    {
     "name": "stdout",
     "output_type": "stream",
     "text": [
      "Learning rate: 0.000262\n",
      "Epoch loss = 0.0645, pixel accuracy = 68.6964%\n",
      "Dice score = 91.8491%, IoU = 85.3978%\n",
      "\n"
     ]
    },
    {
     "name": "stderr",
     "output_type": "stream",
     "text": [
      "CURRENT EPOCH: 93: 100%|██████████| 33/33 [00:09<00:00,  3.50it/s]\n"
     ]
    },
    {
     "name": "stdout",
     "output_type": "stream",
     "text": [
      "Learning rate: 0.000262\n",
      "Epoch loss = 0.0655, pixel accuracy = 68.8321%\n",
      "Dice score = 91.8618%, IoU = 85.3929%\n",
      "\n"
     ]
    },
    {
     "name": "stderr",
     "output_type": "stream",
     "text": [
      "CURRENT EPOCH: 94: 100%|██████████| 33/33 [00:09<00:00,  3.56it/s]\n"
     ]
    },
    {
     "name": "stdout",
     "output_type": "stream",
     "text": [
      "Learning rate: 0.000262\n",
      "Epoch loss = 0.0669, pixel accuracy = 69.0792%\n",
      "Dice score = 91.6139%, IoU = 85.1033%\n",
      "\n"
     ]
    },
    {
     "name": "stderr",
     "output_type": "stream",
     "text": [
      "CURRENT EPOCH: 95: 100%|██████████| 33/33 [00:09<00:00,  3.55it/s]\n"
     ]
    },
    {
     "name": "stdout",
     "output_type": "stream",
     "text": [
      "Learning rate: 0.000262\n",
      "Epoch loss = 0.0644, pixel accuracy = 68.8146%\n",
      "Dice score = 91.8825%, IoU = 85.4448%\n",
      "\n"
     ]
    },
    {
     "name": "stderr",
     "output_type": "stream",
     "text": [
      "CURRENT EPOCH: 96: 100%|██████████| 33/33 [00:09<00:00,  3.50it/s]\n"
     ]
    },
    {
     "name": "stdout",
     "output_type": "stream",
     "text": [
      "Learning rate: 0.000262\n",
      "Epoch loss = 0.0655, pixel accuracy = 68.9641%\n",
      "Dice score = 91.7927%, IoU = 85.2908%\n",
      "\n"
     ]
    },
    {
     "name": "stderr",
     "output_type": "stream",
     "text": [
      "CURRENT EPOCH: 97: 100%|██████████| 33/33 [00:09<00:00,  3.51it/s]\n"
     ]
    },
    {
     "name": "stdout",
     "output_type": "stream",
     "text": [
      "Learning rate: 0.000262\n",
      "Epoch loss = 0.0656, pixel accuracy = 68.8143%\n",
      "Dice score = 91.7178%, IoU = 85.1976%\n",
      "\n"
     ]
    },
    {
     "name": "stderr",
     "output_type": "stream",
     "text": [
      "CURRENT EPOCH: 98: 100%|██████████| 33/33 [00:09<00:00,  3.47it/s]\n"
     ]
    },
    {
     "name": "stdout",
     "output_type": "stream",
     "text": [
      "Learning rate: 0.000262\n",
      "Epoch loss = 0.0658, pixel accuracy = 68.7684%\n",
      "Dice score = 91.7988%, IoU = 85.4167%\n",
      "\n"
     ]
    },
    {
     "name": "stderr",
     "output_type": "stream",
     "text": [
      "CURRENT EPOCH: 99: 100%|██████████| 33/33 [00:09<00:00,  3.52it/s]"
     ]
    },
    {
     "name": "stdout",
     "output_type": "stream",
     "text": [
      "Learning rate: 0.000262\n",
      "Epoch loss = 0.0645, pixel accuracy = 68.7974%\n",
      "Dice score = 91.8839%, IoU = 85.4606%\n",
      "\n"
     ]
    },
    {
     "name": "stderr",
     "output_type": "stream",
     "text": [
      "\n"
     ]
    }
   ],
   "source": [
    "model, ftl, focal_loss, boundary_loss, optimizer = get_model(UNet=UNet3Plus, lr=1e-3)\n",
    "train_losses, train_dice_score, train_iou, train_accuracies = [],[],[],[]\n",
    "\n",
    "epochs = 100\n",
    "\n",
    "scheduler = torch.optim.lr_scheduler.ReduceLROnPlateau(optimizer, mode='max',factor = 0.8,patience = 10, threshold=5e-3)\n",
    "\n",
    "model.train()\n",
    "\n",
    "img, mask, _,_ =next(iter(trn_dl))\n",
    "print(img.shape, mask.shape)  # Should print torch.Size([B, 3, 224, 224]), torch.Size([B, 1, 224, 224])\n",
    "\n",
    "w_ftl = 0.7\n",
    "w_fl = 0.3\n",
    "\n",
    "head_weights = [0.1,0.1,0.2,0.6]\n",
    "\n",
    "for epoch in range(epochs):\n",
    "    loss_sum = acc_sum = dice_sum = iou_sum = 0.0\n",
    "    n = 0\n",
    "\n",
    "    w_bdry = ramp_weight(epoch, start = 3, end = 15, max_w = 0.5)\n",
    "\n",
    "    for batch in tqdm(trn_dl, desc=f'CURRENT EPOCH: {epoch}'):\n",
    "        loss, dice, iou, acc = train_batch(model, batch, optimizer, \n",
    "                                      focal_tversky_loss=ftl, \n",
    "                                      focal_loss=focal_loss,\n",
    "                                      boundary_loss=boundary_loss,\n",
    "                                      head_weights=head_weights,\n",
    "                                      w_ftl = w_ftl, w_fl = w_fl, w_bdry = w_bdry)\n",
    "        \n",
    "        # --- Convert to CPU and to float ---\n",
    "        if torch.is_tensor(loss): loss = float(loss.detach().cpu())\n",
    "        if torch.is_tensor(acc):  acc  = float(acc.detach().cpu())\n",
    "        if torch.is_tensor(dice): dice = float(dice.detach().cpu())\n",
    "        if torch.is_tensor(iou): iou = float(iou.detach().cpu())\n",
    "\n",
    "\n",
    "        # train_batch should already return plain floats\n",
    "        loss_sum += loss\n",
    "        acc_sum  += acc\n",
    "        dice_sum += dice\n",
    "        iou_sum += iou\n",
    "        n += 1\n",
    "\n",
    "    epoch_loss = loss_sum / n\n",
    "    epoch_acc  = acc_sum  / n\n",
    "    epoch_dice = dice_sum / n\n",
    "    epoch_iou = iou_sum / n\n",
    "\n",
    "    train_losses.append(np.array(epoch_loss).item())\n",
    "    train_accuracies.append(np.array(epoch_acc).item())\n",
    "    train_dice_score.append(np.array(epoch_dice).item())\n",
    "    train_iou.append(np.array(epoch_iou).item())\n",
    "\n",
    "    scheduler.step(epoch_dice)\n",
    "\n",
    "    print(f'Learning rate: {scheduler.get_last_lr()[0]:.6f}')\n",
    "    print(f'Epoch loss = {epoch_loss:.4f}, pixel accuracy = {epoch_acc*100:.4f}%')\n",
    "    print(f'Dice score = {epoch_dice*100:.4f}%, IoU = {epoch_iou*100:.4f}%\\n')\n"
   ]
  },
  {
   "cell_type": "markdown",
   "id": "4c29eb7a",
   "metadata": {},
   "source": [
    "### Visualization of loss convergence and metrics"
   ]
  },
  {
   "cell_type": "code",
   "execution_count": 627,
   "id": "ec5e3ae3",
   "metadata": {},
   "outputs": [
    {
     "data": {
      "image/png": "[encoded data removed]",
      "text/plain": [
       "<Figure size 2000x500 with 3 Axes>"
      ]
     },
     "metadata": {},
     "output_type": "display_data"
    }
   ],
   "source": [
    "'''---Plotting and Visualizing convergence---'''\n",
    "it=np.arange(epochs)+1\n",
    "plt.figure(figsize=(20,5))\n",
    "\n",
    "'''--- Training loss ---'''\n",
    "plt.subplot(131)\n",
    "plt.title('Training Loss over Epochs')\n",
    "plt.plot(it, train_losses, label='Training Loss', color = 'red')\n",
    "plt.xlabel('Epoch')\n",
    "plt.ylabel('Loss')\n",
    "plt.grid(True)\n",
    "plt.legend()\n",
    "\n",
    "'''--- Pixel Accuracy ---'''\n",
    "ax2 = plt.subplot(132) \n",
    "plt.title('Pixel accuracy over Epochs')\n",
    "plt.plot(it, train_accuracies, label='Training Accuracy', color = 'blue')\n",
    "plt.xlabel('Epoch')\n",
    "plt.ylabel('Pixel accuracy')\n",
    "plt.grid(True)\n",
    "plt.legend()\n",
    "\n",
    "ticks2 = ax2.get_yticks()\n",
    "ax2.set_yticks(ticks2)\n",
    "ax2.set_yticklabels(['{:.0f}%'.format(x*100) for x in ticks2])\n",
    "\n",
    "\n",
    "'''--- Dice, Precision, Sensitivity ---'''\n",
    "ax3 = plt.subplot(133) \n",
    "plt.title('Dice, Precision, Sensitivity over Epochs')\n",
    "plt.plot(it, train_dice_score, label='Dice score', color = 'green')\n",
    "plt.plot(it, train_iou,label = 'IoU', color = 'orange')\n",
    "plt.xlabel('Epoch')\n",
    "plt.ylabel('Score (%)')\n",
    "plt.grid(True)\n",
    "plt.legend()\n",
    "\n",
    "ticks3 = ax3.get_yticks()\n",
    "ax3.set_yticks(ticks3)\n",
    "ax3.set_yticklabels(['{:.0f}%'.format(x*100) for x in ticks3])\n",
    "\n",
    "plt.tight_layout()\n",
    "plt.show()"
   ]
  },
  {
   "cell_type": "markdown",
   "id": "871d8fd1",
   "metadata": {},
   "source": [
    "### Run test samples on trained model"
   ]
  },
  {
   "cell_type": "code",
   "execution_count": 672,
   "id": "6d9eaf18",
   "metadata": {},
   "outputs": [
    {
     "data": {
      "image/png": "[encoded data removed]",
      "text/plain": [
       "<Figure size 1200x400 with 3 Axes>"
      ]
     },
     "metadata": {},
     "output_type": "display_data"
    }
   ],
   "source": [
    "'''Visualizing Segmented Output'''\n",
    "\n",
    "#DataLoader returns (batch_size,3,H,W) for img and (batch_size,1,H,W) for mask\n",
    "eval_dl = DataLoader(DSB2018_Dataset(set_type='eval'), batch_size=1, shuffle=True) \n",
    "\n",
    "# ---Get one sample---\n",
    "img, mask = next(iter(eval_dl)) # img: [B,3,H,W], mask: [B,1,H,W] \n",
    "img  = img.to(device)\n",
    "mask = mask.to(device)\n",
    "\n",
    "if mask.ndim == 4 and mask.shape[1] == 1: mask = mask[:, 0] # -> [B,H,W]\n",
    "elif mask.ndim != 3:\n",
    "    raise ValueError(\"mask must be [B,1,H,W] or [B,H,W] for binary\")\n",
    "\n",
    "# ---Normalized test input---\n",
    "img_norm = TF.normalize(img, mean = [0.485, 0.456, 0.406], std = [0.229, 0.224, 0.225])\n",
    "\n",
    "# --- Handling Deep Supervision and W/O Deep Supervision ---\n",
    "head_weights = [0.1,0.1,0.2,0.6]\n",
    "thr = 0.5\n",
    "model.eval()\n",
    "with torch.no_grad(): \n",
    "    model.deep_supervision= True\n",
    "    out = model(img_norm) # logits [B,1,H,W] or list of 4 [B,1,H,W]\n",
    "\n",
    "    #---Deep supervision---\n",
    "    #Average heads with weights, consistent with the head weights used in loss\n",
    "    if isinstance(out, (list, tuple)):\n",
    "        heads = []\n",
    "        for idx,o in enumerate(out):\n",
    "            if o.ndim == 4 and o.shape[1] == 1:      # [B,1,H,W]\n",
    "                heads.append(o[:, 0]*head_weights[idx])                # [B,H,W]\n",
    "            else: raise ValueError(f\"Unexpected head shape: {o.shape}\")\n",
    "\n",
    "        logit = torch.stack(heads, dim=0).mean(dim=0)   # [B,H,W]\n",
    "    \n",
    "    #---W/O Deep supervision---\n",
    "    else:\n",
    "        if out.ndim == 4 and out.shape[1] == 1:\n",
    "            logit = out[:, 0,:,:]                         # [B,H,W]\n",
    "        else: raise ValueError(f\"Unexpected output shape: {out.shape}\")\n",
    "\n",
    "    prob = torch.sigmoid(logit)                     # [B,H,W] in [0,1]\n",
    "    pred = (prob >= thr).float()                     # hard mask [B,H,W]\n",
    "\n",
    "# ---Convert to CPU---\n",
    "img_vis  = img[0].detach().permute(1,2,0).cpu().numpy()   # [H,W,3]\n",
    "mask_vis = mask[0].detach().float().cpu().numpy()         # [H,W]\n",
    "pred_vis = pred[0].detach().cpu().numpy()                 # [H,W]\n",
    "\n",
    "# ---Plotting---\n",
    "fig, axs = plt.subplots(1, 3, figsize=(12, 4))\n",
    "\n",
    "axs[0].imshow(img_vis)                        \n",
    "axs[0].set_title(\"Image\")       \n",
    "axs[0].axis('off')\n",
    "\n",
    "axs[1].imshow(mask_vis, cmap='gray', vmin=0, vmax=1)\n",
    "axs[1].set_title(\"GT mask\")\n",
    "axs[1].axis('off')\n",
    "\n",
    "axs[2].imshow(pred_vis, cmap='gray', vmin=0, vmax=1)\n",
    "axs[2].set_title(f\"Pred @ thr={thr}\")\n",
    "axs[2].axis('off')\n",
    "\n",
    "plt.tight_layout(); plt.show()\n",
    "\n"
   ]
  },
  {
   "cell_type": "code",
   "execution_count": null,
   "id": "ca2fd760",
   "metadata": {},
   "outputs": [],
   "source": [
    "# torch.save(model.state_dict(), '../LiteUNet3Plus.pth')"
   ]
  }
 ],
 "metadata": {
  "kernelspec": {
   "display_name": "torch311",
   "language": "python",
   "name": "python3"
  },
  "language_info": {
   "codemirror_mode": {
    "name": "ipython",
    "version": 3
   },
   "file_extension": ".py",
   "mimetype": "text/x-python",
   "name": "python",
   "nbconvert_exporter": "python",
   "pygments_lexer": "ipython3",
   "version": "3.11.0"
  }
 },
 "nbformat": 4,
 "nbformat_minor": 5
}
