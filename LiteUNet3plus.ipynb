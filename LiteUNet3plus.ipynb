{
 "cells": [
  {
   "cell_type": "markdown",
   "id": "fede0467",
   "metadata": {},
   "source": [
    "# ***Lite U-Net 3+ Architecture*** for *semantic segmentation*"
   ]
  },
  {
   "cell_type": "markdown",
   "id": "dbf76f6b",
   "metadata": {},
   "source": [
    "<p align=\"center\">\n",
    "  <img src=\"Images/UNet3plus.png\" alt=\"U-Net 3+\" title = \"U-Net 3+/ U-Net 3 Plus\" width=\"60%\"/> <br>\n",
    "  <em> U-Net ++/ Nested U-Net Architecture </em>\n",
    "</p>"
   ]
  },
  {
   "cell_type": "markdown",
   "id": "7b3d7960",
   "metadata": {},
   "source": [
    "### ***Indexing:*** (Personal way of indexing)\n",
    "- Encoder: 0-1-2-3-4 (*Top -> Bottom*)\n",
    "- Decoder: 0-1-2-3-4 (*Bottom -> Top*)\n",
    "- Bottleneck block is indiced at 4 and 0\n",
    "\n",
    "In the original paper, both encoder and decoder's indexing starts from top to bottom, which means BottleNeck is at the last index."
   ]
  },
  {
   "cell_type": "markdown",
   "id": "e4595554",
   "metadata": {},
   "source": [
    "### **Original U-Net 3+**\n",
    "- Inspired by U-Net and UNet++: *UNet 3+* keeps the encoder–decoder idea, but changes how skips are used so features at different scales talk to each other more directly.\n",
    "\n",
    "- *Full-Scale Skip Connections*: At each decoder stage, UNet 3+ collects features from all encoder scales and the deeper decoder, upsamples/downsamples them to the same size, concats, then refines with a 3×3 conv. This mixes coarse context (deep) with fine detail (shallow) right where you decode.\n",
    "\n",
    "- *Deep Supervision* (multi-scale outputs): Each decoder stage can produce an output map. During training, these side outputs help gradients reach early layers.\n",
    "\n",
    "- *Full-scale Aggregation*: Smaller semantic gap. Instead of many dense nested skips, UNet 3+ uses one fusion per stage (full-scale aggregation). That typically means fewer parameters, and better alignment of semantics across scales.\n",
    "\n",
    "- *Classification-guided Module*: Relying on the output of the bottleneck, richest featues, it computes a scalar by global pooling then select the argmax of the sigmoid which indicates a prediction of whether the target exists. This is helpful for dataset where there are negative samples (no target) but for my DSB 2018 set, this can break the model."
   ]
  },
  {
   "cell_type": "markdown",
   "id": "85665bc6",
   "metadata": {},
   "source": [
    "### **Lite U-Net 3+**\n",
    "- Inspired by the lightweight design of U-Lite, this variant of U-Net 3+ is similar to that Lite U-Net ++ that I once did. The amount of filters was also halved to save memory.\n",
    "- *Add-ons*: Lightweight block like **SE** is applied before the skips to Full-scale Aggregation to enrich features even more. In addtion a **ResBlock + Cbam** is also applied at the BottleNeck to enhance performance of extracting features.\n",
    "- *Loss*: Combo loss similar to my other code, including Boundary, Focal Tversky and Focal loss.\n",
    "- For semantic segmentation, this model works very well on DSB 2018 dataset."
   ]
  },
  {
   "cell_type": "markdown",
   "id": "a2303595",
   "metadata": {},
   "source": [
    "## Importing libraries and modules"
   ]
  },
  {
   "cell_type": "code",
   "execution_count": 117,
   "id": "9f805520",
   "metadata": {},
   "outputs": [],
   "source": [
    "from torch.utils.data import DataLoader, Dataset\n",
    "import torch\n",
    "import torch.nn as nn\n",
    "from torch.optim import Adam, SGD\n",
    "from torchvision import datasets\n",
    "import numpy as np\n",
    "import matplotlib.pyplot as plt\n",
    "import os\n",
    "from torchvision.transforms import v2\n",
    "import cv2\n",
    "import random\n",
    "import torch.optim.lr_scheduler as lr_scheduler\n",
    "import torchvision.transforms.functional as TF\n",
    "import torch.nn.functional as F\n",
    "from torchsummary import summary\n",
    "from sklearn.model_selection import train_test_split\n",
    "import torchvision.io as io\n",
    "from scipy import ndimage as ndi\n",
    "from tqdm import tqdm \n",
    "\n",
    "device = \"cuda\" if torch.cuda.is_available() else \"cpu\""
   ]
  },
  {
   "cell_type": "markdown",
   "id": "9c0ddab9",
   "metadata": {},
   "source": [
    "## Declaring static variables, tailored to the Dataset (DSB 2018)"
   ]
  },
  {
   "cell_type": "code",
   "execution_count": 118,
   "id": "c66a9cb0",
   "metadata": {},
   "outputs": [],
   "source": [
    "IMG_HEIGHT = 128\n",
    "IMG_WIDTH = 128\n",
    "\n",
    "TRAIN_DIR = '../data_temp/DSB_2018/data-science-bowl-2018/stage1_train'\n",
    "TRAIN_MASKS_DIR = '../data_temp/DSB_2018/data-science-bowl-2018/stage1_train_combinedmasks'\n",
    "TEST_DIR = '../data_temp/DSB_2018/data-science-bowl-2018/stage1_test'"
   ]
  },
  {
   "cell_type": "markdown",
   "id": "b12f9ad6",
   "metadata": {},
   "source": [
    "### *Group Normalization / Batch Normalization / Instance Normalization*"
   ]
  },
  {
   "cell_type": "code",
   "execution_count": 119,
   "id": "94cc8e54",
   "metadata": {},
   "outputs": [],
   "source": [
    "# --- norm factory (GN by default) ---\n",
    "def get_norm(num_channels, kind=\"gn\", num_groups=8):\n",
    "    if kind == \"gn\":\n",
    "        # choose a divisor of num_channels\n",
    "        g = min(num_groups, num_channels)\n",
    "        while g > 1 and (num_channels % g) != 0:\n",
    "            g -= 1\n",
    "        return nn.GroupNorm(g, num_channels)\n",
    "    elif kind == \"in\":\n",
    "        return nn.InstanceNorm2d(num_channels, affine=True, track_running_stats=False)\n",
    "    elif kind == \"bn\":\n",
    "        return nn.BatchNorm2d(num_channels)\n",
    "    else:\n",
    "        raise ValueError(f\"Unknown norm kind: {kind}\")"
   ]
  },
  {
   "cell_type": "markdown",
   "id": "0fb8c62a",
   "metadata": {},
   "source": [
    "## U-Lite inpsired **Convolution Blocks**"
   ]
  },
  {
   "cell_type": "markdown",
   "id": "2f1d50b5",
   "metadata": {},
   "source": [
    "### *Axial Depth-wise Convolution*"
   ]
  },
  {
   "cell_type": "code",
   "execution_count": 120,
   "id": "9138d298",
   "metadata": {},
   "outputs": [],
   "source": [
    "class AxialConvDW(nn.Module):\n",
    "    def __init__ (self, in_channels, axial_size = 7, dilation=1):\n",
    "        super(AxialConvDW,self).__init__()\n",
    "\n",
    "        padding = ((axial_size-1)//2)*dilation\n",
    "\n",
    "        self.horizontal_conv = nn.Conv2d(in_channels, in_channels, \n",
    "            kernel_size=(1,axial_size), stride=1, padding = (0,padding), \n",
    "            groups=in_channels, dilation=dilation)\n",
    "        \n",
    "        self.vertical_conv = nn.Conv2d(in_channels, in_channels, \n",
    "            kernel_size=(axial_size,1), stride=1, padding = (padding,0), \n",
    "            groups=in_channels, dilation=dilation)\n",
    "        \n",
    "    def forward(self, x):\n",
    "        return x+self.horizontal_conv(x)+self.vertical_conv(x)"
   ]
  },
  {
   "cell_type": "markdown",
   "id": "43859ba6",
   "metadata": {},
   "source": [
    "### *Single Axial Depth-wise Convolution Block*"
   ]
  },
  {
   "cell_type": "code",
   "execution_count": 121,
   "id": "5874dc18",
   "metadata": {},
   "outputs": [],
   "source": [
    "class SDWConv (nn.Module):\n",
    "    def __init__ (self, in_channels, out_channels, axial_size = 3, dilation=1, act = 'gelu', norm = 'gn'):\n",
    "        super().__init__()\n",
    "        self.conv = nn.Sequential(\n",
    "            AxialConvDW(in_channels=in_channels,axial_size=axial_size,dilation=dilation),\n",
    "            get_norm(in_channels,kind=norm),\n",
    "            nn.Conv2d(in_channels, out_channels, 1, 1),\n",
    "            nn.GELU() if act == 'gelu' else nn.ReLU(inplace = True))\n",
    "    def forward(self, x):\n",
    "        return self.conv(x)"
   ]
  },
  {
   "cell_type": "markdown",
   "id": "2787496d",
   "metadata": {},
   "source": [
    "### *Double Axial Depth-wise Convolution Block*"
   ]
  },
  {
   "cell_type": "code",
   "execution_count": 122,
   "id": "6bd40f53",
   "metadata": {},
   "outputs": [],
   "source": [
    "class DoubleSDWConv (nn.Module):\n",
    "    def __init__ (self, in_channels, out_channels, axial_size = 3, dilation = 1, act = 'gelu'):\n",
    "        super().__init__()\n",
    "        self.conv1 = SDWConv(in_channels, out_channels, axial_size, dilation, act)\n",
    "        self.conv2 = SDWConv(out_channels, out_channels, axial_size, dilation, act)\n",
    "    def forward(self, x):\n",
    "        return self.conv2(self.conv1(x))"
   ]
  },
  {
   "cell_type": "markdown",
   "id": "6dda0c84",
   "metadata": {},
   "source": [
    "## *Squeeze and Excitation Block*"
   ]
  },
  {
   "cell_type": "code",
   "execution_count": 123,
   "id": "fec0c059",
   "metadata": {},
   "outputs": [],
   "source": [
    "class SE(nn.Module):\n",
    "    def __init__(self, in_channels, out_channels, reduction = 4):\n",
    "        super(SE, self).__init__()\n",
    "        self.squeeze = nn.AdaptiveAvgPool2d((1,1))\n",
    "        self.excitation = nn.Sequential(\n",
    "            nn.Flatten(),\n",
    "            nn.Linear(in_features=in_channels, out_features=out_channels//reduction),\n",
    "            nn.ReLU(inplace=True),\n",
    "            nn.Linear(in_features=out_channels//reduction, out_features=out_channels),\n",
    "            nn.Sigmoid()\n",
    "        )\n",
    "    def forward(self, input_map):\n",
    "        x = self.squeeze(input_map)\n",
    "        x = self.excitation(x).unsqueeze(-1).unsqueeze(-1) #[B,C]->[B,C,1,1], unsqueeze(-1) means to unsqueeze the last dim\n",
    "        return input_map*x"
   ]
  },
  {
   "cell_type": "markdown",
   "id": "c9c6fd5d",
   "metadata": {},
   "source": [
    "## **CBAM** (modified with Axial Depth-wise Convolution)"
   ]
  },
  {
   "cell_type": "markdown",
   "id": "67d64d08",
   "metadata": {},
   "source": [
    "### *Channel Attention*\n",
    "<p align=\"center\">\n",
    "  <img src=\"Images/ChannelAtt.png\" alt=\"Channel Attention\" title = \"Channel Attention\" width=\"75%\"/> <br>\n",
    "  <em> Channel Attention </em>\n",
    "</p>"
   ]
  },
  {
   "cell_type": "code",
   "execution_count": 124,
   "id": "15aa0880",
   "metadata": {},
   "outputs": [],
   "source": [
    "class ChannelAttention (nn.Module):\n",
    "    def __init__ (self, in_channels, reduction = 2):\n",
    "        super(ChannelAttention,self).__init__()\n",
    "        self.global_maxpool = nn.AdaptiveMaxPool2d((1,1))\n",
    "        self.global_avgpool = nn.AdaptiveAvgPool2d((1,1))\n",
    "        #Input: [B,C,1,1]\n",
    "        self.mlp = nn.Sequential(\n",
    "            nn.Flatten(), #Size [B,C]\n",
    "            nn.Linear(in_channels, in_channels//reduction),\n",
    "            nn.ReLU(inplace=True),\n",
    "            nn.Linear(in_channels//reduction,in_channels)\n",
    "        )\n",
    "        self.sigmoid = nn.Sigmoid()\n",
    "        \n",
    "    def forward(self, input_map):\n",
    "\n",
    "        x1 = self.global_maxpool(input_map)\n",
    "        x2 = self.global_avgpool(input_map)\n",
    "\n",
    "        x1 = self.mlp(x1)\n",
    "        x2 = self.mlp(x2)\n",
    "\n",
    "        out = self.sigmoid(x1 + x2).unsqueeze(2).unsqueeze(3)  # [B, C, 1, 1]\n",
    "\n",
    "        return out"
   ]
  },
  {
   "cell_type": "markdown",
   "id": "981a69a6",
   "metadata": {},
   "source": [
    "### *Spatial Attention*\n",
    "<p align=\"center\">\n",
    "  <img src=\"Images/SpatialAtt.png\" alt=\"Spatial Attention\" title = \"Spatial Attention\" width=\"75%\"/> <br>\n",
    "  <em> Spatial Attention </em>\n",
    "</p>"
   ]
  },
  {
   "cell_type": "code",
   "execution_count": 125,
   "id": "c6a0bf22",
   "metadata": {},
   "outputs": [],
   "source": [
    "class SpatialAttention (nn.Module):\n",
    "    def __init__ (self):\n",
    "        super(SpatialAttention,self).__init__()\n",
    "        self.conv = SDWConv(in_channels=2,out_channels=1,axial_size=7)\n",
    "        self.sigmoid = nn.Sigmoid()\n",
    "    def forward(self, input_map):\n",
    "        x1 = torch.amax(input_map,dim = 1,keepdim=True) #[B,1,H,W]\n",
    "        x2 = torch.mean(input_map,dim = 1,keepdim=True) #[B,1,H,W]\n",
    "        x = torch.cat([x1,x2], dim = 1)\n",
    "        x = self.conv(x)\n",
    "        return self.sigmoid(x)"
   ]
  },
  {
   "cell_type": "markdown",
   "id": "1afdf3a8",
   "metadata": {},
   "source": [
    "### ***Convolutional Block Attention Module (CBAM)***\n",
    "<p align=\"center\">\n",
    "  <img src=\"Images/CBAM.png\" alt=\"Convolutional Block Attention Module(CBAM)\" title = \"Convolutional Block Attention Module(CBAM)\" width=\"75%\"/> <br>\n",
    "  <em> Convolutional Block Attention Module(CBAM) </em>\n",
    "</p>"
   ]
  },
  {
   "cell_type": "code",
   "execution_count": 126,
   "id": "114aa17a",
   "metadata": {},
   "outputs": [],
   "source": [
    "class CBAM(nn.Module):\n",
    "    def __init__(self, in_channels):\n",
    "        super().__init__()\n",
    "        self.channel_att = ChannelAttention(in_channels, reduction = 2)\n",
    "        self.spatial_att = SpatialAttention()\n",
    "        self.conv = SDWConv(in_channels=in_channels, out_channels=in_channels, axial_size=3)\n",
    "    \n",
    "    def forward(self, x):\n",
    "        x = self.conv(x)\n",
    "        x = self.channel_att(x)*x\n",
    "        x = self.spatial_att(x)*x\n",
    "        return x"
   ]
  },
  {
   "cell_type": "markdown",
   "id": "fabbff80",
   "metadata": {},
   "source": [
    "### ***ResBlock + CBAM***\n",
    "<p align=\"center\">\n",
    "  <img src=\"Images/ResCBAM.png\" alt=\"ResCBAM\" title = \"ResCBAM\" width=\"85%\"/> <br>\n",
    "  <em> ResBlock + CBAM </em>\n",
    "</p>"
   ]
  },
  {
   "cell_type": "code",
   "execution_count": 127,
   "id": "4132292a",
   "metadata": {},
   "outputs": [],
   "source": [
    "class ResCBAM(nn.Module):\n",
    "    def __init__(self, in_channels):\n",
    "        super().__init__()\n",
    "        self.channel_att = ChannelAttention(in_channels, reduction = 2)\n",
    "        self.spatial_att = SpatialAttention()\n",
    "        self.conv = SDWConv(in_channels=in_channels, out_channels=in_channels)\n",
    "    \n",
    "    def forward(self, skip):\n",
    "        x = self.conv(skip)\n",
    "        x = self.channel_att(x)*x\n",
    "        x = self.spatial_att(x)*x\n",
    "        return x+self.conv(skip)"
   ]
  },
  {
   "cell_type": "markdown",
   "id": "906af6d9",
   "metadata": {},
   "source": [
    "## U-Lite **BottleNeck** with added ResCBAM Block"
   ]
  },
  {
   "cell_type": "code",
   "execution_count": 128,
   "id": "d60d7752",
   "metadata": {},
   "outputs": [],
   "source": [
    "class BottleNeck(nn.Module):\n",
    "    def __init__ (self, in_channels, mid_channels):\n",
    "        super(BottleNeck, self).__init__()\n",
    "        self.pw1 = nn.Conv2d(in_channels, mid_channels//4, kernel_size=1, stride = 1)\n",
    "        self.dw1 = AxialConvDW(mid_channels//4, dilation=1)\n",
    "        self.dw2 = AxialConvDW(mid_channels//4, dilation=2)\n",
    "        self.dw3 = AxialConvDW(mid_channels//4, dilation=3)\n",
    "        self.bn = get_norm(mid_channels)\n",
    "        self.pw2 = nn.Conv2d(mid_channels, mid_channels, kernel_size=1, stride = 1)\n",
    "        self.gelu = nn.GELU()\n",
    "        self.cbam = ResCBAM(mid_channels)\n",
    "\n",
    "    def forward(self, x):\n",
    "        x = self.pw1(x)\n",
    "        x = torch.cat([x,self.dw1(x),self.dw2(x),self.dw3(x)], dim=1)\n",
    "        x = self.gelu(self.pw2(self.bn(x)))\n",
    "        return self.cbam(x)"
   ]
  },
  {
   "cell_type": "markdown",
   "id": "2be2a631",
   "metadata": {},
   "source": [
    "## **Encode Block**"
   ]
  },
  {
   "cell_type": "code",
   "execution_count": 129,
   "id": "53040ceb",
   "metadata": {},
   "outputs": [],
   "source": [
    "class EncodeBlock(nn.Module):\n",
    "    def __init__(self, in_channels, out_channels):\n",
    "        super(EncodeBlock,self).__init__()\n",
    "        self.double_conv = DoubleSDWConv(in_channels=in_channels, \n",
    "                                         out_channels=out_channels)\n",
    "        self.down_sample= nn.MaxPool2d(kernel_size=2,stride=2)\n",
    "    def forward(self, x):\n",
    "        skip = self.double_conv(x)\n",
    "        x = self.down_sample(skip)\n",
    "        return x, skip"
   ]
  },
  {
   "cell_type": "markdown",
   "id": "5ff0fd4a",
   "metadata": {},
   "source": [
    "## **Decode Block** with added ResCBAM block"
   ]
  },
  {
   "cell_type": "code",
   "execution_count": 130,
   "id": "d1f6c227",
   "metadata": {},
   "outputs": [],
   "source": [
    "class DecodeBlock(nn.Module):\n",
    "    def __init__(self,in_channels = 320, out_channels = 320):\n",
    "        super(DecodeBlock,self).__init__()\n",
    "        self.decode = nn.Sequential(\n",
    "            nn.Conv2d(in_channels=in_channels, out_channels=out_channels, kernel_size=1, stride=1, padding=0),\n",
    "            SDWConv(in_channels=out_channels, out_channels=out_channels, axial_size=7)\n",
    "        )\n",
    "    def forward(self, x):\n",
    "        return self.decode(x)"
   ]
  },
  {
   "cell_type": "markdown",
   "id": "33bce6a0",
   "metadata": {},
   "source": [
    "## **Full-scale Skip Connections** "
   ]
  },
  {
   "cell_type": "markdown",
   "id": "e959a281",
   "metadata": {},
   "source": [
    "<p align=\"center\">\n",
    "  <img src=\"Images/Aggregation.png\" alt=\"Full-scale Aggregation\" title = \"Full-scale Skip Connections\" width=\"75%\"/> <br>\n",
    "  <em> Full-scale Skip Connections </em>\n",
    "</p>"
   ]
  },
  {
   "cell_type": "markdown",
   "id": "19f3c359",
   "metadata": {},
   "source": [
    "- At each decode layer, indiced at [skip_idx], the encoder skip connections is maxpooled to match spatial size if needed, then passed through a 3x3 convolution layer to 64 channels.\n",
    "- The prior decoder skips are upsampled to match spatail size, then passed through the same convolution to 64 channels.\n",
    "- All of the processed skips are concatenated -> 320 channels.\n",
    "- 'U-Net 3+ incorporates both smaller- and same-scale feature maps from encoder and larger-scale feature maps from decoder, which capturing fine-grained details and coarse-grained semantics in full scales' - stated in the paper of U-Net3+."
   ]
  },
  {
   "cell_type": "markdown",
   "id": "fd775d8b",
   "metadata": {},
   "source": [
    "**Formula for the full-scale aggregation in *UNet 3+*:**\n",
    "\n",
    "$$\n",
    "X_{De}^{(i)} =\n",
    "\\begin{cases}\n",
    "X_{En}^{(N)}, & i=N, \\\\[8pt]\n",
    "\\mathcal{H}\\!\\Big(\n",
    "\\big[\n",
    "\\;\\{\\mathcal{C}(\\mathcal{D}(X_{En}^{(k)}))\\}_{k=1}^{\\,i-1},\\;\n",
    "\\mathcal{C}(X_{En}^{(i)}),\\;\n",
    "\\{\\mathcal{C}(\\mathcal{U}(X_{De}^{(k)}))\\}_{k=i+1}^{\\,N}\n",
    "\\big]\n",
    "\\Big), & i=1,\\dots,N-1 .\n",
    "\\end{cases}\n",
    "$$\n",
    "\n",
    "With:\n",
    "* $N$: number of encoder-decoder stages (At bottleneck)\n",
    "* $\\mathcal{C}(\\cdot)$: $3{\\times}3$ convolution (channel adapter, to 64 channels)\n",
    "* $\\mathcal{H}(\\cdot)$: Convolution $+$ BatchNorm $+$ ReLU\n",
    "* $\\mathcal{D}(\\cdot)$ / $\\mathcal{U}(\\cdot)$: Down/upsampling to the $i$-th scale\n",
    "* $[\\cdot]$: Concatenation\n"
   ]
  },
  {
   "cell_type": "code",
   "execution_count": 131,
   "id": "c6e1659c",
   "metadata": {},
   "outputs": [],
   "source": [
    "class FullScaleSkip(nn.Module):\n",
    "    def __init__(self, skip_idx, \n",
    "                 skips_channel = [32,64,128,256,512], \n",
    "                 de_channel = None, \n",
    "                 num_layers = 5, \n",
    "                 agg_channels = 64):\n",
    "        \n",
    "        super().__init__()\n",
    "        if skip_idx < 1 or skip_idx >= num_layers:\n",
    "            raise Exception('INVALID INDEX OF THE DECODER BLOCK\\n')\n",
    "        \n",
    "        self.skip_idx = skip_idx\n",
    "        self.encoder_aligns = nn.ModuleList()\n",
    "        self.decoder_aligns = nn.ModuleList()\n",
    "\n",
    "        # --- Encoder's aggregation ---\n",
    "        for i in range (num_layers-skip_idx-1):\n",
    "            align = nn.Sequential(\n",
    "                SDWConv(skips_channel[i],agg_channels),\n",
    "                SE(agg_channels, agg_channels, reduction=4)\n",
    "            )\n",
    "            self.encoder_aligns.append(align)\n",
    "        \n",
    "        # --- Current decoder stage's aggregation ---\n",
    "        self.center_align = nn.Sequential(\n",
    "            SDWConv(skips_channel[-skip_idx-1],agg_channels),\n",
    "            SE(agg_channels, agg_channels, reduction=4)\n",
    "        )\n",
    "\n",
    "        # --- Decoder's aggregation ---\n",
    "        bottleneck_align = nn.Sequential(\n",
    "            SDWConv(skips_channel[-1],agg_channels),\n",
    "            SE(agg_channels, agg_channels, reduction=4)\n",
    "        )\n",
    "        self.decoder_aligns.append(bottleneck_align)\n",
    "\n",
    "        if skip_idx>1:\n",
    "            if de_channel is None: de_channels = [agg_channels*num_layers]*(skip_idx-1)\n",
    "            else: de_channels = [de_channel]*(skip_idx-1)\n",
    "        \n",
    "            for channel in de_channels:\n",
    "                align = nn.Sequential(\n",
    "                    SDWConv(channel,agg_channels),\n",
    "                    SE(agg_channels, agg_channels, reduction=4))\n",
    "                self.decoder_aligns.append(align)\n",
    "\n",
    "    def forward(self, skips, de_skips):\n",
    "        H,W = skips[-self.skip_idx-1].shape[2:]\n",
    "        aligned_maps = []\n",
    "        \n",
    "        for i, align in enumerate(self.encoder_aligns):\n",
    "            x= F.interpolate(skips[i], size = (H,W), mode='bilinear', align_corners=False)\n",
    "            x = align(x)\n",
    "            aligned_maps.append(x)\n",
    "        \n",
    "        aligned = self.center_align(skips[-self.skip_idx-1])\n",
    "        aligned_maps.append(aligned)\n",
    "\n",
    "        for i, align in enumerate(self.decoder_aligns):\n",
    "            x = F.interpolate(de_skips[i], size=(H,W), mode='bilinear', align_corners=False)\n",
    "            aligned_maps.append(align(x))\n",
    "        \n",
    "        aggregated_map = torch.cat(aligned_maps, dim =1)\n",
    "        return aggregated_map"
   ]
  },
  {
   "cell_type": "markdown",
   "id": "06deb5f8",
   "metadata": {},
   "source": [
    "## **Classification-guided Module**\n",
    "<p align=\"center\">\n",
    "  <img src=\"Images/CGM.png\" alt=\"Classification-guided Module\" title = \"Classification-guided Module\" width=\"65%\"/> <br>\n",
    "  <em> Classification-guided Module </em>\n",
    "</p>"
   ]
  },
  {
   "cell_type": "markdown",
   "id": "361c93a1",
   "metadata": {},
   "source": [
    "- In my code, I do not put deep supervision at the bottleneck, so there are only 4 heads, since this would take up a lot of excess memory due to bottleneck having the most number of channels."
   ]
  },
  {
   "cell_type": "code",
   "execution_count": 132,
   "id": "3d4133bc",
   "metadata": {},
   "outputs": [],
   "source": [
    "class CGM (nn.Module):\n",
    "    def __init__ (self, in_channels, num_classes = 1, dropout_rate = 0.25):\n",
    "        super(CGM, self).__init__()\n",
    "        self.guide = nn.Sequential(\n",
    "            nn.Dropout(dropout_rate),\n",
    "            nn.Conv2d(in_channels=in_channels, out_channels=num_classes, kernel_size=1, stride = 1, padding = 0),\n",
    "            nn.AdaptiveAvgPool2d(output_size=(1,1)),\n",
    "            nn.Sigmoid()\n",
    "        )\n",
    "    def forward(self, x):\n",
    "        x = self.guide(x)\n",
    "        return x #(B,1,1,1)"
   ]
  },
  {
   "cell_type": "markdown",
   "id": "f1cf5263",
   "metadata": {},
   "source": [
    "## *Deep Supervision*"
   ]
  },
  {
   "cell_type": "code",
   "execution_count": 133,
   "id": "36c0759a",
   "metadata": {},
   "outputs": [],
   "source": [
    "class DeepSupervision(nn.Module):\n",
    "    def __init__ (self, in_channels, out_channels=1):\n",
    "        super().__init__()\n",
    "        self.conv = nn.Conv2d(in_channels=in_channels, \n",
    "                              out_channels=out_channels, \n",
    "                              kernel_size=1, \n",
    "                              stride=1)\n",
    "    def forward(self, decode_map, mask_size):\n",
    "        if decode_map.shape[2:]!=mask_size:\n",
    "            decode_map = F.interpolate(decode_map, \n",
    "                                       size=mask_size, \n",
    "                                       mode='bilinear', \n",
    "                                       align_corners=False)\n",
    "        return self.conv(decode_map)"
   ]
  },
  {
   "cell_type": "markdown",
   "id": "36fb2bde",
   "metadata": {},
   "source": [
    "## Lite **U-Net 3+** architecture"
   ]
  },
  {
   "cell_type": "code",
   "execution_count": 134,
   "id": "36780ac0",
   "metadata": {},
   "outputs": [],
   "source": [
    "class UNet3Plus(nn.Module):\n",
    "    def __init__ (self, num_classes = 1, in_channels = 3, \n",
    "                  deep_supervision = True, \n",
    "                  planes = [32,64,128,256,512], \n",
    "                  mask_size =(IMG_HEIGHT,IMG_WIDTH)):\n",
    "        super().__init__()\n",
    "\n",
    "        #--- Store variables ---\n",
    "        self.deep_supervision = deep_supervision\n",
    "        self.num_layers = 5\n",
    "        self.agg_channels = planes[0]\n",
    "        length = len(planes)\n",
    "        self.mask_size = mask_size\n",
    "\n",
    "        #--- Encoding ---\n",
    "        self.first_conv = nn.Sequential(\n",
    "            nn.Conv2d(in_channels, out_channels=planes[0], kernel_size=7, stride=1,padding=3),\n",
    "            nn.BatchNorm2d(planes[0]),\n",
    "            nn.ReLU(inplace=True))\n",
    "        \n",
    "        self.encode_layer1 = EncodeBlock(planes[0], planes[0])\n",
    "\n",
    "        self.encode_layers = nn.ModuleList()\n",
    "        for i in range (0, length-2):\n",
    "            encode_layer = EncodeBlock(planes[i], planes[i+1])\n",
    "            self.encode_layers.append(encode_layer)\n",
    "\n",
    "        #--- BottleNeck ---\n",
    "        self.bottleneck = BottleNeck(in_channels=planes[-2], mid_channels=planes[-1])\n",
    "        self.CGM = CGM(in_channels=planes[-1], num_classes=1) #For DSB 2018, CGM is not needed\n",
    "\n",
    "        #--- Decoding ---\n",
    "        self.decode_layers = nn.ModuleList()\n",
    "        self.intermediate_outputs = nn.ModuleList()\n",
    "        self.aggregation = nn.ModuleList()\n",
    "        for i in range (length-1):\n",
    "            decode_layer = DecodeBlock(in_channels=self.agg_channels*self.num_layers, out_channels=self.agg_channels)\n",
    "            inter_output = DeepSupervision(in_channels=self.agg_channels,out_channels=num_classes)\n",
    "            aggregated_map = FullScaleSkip(skip_idx=i+1, num_layers=5,skips_channel=planes,\n",
    "                                                  de_channel=self.agg_channels, \n",
    "                                                  agg_channels=self.agg_channels)\n",
    "            self.decode_layers.append(decode_layer)\n",
    "            self.intermediate_outputs.append(inter_output)\n",
    "            self.aggregation.append(aggregated_map)\n",
    "        \n",
    "    def forward(self, input):\n",
    "        skips = []\n",
    "        de_skips = []\n",
    "        outputs = []\n",
    "        x = input.clone()\n",
    "\n",
    "        #--- Encoding ---\n",
    "        x = self.first_conv(x)\n",
    "        x, skip_map1 = self.encode_layer1(x)\n",
    "        skips.append(skip_map1)\n",
    "\n",
    "        for encode_layer in self.encode_layers:\n",
    "            x,skip_map = encode_layer(x)\n",
    "            skips.append(skip_map)\n",
    "        \n",
    "        #--- BottleNeck ---\n",
    "        x = self.bottleneck(x)\n",
    "        skips.append(x)\n",
    "        de_skips.append(x)\n",
    "\n",
    "        #--- Decoding ---\n",
    "        for idx in range(len(self.decode_layers)):\n",
    "            aggregated = self.aggregation[idx](skips, de_skips)\n",
    "            x = self.decode_layers[idx](aggregated)\n",
    "            de_skips.append(x)\n",
    "            output = self.intermediate_outputs[idx](x, self.mask_size)\n",
    "            outputs.append(output)\n",
    "        \n",
    "        if self.deep_supervision:\n",
    "            return outputs\n",
    "        else: \n",
    "            return outputs[-1]"
   ]
  },
  {
   "cell_type": "markdown",
   "id": "2bbc1a23",
   "metadata": {},
   "source": [
    "### Run test and speculate model"
   ]
  },
  {
   "cell_type": "code",
   "execution_count": 135,
   "id": "0c9c9ef2",
   "metadata": {},
   "outputs": [
    {
     "name": "stdout",
     "output_type": "stream",
     "text": [
      "torch.Size([8, 1, 128, 128])\n",
      "===============================================================================================\n",
      "Layer (type:depth-idx)                        Output Shape              Param #\n",
      "===============================================================================================\n",
      "├─Sequential: 1-1                             [-1, 32, 128, 128]        --\n",
      "|    └─Conv2d: 2-1                            [-1, 32, 128, 128]        4,736\n",
      "|    └─BatchNorm2d: 2-2                       [-1, 32, 128, 128]        64\n",
      "|    └─ReLU: 2-3                              [-1, 32, 128, 128]        --\n",
      "├─EncodeBlock: 1-2                            [-1, 32, 64, 64]          --\n",
      "|    └─DoubleSDWConv: 2-4                     [-1, 32, 128, 128]        --\n",
      "|    |    └─SDWConv: 3-1                      [-1, 32, 128, 128]        1,376\n",
      "|    |    └─SDWConv: 3-2                      [-1, 32, 128, 128]        1,376\n",
      "|    └─MaxPool2d: 2-5                         [-1, 32, 64, 64]          --\n",
      "├─ModuleList: 1                               []                        --\n",
      "|    └─EncodeBlock: 2-6                       [-1, 64, 32, 32]          --\n",
      "|    |    └─DoubleSDWConv: 3-3                [-1, 64, 64, 64]          7,232\n",
      "|    |    └─MaxPool2d: 3-4                    [-1, 64, 32, 32]          --\n",
      "|    └─EncodeBlock: 2-7                       [-1, 128, 16, 16]         --\n",
      "|    |    └─DoubleSDWConv: 3-5                [-1, 128, 32, 32]         26,752\n",
      "|    |    └─MaxPool2d: 3-6                    [-1, 128, 16, 16]         --\n",
      "|    └─EncodeBlock: 2-8                       [-1, 256, 8, 8]           --\n",
      "|    |    └─DoubleSDWConv: 3-7                [-1, 256, 16, 16]         102,656\n",
      "|    |    └─MaxPool2d: 3-8                    [-1, 256, 8, 8]           --\n",
      "├─BottleNeck: 1-3                             [-1, 512, 8, 8]           --\n",
      "|    └─Conv2d: 2-9                            [-1, 128, 8, 8]           32,896\n",
      "|    └─AxialConvDW: 2-10                      [-1, 128, 8, 8]           --\n",
      "|    |    └─Conv2d: 3-9                       [-1, 128, 8, 8]           1,024\n",
      "|    |    └─Conv2d: 3-10                      [-1, 128, 8, 8]           1,024\n",
      "|    └─AxialConvDW: 2-11                      [-1, 128, 8, 8]           --\n",
      "|    |    └─Conv2d: 3-11                      [-1, 128, 8, 8]           1,024\n",
      "|    |    └─Conv2d: 3-12                      [-1, 128, 8, 8]           1,024\n",
      "|    └─AxialConvDW: 2-12                      [-1, 128, 8, 8]           --\n",
      "|    |    └─Conv2d: 3-13                      [-1, 128, 8, 8]           1,024\n",
      "|    |    └─Conv2d: 3-14                      [-1, 128, 8, 8]           1,024\n",
      "|    └─GroupNorm: 2-13                        [-1, 512, 8, 8]           1,024\n",
      "|    └─Conv2d: 2-14                           [-1, 512, 8, 8]           262,656\n",
      "|    └─GELU: 2-15                             [-1, 512, 8, 8]           --\n",
      "|    └─ResCBAM: 2-16                          [-1, 512, 8, 8]           --\n",
      "|    |    └─SDWConv: 3-15                     [-1, 512, 8, 8]           267,776\n",
      "|    |    └─ChannelAttention: 3-16            [-1, 512, 1, 1]           262,912\n",
      "|    |    └─SpatialAttention: 3-17            [-1, 1, 8, 8]             39\n",
      "|    |    └─SDWConv: 3-18                     [-1, 512, 8, 8]           (recursive)\n",
      "├─ModuleList: 1                               []                        --\n",
      "|    └─FullScaleSkip: 2-17                    [-1, 160, 16, 16]         --\n",
      "|    |    └─Sequential: 3-19                  [-1, 32, 16, 16]          11,336\n",
      "├─ModuleList: 1                               []                        --\n",
      "|    └─DecodeBlock: 2-18                      [-1, 32, 16, 16]          --\n",
      "|    |    └─Sequential: 3-20                  [-1, 32, 16, 16]          6,784\n",
      "├─ModuleList: 1                               []                        --\n",
      "|    └─DeepSupervision: 2-19                  [-1, 1, 128, 128]         --\n",
      "|    |    └─Conv2d: 3-21                      [-1, 1, 128, 128]         33\n",
      "├─ModuleList: 1                               []                        --\n",
      "|    └─FullScaleSkip: 2-20                    [-1, 160, 32, 32]         --\n",
      "|    |    └─Sequential: 3-22                  [-1, 32, 32, 32]          5,960\n",
      "├─ModuleList: 1                               []                        --\n",
      "|    └─DecodeBlock: 2-21                      [-1, 32, 32, 32]          --\n",
      "|    |    └─Sequential: 3-23                  [-1, 32, 32, 32]          6,784\n",
      "├─ModuleList: 1                               []                        --\n",
      "|    └─DeepSupervision: 2-22                  [-1, 1, 128, 128]         --\n",
      "|    |    └─Conv2d: 3-24                      [-1, 1, 128, 128]         33\n",
      "├─ModuleList: 1                               []                        --\n",
      "|    └─FullScaleSkip: 2-23                    [-1, 160, 64, 64]         --\n",
      "|    |    └─Sequential: 3-25                  [-1, 32, 64, 64]          3,272\n",
      "├─ModuleList: 1                               []                        --\n",
      "|    └─DecodeBlock: 2-24                      [-1, 32, 64, 64]          --\n",
      "|    |    └─Sequential: 3-26                  [-1, 32, 64, 64]          6,784\n",
      "├─ModuleList: 1                               []                        --\n",
      "|    └─DeepSupervision: 2-25                  [-1, 1, 128, 128]         --\n",
      "|    |    └─Conv2d: 3-27                      [-1, 1, 128, 128]         33\n",
      "├─ModuleList: 1                               []                        --\n",
      "|    └─FullScaleSkip: 2-26                    [-1, 160, 128, 128]       --\n",
      "|    |    └─Sequential: 3-28                  [-1, 32, 128, 128]        1,928\n",
      "├─ModuleList: 1                               []                        --\n",
      "|    └─DecodeBlock: 2-27                      [-1, 32, 128, 128]        --\n",
      "|    |    └─Sequential: 3-29                  [-1, 32, 128, 128]        6,784\n",
      "├─ModuleList: 1                               []                        --\n",
      "|    └─DeepSupervision: 2-28                  [-1, 1, 128, 128]         --\n",
      "|    |    └─Conv2d: 3-30                      [-1, 1, 128, 128]         33\n",
      "===============================================================================================\n",
      "Total params: 1,027,403\n",
      "Trainable params: 1,027,403\n",
      "Non-trainable params: 0\n",
      "Total mult-adds (M): 213.76\n",
      "===============================================================================================\n",
      "Input size (MB): 0.19\n",
      "Forward/backward pass size (MB): 14.75\n",
      "Params size (MB): 3.92\n",
      "Estimated Total Size (MB): 18.86\n",
      "===============================================================================================\n"
     ]
    }
   ],
   "source": [
    "if __name__ == \"__main__\":\n",
    "    inputs = torch.randn((8, 3, IMG_HEIGHT, IMG_WIDTH))\n",
    "    model = UNet3Plus()\n",
    "    outputs = model(inputs)\n",
    "    print(outputs[0].shape)\n",
    "    summary(model, (3,IMG_HEIGHT,IMG_WIDTH))"
   ]
  },
  {
   "cell_type": "markdown",
   "id": "32f5e88f",
   "metadata": {},
   "source": [
    "### Calculate GFLOPS"
   ]
  },
  {
   "cell_type": "code",
   "execution_count": 170,
   "id": "8540441a",
   "metadata": {},
   "outputs": [
    {
     "name": "stdout",
     "output_type": "stream",
     "text": [
      "MACs: 1.05 GMac\n",
      "FLOPs: 2.10 GFLOPs\n"
     ]
    }
   ],
   "source": [
    "from ptflops import get_model_complexity_info\n",
    "\n",
    "model = UNet3Plus(deep_supervision=False).eval()\n",
    "mac, params = get_model_complexity_info(model, (3,IMG_HEIGHT,IMG_WIDTH),\n",
    "                                        as_strings=False,\n",
    "                                        print_per_layer_stat=False)\n",
    "print(f\"MACs: {mac/1e9:.2f} GMac\")\n",
    "print(f\"FLOPs: {2*mac/1e9:.2f} GFLOPs\")"
   ]
  },
  {
   "cell_type": "markdown",
   "id": "8459ccf5",
   "metadata": {},
   "source": [
    "## *Data Science Bowl 2018 Nuclei Dataset*"
   ]
  },
  {
   "cell_type": "code",
   "execution_count": 137,
   "id": "813ba02a",
   "metadata": {},
   "outputs": [
    {
     "name": "stdout",
     "output_type": "stream",
     "text": [
      "670 65 670\n"
     ]
    }
   ],
   "source": [
    "train_dirs = next(os.walk(top = TRAIN_DIR, topdown=True))[1]\n",
    "test_dirs = next(os.walk(top = TEST_DIR, topdown=True))[1]\n",
    "masks_filenames = next(os.walk(top=TRAIN_MASKS_DIR,topdown=True))[2]\n",
    "print(len(train_dirs), len(test_dirs), len(masks_filenames))\n",
    "\n",
    "#----------------------------------------------------------------------------------------------\n",
    "train_dirs = next(os.walk(top = TRAIN_DIR, topdown=True))[1]\n",
    "train_ids, eval_ids = train_test_split(train_dirs, test_size=150, shuffle=True, random_state=18)"
   ]
  },
  {
   "cell_type": "markdown",
   "id": "1232ceb7",
   "metadata": {},
   "source": [
    "### **Custom class for DSB 2018** nuclei dataset"
   ]
  },
  {
   "cell_type": "code",
   "execution_count": 138,
   "id": "e62eafc3",
   "metadata": {},
   "outputs": [],
   "source": [
    "class DSB2018_Dataset (torch.utils.data.Dataset):\n",
    "    def __init__ (self, set_type, \n",
    "                  size = (IMG_HEIGHT, IMG_WIDTH), \n",
    "                  joint_transform = None, \n",
    "                  train_ids = train_ids, \n",
    "                  eval_ids = eval_ids, \n",
    "                  binary_mask = True,\n",
    "                  distance_map = False,\n",
    "                  clip_dist = None,\n",
    "                  normalize_phi = True):\n",
    "        \n",
    "        self.joint_transform = joint_transform\n",
    "        self.binary_mask = binary_mask\n",
    "        self.distance_map = distance_map\n",
    "        self.clip_dist = clip_dist\n",
    "        self.normalize_phi = normalize_phi\n",
    "\n",
    "        # Check for dataset type and assign correct list of sample ids (folder names)\n",
    "        if set_type.lower() == 'train':\n",
    "            self.data_ids = train_ids  \n",
    "        elif set_type.lower() == 'eval':\n",
    "            self.data_ids = eval_ids\n",
    "        else: raise ValueError('Dataset type must be \\'train\\' or \\'eval\\'.')\n",
    "\n",
    "        self.img_resize = v2.Resize(size=size, interpolation=v2.InterpolationMode.BILINEAR)\n",
    "        self.mask_resize = v2.Resize(size=size, interpolation=v2.InterpolationMode.NEAREST_EXACT)\n",
    "        self.to_float01 = v2.ToDtype(torch.float32,scale=True) #Normalize to [0,1]\n",
    "\n",
    "    def __len__(self):\n",
    "        return len(self.data_ids)\n",
    "    \n",
    "    def __distance_transform__ (self, mask):\n",
    "        mk = mask[0].cpu().numpy().astype(np.uint8) #[1,H,W]->[H,W]\n",
    "        # _edt means Euclidean distance transform \n",
    "        inner_distance = ndi.distance_transform_edt(mk) #This returns the distance to the nearest zero-element\n",
    "        outer_distance = ndi.distance_transform_edt(1-mk)\n",
    "        \n",
    "        phi = outer_distance-inner_distance #Positive outside of the foreground, negative on the inside\n",
    "        D = np.abs(phi)\n",
    "\n",
    "        if self.clip_dist is not None:\n",
    "            phi = np.clip(phi,-self.clip_dist,self.clip_dist)\n",
    "            D   = np.clip(D,0.0,self.clip_dist)\n",
    "\n",
    "        if self.normalize_phi:\n",
    "            abs_mean = np.mean(np.abs(phi)) + 1e-8\n",
    "            phi = phi / abs_mean\n",
    "\n",
    "        phi = torch.from_numpy(phi).unsqueeze(0).to(mask.dtype)\n",
    "        D = torch.from_numpy(D).unsqueeze(0).to(mask.dtype)\n",
    "\n",
    "        return phi,D\n",
    "    \n",
    "    def __getitem__(self, index):\n",
    "\n",
    "        img_id = self.data_ids[index]\n",
    "        img_path = os.path.join(TRAIN_DIR, img_id, 'images', f'{img_id}.png')\n",
    "        mask_path =  os.path.join(TRAIN_MASKS_DIR, f'{img_id}.png')\n",
    "\n",
    "        image = io.decode_image(img_path, mode= 'RGB')\n",
    "        mask = io.decode_image(mask_path, mode = 'GRAY')\n",
    "\n",
    "        if self.joint_transform is not None:\n",
    "            image, mask = self.joint_transform(image, mask)\n",
    "\n",
    "            if self.distance_map and self.binary_mask:\n",
    "                phi,D = self.__distance_transform__(mask)\n",
    "                return image, mask, phi, D\n",
    "            \n",
    "            return image, mask\n",
    "        else:\n",
    "            image = self.img_resize(image)\n",
    "            image = self.to_float01(image)\n",
    "            \n",
    "            mask = self.mask_resize(mask)\n",
    "            if mask.ndim == 2:\n",
    "                mask = mask.unsqueeze(0)\n",
    "            \n",
    "           # ---Mask binarization & handling dtype--- (Last for safety)\n",
    "            if self.binary_mask:\n",
    "                mask = (mask>0).to(torch.float32) \n",
    "            else: # Multi-class segment, which would expect mask to be of long dtype\n",
    "                mask = mask.to(torch.long)\n",
    "            \n",
    "            if self.distance_map and self.binary_mask:\n",
    "                phi,D = self.__distance_transform__(mask)\n",
    "                return image, mask, phi, D\n",
    "            \n",
    "            '''[3,H,w] & [1,H,W]'''\n",
    "            return image, mask \n"
   ]
  },
  {
   "cell_type": "markdown",
   "id": "c2f65b48",
   "metadata": {},
   "source": [
    "### Data augmentation"
   ]
  },
  {
   "cell_type": "code",
   "execution_count": 139,
   "id": "a699e4a3",
   "metadata": {},
   "outputs": [],
   "source": [
    "class JointTransform: # Takes both numpy and torch tensors\n",
    "\n",
    "    def __init__(self,  size = (IMG_HEIGHT,IMG_WIDTH), binary_mask = True):\n",
    "        self.size = size #True size\n",
    "        self.normalize = v2.Normalize(mean = [0.485, 0.456, 0.406], \n",
    "                                      std = [0.229, 0.224, 0.225])\n",
    "        self.img_resize = v2.Resize(size=size, interpolation=v2.InterpolationMode.BILINEAR)#Resizing size is bigger because we want to perform random crop\n",
    "        self.mask_resize = v2.Resize(size=size, interpolation=v2.InterpolationMode.NEAREST_EXACT)\n",
    "        self.to_float01 = v2.ToDtype(torch.float32,scale=True) #Normalize to [0,1]\n",
    "        self.binary_mask = binary_mask\n",
    "    \n",
    "    def _to_torch_tensor(self, input): # Accept both numpy arrays and tensors\n",
    "        if isinstance(input, np.ndarray):\n",
    "            tensor = torch.from_numpy(input) #(H,W,C) - numpy array or (H,W)\n",
    "            if tensor.ndim == 2: #(H,W)\n",
    "                tensor = tensor.unsqueeze(-1) #(H,W,1)\n",
    "            tensor = tensor.permute(2,0,1) #(1,H,W)\n",
    "        else: # Tensor (C,H,W)\n",
    "            tensor = input\n",
    "            if tensor.ndim == 2: #(H,W)\n",
    "                tensor = tensor.unsqueeze(0) #(1,H,W)\n",
    "        return tensor\n",
    "        \n",
    "    def __call__(self, image, mask):\n",
    "        #Convert ndarray to tensor\n",
    "        image = self._to_torch_tensor(image)\n",
    "        image = self.to_float01(image)\n",
    "\n",
    "        mask = self._to_torch_tensor(mask)\n",
    "        mask = mask[:1,:,:] #Ensure that mask has only one channel\n",
    "\n",
    "        # ---Resizing---\n",
    "        if image.shape[1:] != (IMG_HEIGHT,IMG_WIDTH):\n",
    "            image = self.img_resize(image)\n",
    "        if mask.shape[1:] != (IMG_HEIGHT,IMG_WIDTH):\n",
    "            mask = self.mask_resize(mask)\n",
    "\n",
    "        # ---Random crop---\n",
    "        # i,j are the coordinates that signifies where to start cropping\n",
    "        i,j,h,w = v2.RandomCrop.get_params(image, output_size=self.size)\n",
    "        image = TF.crop(image, i,j,h,w)\n",
    "        mask = TF.crop(mask, i,j,h,w)\n",
    "        \n",
    "        # ---Random horizontal flip---\n",
    "        if random.random() > 0.5:\n",
    "            image = TF.hflip(image)\n",
    "            mask = TF.hflip(mask)\n",
    "        \n",
    "        # ---Random vertical flip---\n",
    "        if random.random() > 0.5:\n",
    "            image = TF.vflip(image)\n",
    "            mask = TF.vflip(mask)\n",
    "        \n",
    "        # ---Random rotation---\n",
    "        if random.random() > 0.5:\n",
    "            angle = random.uniform(-10, 10)\n",
    "            image = TF.rotate(image, angle=angle,\n",
    "                             interpolation=v2.InterpolationMode.BILINEAR)\n",
    "            mask = TF.rotate(mask, angle=angle, \n",
    "                            interpolation=v2.InterpolationMode.NEAREST)\n",
    "\n",
    "        # ---Mask binarization & handling dtype--- (Last for safety)\n",
    "        if self.binary_mask:\n",
    "            mask = (mask>0).to(torch.float32) \n",
    "        else: # Multi-class segment, which would expect mask to be of long dtype\n",
    "            mask = mask.to(torch.long)\n",
    "\n",
    "        # ---Normalized the image---\n",
    "        image = self.normalize(image)\n",
    "      \n",
    "        '''[3,H,w] & [1,H,W]'''\n",
    "        return image, mask"
   ]
  },
  {
   "cell_type": "markdown",
   "id": "0ebd2e96",
   "metadata": {},
   "source": [
    "## ***Loss functions and Metrics***"
   ]
  },
  {
   "cell_type": "markdown",
   "id": "77357646",
   "metadata": {},
   "source": [
    "### **Dice score** and **IoU** to evaluate semantic segmentation"
   ]
  },
  {
   "cell_type": "markdown",
   "id": "f252aaa7",
   "metadata": {},
   "source": [
    "- **Dice score** is defined as:\n",
    "$$\n",
    "\\text{Dice score} = \\frac{2\\times\\text{TP}}{(\\text{TP}+\\text{FP})+(\\text{TP}+\\text{FN})+\\epsilon}\n",
    "$$\n",
    "- **IoU** (Intersection over Union) is defined as:\n",
    "$$\n",
    "\\text{IoU} = \\frac{\\text{Dice score}}{2-\\text{Dice score} + \\epsilon}\n",
    "$$"
   ]
  },
  {
   "cell_type": "code",
   "execution_count": 140,
   "id": "03f080a9",
   "metadata": {},
   "outputs": [],
   "source": [
    "def Dice_IoU(pred, mask, epsilon = 1e-6):\n",
    "    # Case 1: Pred's shape is [N,2,H,W], binary is 2 classes, this was treated like multi class segmentation\n",
    "    if pred.ndim == 4 and pred.shape[1]==2:\n",
    "        pred = pred.argmax(dim = 1).unsqueeze(1) # [N,2,H,W] -> [N,H,W]\n",
    "\n",
    "    # Case 2: Pred's shape is [N,H,W] -> [N,1,H,W]\n",
    "    elif pred.ndim == 4 and pred.shape[1]==1:\n",
    "        pred = pred.squeeze(1) # [N,1,H,w] -> [N,H,W]\n",
    "    \n",
    "    pred = pred.to(torch.float32)\n",
    "\n",
    "    if pred.dtype.is_floating_point and (pred.min()<0 or pred.max()>1): # Check if the pred pixel values are float, neccessary for sigmoid function\n",
    "        pred = torch.sigmoid(pred)\n",
    "        pred = (pred >= 0.5)\n",
    "\n",
    "    mask = (mask > 0).to(torch.float32)\n",
    "\n",
    "    intersection = (pred*mask).sum(dim=(1,2))\n",
    "    union = pred.sum(dim=(1,2)) + mask.sum(dim=(1,2))\n",
    "    \n",
    "    dice = (2*intersection + epsilon)/(union + epsilon) # [N], dice score for each sample in the batch\n",
    "    iou = (intersection + epsilon) / (union - intersection + epsilon)\n",
    "\n",
    "    return dice.mean().item(), iou.mean().item()"
   ]
  },
  {
   "cell_type": "markdown",
   "id": "71d966fc",
   "metadata": {},
   "source": [
    "### **Focal loss**\n",
    "**Focal loss** formula can be expressed as:\n",
    "$$\n",
    "\\text{FL}(p_t) = -{\\alpha}_t(1-p_t)^{\\gamma}\\log(p_t)\n",
    "$$\n",
    "$$\n",
    "\\text{Binary Cross Entropy Loss} = -\\log(p_t)\n",
    "$$\n",
    "$$\n",
    "\\text{FL}(p_t) = {\\alpha}_t(1-p_t)^{\\gamma}(\\text{BCE}(p_t))\n",
    "$$\n",
    "With:\n",
    "- $\\alpha_t$ is the balance factor to oppose class imbalance, for binary segmentation:\n",
    "$$\n",
    "\\alpha_t =\\begin{cases}\\alpha, & y = 1 \\\\1 - \\alpha, & y = 0\\end{cases}\n",
    "$$"
   ]
  },
  {
   "cell_type": "code",
   "execution_count": 141,
   "id": "f5988ddf",
   "metadata": {},
   "outputs": [],
   "source": [
    "'''---Focal Loss---'''\n",
    "class BCEFocalLoss(nn.Module):\n",
    "    def __init__(self, gamma= 4/3, alpha=None, reduction='mean'):\n",
    "        super().__init__()\n",
    "        self.gamma = gamma\n",
    "        self.alpha = alpha  # Can be a list/tuple or scalar\n",
    "        self.reduction = reduction\n",
    "\n",
    "    def forward(self, pred, mask):\n",
    "        '''\n",
    "        logits: [B, H, W] (Raw information), mask: [B, H, W] \n",
    "        '''\n",
    "        if pred.ndim==4 and pred.shape[1]==1: \n",
    "            pred = pred.squeeze(1) #[N,1,H,W] -> [N,H,W]\n",
    "        elif pred.ndim != 3: \n",
    "            raise ValueError('Predicted logit is expected to be in the size [N,1,H,W] or [N,H,W]')\n",
    "\n",
    "        if mask.ndim==4 and mask.shape[1]==1: \n",
    "            mask = mask.squeeze(1) # [N,1,H,W] -> [N,H,W]\n",
    "        elif mask.ndim !=3: \n",
    "            raise ValueError('Ground truth mask is expected to be in the size [N,1,H,W] or [N,H,W]')\n",
    "        \n",
    "        mask = mask.to(torch.float32) # Ensure the right dtype of mask, BCE loss requires float\n",
    "\n",
    "        bce = nn.functional.binary_cross_entropy_with_logits(pred, mask, reduction='none')  # [N,]\n",
    "        pt = torch.exp(-bce)  # pt = prob of true class\n",
    "\n",
    "        if self.alpha is not None:\n",
    "            at = self.alpha*mask + (1-self.alpha)*(1-mask)\n",
    "        else: at = 1.0\n",
    "\n",
    "        loss = (at*(1 - pt) ** self.gamma *(bce))\n",
    "\n",
    "        if self.reduction == 'mean':\n",
    "            return loss.mean()\n",
    "        elif self.reduction == 'sum':\n",
    "            return loss.sum()\n",
    "        \n",
    "        return loss  # no reduction"
   ]
  },
  {
   "cell_type": "markdown",
   "id": "cef89b19",
   "metadata": {},
   "source": [
    "### **Focal Tversky Loss**:\n",
    "- Tversky Loss but powered by $1/\\gamma$\n",
    "- According to the paper, $\\gamma$ has found the most success at $4/3$\n",
    "$$\n",
    "\\text{FTL(Focal Tversky loss)} = \\frac{1}{\\text{C}}\\sum_{c=1}^{C}(1-\\text{Tversky}_c)^{1/\\gamma} = \\frac{1}{\\text{C}}\\sum_{c=1}^{C}(1-\\text{TI}_c)^{1/\\gamma}\n",
    "$$\n",
    "$$\n",
    "\\text{TI}_c = \\frac{\\text{TP}}{\\text{TP} + \\alpha\\cdot\\text{FP} + \\beta\\cdot\\text{FN} + \\epsilon}\n",
    "$$ "
   ]
  },
  {
   "cell_type": "code",
   "execution_count": 142,
   "id": "4e5f41cc",
   "metadata": {},
   "outputs": [],
   "source": [
    "'''---Focal Tversky Loss---'''\n",
    "class FTL(nn.Module):\n",
    "    def __init__(self, alpha = 0.3, beta = 0.7, gamma = 4/3, epsilon = 1e-6, from_logits = True, reduction = 'mean'):\n",
    "        super(FTL, self).__init__()\n",
    "        self.epsilon = epsilon\n",
    "        self.alpha = alpha\n",
    "        self.beta = beta\n",
    "        self.gamma = gamma\n",
    "        self.from_logits = from_logits\n",
    "        self.reduction = reduction\n",
    "    \n",
    "    def forward (self, pred, mask): \n",
    "        '''\n",
    "        Both pred and mask are converted into tensors before passing in\n",
    "        Mask's input shape: [N,H,W]\n",
    "        Logits(Predicted image)'s shape: [N,1,H,W]\n",
    "        logits: [N, H, W] (Raw information), mask: [N, H, W] \n",
    "        '''\n",
    "\n",
    "        # Shape\n",
    "        if pred.ndim==4 and pred.shape[1]==1:\n",
    "            pred = pred[:,0,:,:] #[N,1,H,W] -> [N,H,W]\n",
    "        elif pred.ndim != 3: \n",
    "            raise ValueError('Predicted logit is expected to be in the size [N,1,H,W] or [N,H,W]')\n",
    "\n",
    "        if mask.ndim==4 and mask.shape[1]==1:\n",
    "            mask = mask[:,0,:,:] # [N,1,H,W] -> [N,H,W]\n",
    "        elif mask.ndim !=3: \n",
    "            raise ValueError('Ground truth mask is expected to be in the size [N,1,H,W] or [N,H,W]')\n",
    "        \n",
    "        # Datatypes\n",
    "        pred = pred.to(torch.float32)\n",
    "        mask = mask.to(torch.float32)\n",
    "\n",
    "        # logits -> Probability\n",
    "        if self.from_logits: \n",
    "            prob = torch.sigmoid(pred)\n",
    "        else: prob = pred.clamp(0,1)\n",
    "        \n",
    "        # FTL\n",
    "        tp = (prob*mask).sum(dim =(1,2)) #[N,]\n",
    "        fp = (prob*(1.0-mask)).sum(dim=(1,2)) \n",
    "        fn = (mask*(1.0-prob)).sum(dim=(1,2))\n",
    "        tversky_index = (tp+self.epsilon)/(tp+self.alpha*fp+self.beta*fn+self.epsilon) #[N,]\n",
    "        loss = (1-tversky_index)**(1/self.gamma)\n",
    "        \n",
    "        # Reduction\n",
    "        if self.reduction == 'mean':\n",
    "            return loss.mean()\n",
    "        elif self.reduction == 'sum':\n",
    "            return loss.sum()\n",
    "        \n",
    "        return loss  # no reduction"
   ]
  },
  {
   "cell_type": "markdown",
   "id": "6ed1e7b0",
   "metadata": {},
   "source": [
    "### **Boundary loss**\n",
    "- Boundary loss is defined as:\n",
    "$$\n",
    "\\mathcal{L}_{\\text{boundary}}(\\theta)\n",
    "= \\langle \\phi_G, \\; s_\\theta \\rangle\n",
    "= \\int_{\\Omega} \\phi_G(p) \\, s_\\theta(p) \\, dp\n",
    "$$\n",
    "With:\n",
    "- $\\phi_G(p)$: signed distance map of the ground truth mask\n",
    "- $s_\\theta(p)$: predicted probability of the true class"
   ]
  },
  {
   "cell_type": "code",
   "execution_count": 143,
   "id": "b4106879",
   "metadata": {},
   "outputs": [],
   "source": [
    "class BoundaryLoss(nn.Module):\n",
    "    \"\"\"\n",
    "    L = <phi_G, s_theta>\n",
    "    - Binary: logits [B,1,H,W], phi [B,1,H,W]\n",
    "    - Multi : logits [B,C,H,W], phi [B,C,H,W] (one phi per class)\n",
    "    Expect phi already prepared (signed; you normalized it in the Dataset).\n",
    "    \"\"\"\n",
    "    def __init__(self, reduction=\"mean\"):\n",
    "        super().__init__()\n",
    "        self.reduction = reduction\n",
    "\n",
    "    def forward(self, logits, phi):\n",
    "        probs = torch.sigmoid(logits) if logits.shape[1] == 1 else F.softmax(logits, dim=1)\n",
    "        loss_map = probs * phi                      # <phi, s>\n",
    "        loss = loss_map.mean(dim=(1,2,3))          # per-sample\n",
    "        if self.reduction == \"mean\": return loss.mean()\n",
    "        if self.reduction == \"sum\":  return loss.sum()\n",
    "        return loss"
   ]
  },
  {
   "cell_type": "markdown",
   "id": "f41e4e2f",
   "metadata": {},
   "source": [
    "### Function that gets all the neccessary model, functions, optimizer for training"
   ]
  },
  {
   "cell_type": "code",
   "execution_count": 144,
   "id": "ca736954",
   "metadata": {},
   "outputs": [],
   "source": [
    "def get_model(UNet = UNet3Plus,device = 'cuda',lr = 1e-3,weight_decay = 1e-5, optim = 'Adam'):\n",
    "    \n",
    "    #--- Model ---\n",
    "    model = UNet().to(device)\n",
    "    \n",
    "    #--- Loss functions ---\n",
    "    focal_tversky_loss = FTL(alpha = 0.3, beta=0.7, gamma=4/3)\n",
    "    focal_loss = BCEFocalLoss(alpha=0.75, gamma=2) \n",
    "    boundary_loss = BoundaryLoss(reduction='mean')\n",
    "    \n",
    "    #--- Optimizers ---\n",
    "    if optim == 'Adam':\n",
    "        optimizer = Adam(model.parameters(), lr = lr, weight_decay = weight_decay) \n",
    "    elif optim == 'SGD':\n",
    "        optimizer = SGD(model.parameters(), momentum=0.9, nesterov=True,lr = lr, weight_decay = weight_decay) \n",
    "    else: \n",
    "        raise ValueError('Unsupported Optimizer')\n",
    "    \n",
    "    return model, focal_tversky_loss, focal_loss, boundary_loss, optimizer"
   ]
  },
  {
   "cell_type": "markdown",
   "id": "64d8e9dd",
   "metadata": {},
   "source": [
    "### Train individual batch function"
   ]
  },
  {
   "cell_type": "code",
   "execution_count": 145,
   "id": "2ee6be3b",
   "metadata": {},
   "outputs": [],
   "source": [
    "def train_batch(model,data_batch,optimizer,\n",
    "                focal_tversky_loss,focal_loss,boundary_loss,\n",
    "                device = 'cuda',\n",
    "                head_weights = [0.1,0.1,0.2,0.6],\n",
    "                w_bdry = 0.5, w_ftl = 0.7, w_fl = 0.3):\n",
    "    model.train()\n",
    "    img, mask, phi, D = data_batch\n",
    "    img = img.to(device)\n",
    "    mask = mask.to(device)\n",
    "    phi = phi.to(device)\n",
    "    D = D.to(device)\n",
    "    \n",
    "    if mask.ndim == 4 and mask.shape[1] == 1:\n",
    "        mask = mask.squeeze(1)  # -> [N,H,W]\n",
    "        \n",
    "    mask = (mask > 0).to(torch.float32)\n",
    "\n",
    "    optimizer.zero_grad()\n",
    "    \n",
    "\n",
    "    logits = model(img) \n",
    "    total_loss = 0.0\n",
    "\n",
    "    for logit, w in zip(logits,head_weights):\n",
    "        if logit.shape[2:]!=mask.shape[1:]:\n",
    "            logit = F.interpolate(logit, size=mask.shape[1:], mode='bilinear', align_corners=False)\n",
    "        loss = w_ftl*focal_tversky_loss(logit, mask) + w_fl*focal_loss(logit,mask) + w_bdry*boundary_loss(logit, phi)\n",
    "        total_loss += loss*w\n",
    "\n",
    "    total_loss.backward()\n",
    "    optimizer.step() \n",
    "\n",
    "    final_logit = logits[-1]\n",
    "    final_pred = (torch.sigmoid(final_logit)>=0.5)\n",
    "    dice, iou = Dice_IoU(final_pred,mask)\n",
    "    pixel_acc = (final_pred==mask).float().mean()\n",
    "\n",
    "    return total_loss.item(), dice, iou, pixel_acc"
   ]
  },
  {
   "cell_type": "markdown",
   "id": "556d4bad",
   "metadata": {},
   "source": [
    "## ***Training***"
   ]
  },
  {
   "cell_type": "markdown",
   "id": "b05f2313",
   "metadata": {},
   "source": [
    "### Loading data into batches"
   ]
  },
  {
   "cell_type": "code",
   "execution_count": 146,
   "id": "9ebbbbb5",
   "metadata": {},
   "outputs": [],
   "source": [
    "train_data = DSB2018_Dataset(set_type='train', \n",
    "                             joint_transform= JointTransform(),\n",
    "                             distance_map=True,\n",
    "                             binary_mask=True)\n",
    "trn_dl = DataLoader(train_data, batch_size = 16, shuffle = True)\n",
    "img, mk, phi, D = next(iter(trn_dl))"
   ]
  },
  {
   "cell_type": "code",
   "execution_count": 147,
   "id": "27f1116f",
   "metadata": {},
   "outputs": [],
   "source": [
    "#Warming up for boundary loss\n",
    "def ramp_weight(epoch, start=3, end=15, max_w=0.2):\n",
    "    if epoch < start:\n",
    "        return 0.0\n",
    "    if epoch >= end:\n",
    "        return max_w\n",
    "    # linear ramp\n",
    "    return max_w * (epoch - start) / (end - start)"
   ]
  },
  {
   "cell_type": "code",
   "execution_count": 148,
   "id": "862152c3",
   "metadata": {},
   "outputs": [
    {
     "name": "stdout",
     "output_type": "stream",
     "text": [
      "torch.Size([16, 3, 128, 128]) torch.Size([16, 1, 128, 128])\n"
     ]
    },
    {
     "name": "stderr",
     "output_type": "stream",
     "text": [
      "CURRENT EPOCH: 0: 100%|██████████| 33/33 [00:09<00:00,  3.38it/s]\n"
     ]
    },
    {
     "name": "stdout",
     "output_type": "stream",
     "text": [
      "Learning rate: 0.001000\n",
      "Epoch loss = 0.3345, pixel accuracy = 52.7310%\n",
      "Dice score = 56.9577%, IoU = 44.4675%\n",
      "\n"
     ]
    },
    {
     "name": "stderr",
     "output_type": "stream",
     "text": [
      "CURRENT EPOCH: 1: 100%|██████████| 33/33 [00:09<00:00,  3.51it/s]\n"
     ]
    },
    {
     "name": "stdout",
     "output_type": "stream",
     "text": [
      "Learning rate: 0.001000\n",
      "Epoch loss = 0.2007, pixel accuracy = 67.5511%\n",
      "Dice score = 81.4481%, IoU = 70.7170%\n",
      "\n"
     ]
    },
    {
     "name": "stderr",
     "output_type": "stream",
     "text": [
      "CURRENT EPOCH: 2: 100%|██████████| 33/33 [00:09<00:00,  3.52it/s]\n"
     ]
    },
    {
     "name": "stdout",
     "output_type": "stream",
     "text": [
      "Learning rate: 0.001000\n",
      "Epoch loss = 0.1342, pixel accuracy = 68.2053%\n",
      "Dice score = 85.8634%, IoU = 76.8854%\n",
      "\n"
     ]
    },
    {
     "name": "stderr",
     "output_type": "stream",
     "text": [
      "CURRENT EPOCH: 3: 100%|██████████| 33/33 [00:09<00:00,  3.49it/s]\n"
     ]
    },
    {
     "name": "stdout",
     "output_type": "stream",
     "text": [
      "Learning rate: 0.001000\n",
      "Epoch loss = 0.1209, pixel accuracy = 68.1960%\n",
      "Dice score = 87.2724%, IoU = 78.7380%\n",
      "\n"
     ]
    },
    {
     "name": "stderr",
     "output_type": "stream",
     "text": [
      "CURRENT EPOCH: 4: 100%|██████████| 33/33 [00:09<00:00,  3.50it/s]\n"
     ]
    },
    {
     "name": "stdout",
     "output_type": "stream",
     "text": [
      "Learning rate: 0.001000\n",
      "Epoch loss = 0.1139, pixel accuracy = 68.2510%\n",
      "Dice score = 87.2304%, IoU = 78.6918%\n",
      "\n"
     ]
    },
    {
     "name": "stderr",
     "output_type": "stream",
     "text": [
      "CURRENT EPOCH: 5: 100%|██████████| 33/33 [00:09<00:00,  3.52it/s]\n"
     ]
    },
    {
     "name": "stdout",
     "output_type": "stream",
     "text": [
      "Learning rate: 0.001000\n",
      "Epoch loss = 0.1142, pixel accuracy = 68.0618%\n",
      "Dice score = 86.4404%, IoU = 77.5315%\n",
      "\n"
     ]
    },
    {
     "name": "stderr",
     "output_type": "stream",
     "text": [
      "CURRENT EPOCH: 6: 100%|██████████| 33/33 [00:09<00:00,  3.44it/s]\n"
     ]
    },
    {
     "name": "stdout",
     "output_type": "stream",
     "text": [
      "Learning rate: 0.001000\n",
      "Epoch loss = 0.0960, pixel accuracy = 68.2335%\n",
      "Dice score = 88.1630%, IoU = 79.9997%\n",
      "\n"
     ]
    },
    {
     "name": "stderr",
     "output_type": "stream",
     "text": [
      "CURRENT EPOCH: 7: 100%|██████████| 33/33 [00:09<00:00,  3.52it/s]\n"
     ]
    },
    {
     "name": "stdout",
     "output_type": "stream",
     "text": [
      "Learning rate: 0.001000\n",
      "Epoch loss = 0.0891, pixel accuracy = 68.3454%\n",
      "Dice score = 88.4820%, IoU = 80.4423%\n",
      "\n"
     ]
    },
    {
     "name": "stderr",
     "output_type": "stream",
     "text": [
      "CURRENT EPOCH: 8: 100%|██████████| 33/33 [00:09<00:00,  3.52it/s]\n"
     ]
    },
    {
     "name": "stdout",
     "output_type": "stream",
     "text": [
      "Learning rate: 0.001000\n",
      "Epoch loss = 0.0794, pixel accuracy = 68.5916%\n",
      "Dice score = 89.0286%, IoU = 81.2113%\n",
      "\n"
     ]
    },
    {
     "name": "stderr",
     "output_type": "stream",
     "text": [
      "CURRENT EPOCH: 9: 100%|██████████| 33/33 [00:09<00:00,  3.52it/s]\n"
     ]
    },
    {
     "name": "stdout",
     "output_type": "stream",
     "text": [
      "Learning rate: 0.001000\n",
      "Epoch loss = 0.0724, pixel accuracy = 68.5671%\n",
      "Dice score = 89.2005%, IoU = 81.5056%\n",
      "\n"
     ]
    },
    {
     "name": "stderr",
     "output_type": "stream",
     "text": [
      "CURRENT EPOCH: 10: 100%|██████████| 33/33 [00:09<00:00,  3.49it/s]\n"
     ]
    },
    {
     "name": "stdout",
     "output_type": "stream",
     "text": [
      "Learning rate: 0.001000\n",
      "Epoch loss = 0.0667, pixel accuracy = 68.6501%\n",
      "Dice score = 89.2586%, IoU = 81.5399%\n",
      "\n"
     ]
    },
    {
     "name": "stderr",
     "output_type": "stream",
     "text": [
      "CURRENT EPOCH: 11: 100%|██████████| 33/33 [00:09<00:00,  3.55it/s]\n"
     ]
    },
    {
     "name": "stdout",
     "output_type": "stream",
     "text": [
      "Learning rate: 0.001000\n",
      "Epoch loss = 0.0585, pixel accuracy = 68.6233%\n",
      "Dice score = 89.5557%, IoU = 81.9050%\n",
      "\n"
     ]
    },
    {
     "name": "stderr",
     "output_type": "stream",
     "text": [
      "CURRENT EPOCH: 12: 100%|██████████| 33/33 [00:09<00:00,  3.47it/s]\n"
     ]
    },
    {
     "name": "stdout",
     "output_type": "stream",
     "text": [
      "Learning rate: 0.001000\n",
      "Epoch loss = 0.0509, pixel accuracy = 68.7580%\n",
      "Dice score = 89.8979%, IoU = 82.4001%\n",
      "\n"
     ]
    },
    {
     "name": "stderr",
     "output_type": "stream",
     "text": [
      "CURRENT EPOCH: 13: 100%|██████████| 33/33 [00:09<00:00,  3.53it/s]\n"
     ]
    },
    {
     "name": "stdout",
     "output_type": "stream",
     "text": [
      "Learning rate: 0.001000\n",
      "Epoch loss = 0.0500, pixel accuracy = 68.7695%\n",
      "Dice score = 89.3943%, IoU = 81.6715%\n",
      "\n"
     ]
    },
    {
     "name": "stderr",
     "output_type": "stream",
     "text": [
      "CURRENT EPOCH: 14: 100%|██████████| 33/33 [00:09<00:00,  3.57it/s]\n"
     ]
    },
    {
     "name": "stdout",
     "output_type": "stream",
     "text": [
      "Learning rate: 0.001000\n",
      "Epoch loss = 0.0458, pixel accuracy = 68.4890%\n",
      "Dice score = 89.1181%, IoU = 81.2926%\n",
      "\n"
     ]
    },
    {
     "name": "stderr",
     "output_type": "stream",
     "text": [
      "CURRENT EPOCH: 15: 100%|██████████| 33/33 [00:09<00:00,  3.56it/s]\n"
     ]
    },
    {
     "name": "stdout",
     "output_type": "stream",
     "text": [
      "Learning rate: 0.001000\n",
      "Epoch loss = 0.0385, pixel accuracy = 68.6269%\n",
      "Dice score = 89.6583%, IoU = 82.0448%\n",
      "\n"
     ]
    },
    {
     "name": "stderr",
     "output_type": "stream",
     "text": [
      "CURRENT EPOCH: 16: 100%|██████████| 33/33 [00:09<00:00,  3.52it/s]\n"
     ]
    },
    {
     "name": "stdout",
     "output_type": "stream",
     "text": [
      "Learning rate: 0.001000\n",
      "Epoch loss = 0.0337, pixel accuracy = 68.7297%\n",
      "Dice score = 90.0802%, IoU = 82.6820%\n",
      "\n"
     ]
    },
    {
     "name": "stderr",
     "output_type": "stream",
     "text": [
      "CURRENT EPOCH: 17: 100%|██████████| 33/33 [00:09<00:00,  3.54it/s]\n"
     ]
    },
    {
     "name": "stdout",
     "output_type": "stream",
     "text": [
      "Learning rate: 0.001000\n",
      "Epoch loss = 0.0318, pixel accuracy = 68.8312%\n",
      "Dice score = 90.3042%, IoU = 83.1053%\n",
      "\n"
     ]
    },
    {
     "name": "stderr",
     "output_type": "stream",
     "text": [
      "CURRENT EPOCH: 18: 100%|██████████| 33/33 [00:09<00:00,  3.57it/s]\n"
     ]
    },
    {
     "name": "stdout",
     "output_type": "stream",
     "text": [
      "Learning rate: 0.001000\n",
      "Epoch loss = 0.0339, pixel accuracy = 68.7334%\n",
      "Dice score = 89.9431%, IoU = 82.4388%\n",
      "\n"
     ]
    },
    {
     "name": "stderr",
     "output_type": "stream",
     "text": [
      "CURRENT EPOCH: 19: 100%|██████████| 33/33 [00:09<00:00,  3.58it/s]\n"
     ]
    },
    {
     "name": "stdout",
     "output_type": "stream",
     "text": [
      "Learning rate: 0.001000\n",
      "Epoch loss = 0.0336, pixel accuracy = 68.8208%\n",
      "Dice score = 89.8906%, IoU = 82.5213%\n",
      "\n"
     ]
    },
    {
     "name": "stderr",
     "output_type": "stream",
     "text": [
      "CURRENT EPOCH: 20: 100%|██████████| 33/33 [00:09<00:00,  3.58it/s]\n"
     ]
    },
    {
     "name": "stdout",
     "output_type": "stream",
     "text": [
      "Learning rate: 0.001000\n",
      "Epoch loss = 0.0315, pixel accuracy = 68.5936%\n",
      "Dice score = 90.2319%, IoU = 83.0020%\n",
      "\n"
     ]
    },
    {
     "name": "stderr",
     "output_type": "stream",
     "text": [
      "CURRENT EPOCH: 21: 100%|██████████| 33/33 [00:09<00:00,  3.58it/s]\n"
     ]
    },
    {
     "name": "stdout",
     "output_type": "stream",
     "text": [
      "Learning rate: 0.001000\n",
      "Epoch loss = 0.0324, pixel accuracy = 68.7324%\n",
      "Dice score = 90.0732%, IoU = 82.6293%\n",
      "\n"
     ]
    },
    {
     "name": "stderr",
     "output_type": "stream",
     "text": [
      "CURRENT EPOCH: 22: 100%|██████████| 33/33 [00:09<00:00,  3.55it/s]\n"
     ]
    },
    {
     "name": "stdout",
     "output_type": "stream",
     "text": [
      "Learning rate: 0.001000\n",
      "Epoch loss = 0.0298, pixel accuracy = 68.7383%\n",
      "Dice score = 90.4292%, IoU = 83.2156%\n",
      "\n"
     ]
    },
    {
     "name": "stderr",
     "output_type": "stream",
     "text": [
      "CURRENT EPOCH: 23: 100%|██████████| 33/33 [00:09<00:00,  3.55it/s]\n"
     ]
    },
    {
     "name": "stdout",
     "output_type": "stream",
     "text": [
      "Learning rate: 0.001000\n",
      "Epoch loss = 0.0286, pixel accuracy = 68.7305%\n",
      "Dice score = 90.4631%, IoU = 83.3183%\n",
      "\n"
     ]
    },
    {
     "name": "stderr",
     "output_type": "stream",
     "text": [
      "CURRENT EPOCH: 24: 100%|██████████| 33/33 [00:09<00:00,  3.56it/s]\n"
     ]
    },
    {
     "name": "stdout",
     "output_type": "stream",
     "text": [
      "Learning rate: 0.001000\n",
      "Epoch loss = 0.0288, pixel accuracy = 68.9547%\n",
      "Dice score = 90.5030%, IoU = 83.3855%\n",
      "\n"
     ]
    },
    {
     "name": "stderr",
     "output_type": "stream",
     "text": [
      "CURRENT EPOCH: 25: 100%|██████████| 33/33 [00:09<00:00,  3.58it/s]\n"
     ]
    },
    {
     "name": "stdout",
     "output_type": "stream",
     "text": [
      "Learning rate: 0.001000\n",
      "Epoch loss = 0.0293, pixel accuracy = 68.8701%\n",
      "Dice score = 90.4369%, IoU = 83.2917%\n",
      "\n"
     ]
    },
    {
     "name": "stderr",
     "output_type": "stream",
     "text": [
      "CURRENT EPOCH: 26: 100%|██████████| 33/33 [00:09<00:00,  3.57it/s]\n"
     ]
    },
    {
     "name": "stdout",
     "output_type": "stream",
     "text": [
      "Learning rate: 0.001000\n",
      "Epoch loss = 0.0285, pixel accuracy = 69.0232%\n",
      "Dice score = 90.6209%, IoU = 83.4805%\n",
      "\n"
     ]
    },
    {
     "name": "stderr",
     "output_type": "stream",
     "text": [
      "CURRENT EPOCH: 27: 100%|██████████| 33/33 [00:09<00:00,  3.58it/s]\n"
     ]
    },
    {
     "name": "stdout",
     "output_type": "stream",
     "text": [
      "Learning rate: 0.001000\n",
      "Epoch loss = 0.0276, pixel accuracy = 68.6122%\n",
      "Dice score = 90.5309%, IoU = 83.3260%\n",
      "\n"
     ]
    },
    {
     "name": "stderr",
     "output_type": "stream",
     "text": [
      "CURRENT EPOCH: 28: 100%|██████████| 33/33 [00:09<00:00,  3.58it/s]\n"
     ]
    },
    {
     "name": "stdout",
     "output_type": "stream",
     "text": [
      "Learning rate: 0.001000\n",
      "Epoch loss = 0.0278, pixel accuracy = 68.6597%\n",
      "Dice score = 90.5146%, IoU = 83.3158%\n",
      "\n"
     ]
    },
    {
     "name": "stderr",
     "output_type": "stream",
     "text": [
      "CURRENT EPOCH: 29: 100%|██████████| 33/33 [00:09<00:00,  3.54it/s]\n"
     ]
    },
    {
     "name": "stdout",
     "output_type": "stream",
     "text": [
      "Learning rate: 0.001000\n",
      "Epoch loss = 0.0270, pixel accuracy = 68.7057%\n",
      "Dice score = 90.7304%, IoU = 83.6792%\n",
      "\n"
     ]
    },
    {
     "name": "stderr",
     "output_type": "stream",
     "text": [
      "CURRENT EPOCH: 30: 100%|██████████| 33/33 [00:09<00:00,  3.54it/s]\n"
     ]
    },
    {
     "name": "stdout",
     "output_type": "stream",
     "text": [
      "Learning rate: 0.001000\n",
      "Epoch loss = 0.0260, pixel accuracy = 68.6355%\n",
      "Dice score = 90.6887%, IoU = 83.6408%\n",
      "\n"
     ]
    },
    {
     "name": "stderr",
     "output_type": "stream",
     "text": [
      "CURRENT EPOCH: 31: 100%|██████████| 33/33 [00:09<00:00,  3.57it/s]\n"
     ]
    },
    {
     "name": "stdout",
     "output_type": "stream",
     "text": [
      "Learning rate: 0.001000\n",
      "Epoch loss = 0.0271, pixel accuracy = 68.8883%\n",
      "Dice score = 90.7383%, IoU = 83.7010%\n",
      "\n"
     ]
    },
    {
     "name": "stderr",
     "output_type": "stream",
     "text": [
      "CURRENT EPOCH: 32: 100%|██████████| 33/33 [00:09<00:00,  3.55it/s]\n"
     ]
    },
    {
     "name": "stdout",
     "output_type": "stream",
     "text": [
      "Learning rate: 0.001000\n",
      "Epoch loss = 0.0269, pixel accuracy = 68.9420%\n",
      "Dice score = 90.7351%, IoU = 83.6701%\n",
      "\n"
     ]
    },
    {
     "name": "stderr",
     "output_type": "stream",
     "text": [
      "CURRENT EPOCH: 33: 100%|██████████| 33/33 [00:09<00:00,  3.57it/s]\n"
     ]
    },
    {
     "name": "stdout",
     "output_type": "stream",
     "text": [
      "Learning rate: 0.001000\n",
      "Epoch loss = 0.0253, pixel accuracy = 68.6953%\n",
      "Dice score = 90.8935%, IoU = 83.9224%\n",
      "\n"
     ]
    },
    {
     "name": "stderr",
     "output_type": "stream",
     "text": [
      "CURRENT EPOCH: 34: 100%|██████████| 33/33 [00:09<00:00,  3.57it/s]\n"
     ]
    },
    {
     "name": "stdout",
     "output_type": "stream",
     "text": [
      "Learning rate: 0.001000\n",
      "Epoch loss = 0.0264, pixel accuracy = 68.7811%\n",
      "Dice score = 90.8041%, IoU = 83.7918%\n",
      "\n"
     ]
    },
    {
     "name": "stderr",
     "output_type": "stream",
     "text": [
      "CURRENT EPOCH: 35: 100%|██████████| 33/33 [00:09<00:00,  3.53it/s]\n"
     ]
    },
    {
     "name": "stdout",
     "output_type": "stream",
     "text": [
      "Learning rate: 0.001000\n",
      "Epoch loss = 0.0287, pixel accuracy = 68.7075%\n",
      "Dice score = 90.5802%, IoU = 83.4113%\n",
      "\n"
     ]
    },
    {
     "name": "stderr",
     "output_type": "stream",
     "text": [
      "CURRENT EPOCH: 36: 100%|██████████| 33/33 [00:09<00:00,  3.52it/s]\n"
     ]
    },
    {
     "name": "stdout",
     "output_type": "stream",
     "text": [
      "Learning rate: 0.001000\n",
      "Epoch loss = 0.0269, pixel accuracy = 68.8368%\n",
      "Dice score = 90.6660%, IoU = 83.5682%\n",
      "\n"
     ]
    },
    {
     "name": "stderr",
     "output_type": "stream",
     "text": [
      "CURRENT EPOCH: 37: 100%|██████████| 33/33 [00:09<00:00,  3.50it/s]\n"
     ]
    },
    {
     "name": "stdout",
     "output_type": "stream",
     "text": [
      "Learning rate: 0.000800\n",
      "Epoch loss = 0.0255, pixel accuracy = 68.8066%\n",
      "Dice score = 90.9754%, IoU = 84.0488%\n",
      "\n"
     ]
    },
    {
     "name": "stderr",
     "output_type": "stream",
     "text": [
      "CURRENT EPOCH: 38: 100%|██████████| 33/33 [00:09<00:00,  3.53it/s]\n"
     ]
    },
    {
     "name": "stdout",
     "output_type": "stream",
     "text": [
      "Learning rate: 0.000800\n",
      "Epoch loss = 0.0241, pixel accuracy = 68.7350%\n",
      "Dice score = 90.7899%, IoU = 83.7357%\n",
      "\n"
     ]
    },
    {
     "name": "stderr",
     "output_type": "stream",
     "text": [
      "CURRENT EPOCH: 39: 100%|██████████| 33/33 [00:09<00:00,  3.55it/s]\n"
     ]
    },
    {
     "name": "stdout",
     "output_type": "stream",
     "text": [
      "Learning rate: 0.000800\n",
      "Epoch loss = 0.0255, pixel accuracy = 68.9759%\n",
      "Dice score = 90.9990%, IoU = 84.0706%\n",
      "\n"
     ]
    },
    {
     "name": "stderr",
     "output_type": "stream",
     "text": [
      "CURRENT EPOCH: 40: 100%|██████████| 33/33 [00:09<00:00,  3.58it/s]\n"
     ]
    },
    {
     "name": "stdout",
     "output_type": "stream",
     "text": [
      "Learning rate: 0.000800\n",
      "Epoch loss = 0.0240, pixel accuracy = 68.7921%\n",
      "Dice score = 91.0723%, IoU = 84.1791%\n",
      "\n"
     ]
    },
    {
     "name": "stderr",
     "output_type": "stream",
     "text": [
      "CURRENT EPOCH: 41: 100%|██████████| 33/33 [00:09<00:00,  3.56it/s]\n"
     ]
    },
    {
     "name": "stdout",
     "output_type": "stream",
     "text": [
      "Learning rate: 0.000800\n",
      "Epoch loss = 0.0248, pixel accuracy = 68.9665%\n",
      "Dice score = 90.9866%, IoU = 84.0471%\n",
      "\n"
     ]
    },
    {
     "name": "stderr",
     "output_type": "stream",
     "text": [
      "CURRENT EPOCH: 42: 100%|██████████| 33/33 [00:09<00:00,  3.42it/s]\n"
     ]
    },
    {
     "name": "stdout",
     "output_type": "stream",
     "text": [
      "Learning rate: 0.000800\n",
      "Epoch loss = 0.0221, pixel accuracy = 68.7876%\n",
      "Dice score = 91.1818%, IoU = 84.3867%\n",
      "\n"
     ]
    },
    {
     "name": "stderr",
     "output_type": "stream",
     "text": [
      "CURRENT EPOCH: 43: 100%|██████████| 33/33 [00:09<00:00,  3.47it/s]\n"
     ]
    },
    {
     "name": "stdout",
     "output_type": "stream",
     "text": [
      "Learning rate: 0.000800\n",
      "Epoch loss = 0.0239, pixel accuracy = 68.8463%\n",
      "Dice score = 91.0915%, IoU = 84.1796%\n",
      "\n"
     ]
    },
    {
     "name": "stderr",
     "output_type": "stream",
     "text": [
      "CURRENT EPOCH: 44: 100%|██████████| 33/33 [00:09<00:00,  3.54it/s]\n"
     ]
    },
    {
     "name": "stdout",
     "output_type": "stream",
     "text": [
      "Learning rate: 0.000800\n",
      "Epoch loss = 0.0226, pixel accuracy = 69.0542%\n",
      "Dice score = 91.1361%, IoU = 84.2799%\n",
      "\n"
     ]
    },
    {
     "name": "stderr",
     "output_type": "stream",
     "text": [
      "CURRENT EPOCH: 45: 100%|██████████| 33/33 [00:09<00:00,  3.55it/s]\n"
     ]
    },
    {
     "name": "stdout",
     "output_type": "stream",
     "text": [
      "Learning rate: 0.000800\n",
      "Epoch loss = 0.0236, pixel accuracy = 68.9496%\n",
      "Dice score = 91.0837%, IoU = 84.2011%\n",
      "\n"
     ]
    },
    {
     "name": "stderr",
     "output_type": "stream",
     "text": [
      "CURRENT EPOCH: 46: 100%|██████████| 33/33 [00:09<00:00,  3.54it/s]\n"
     ]
    },
    {
     "name": "stdout",
     "output_type": "stream",
     "text": [
      "Learning rate: 0.000800\n",
      "Epoch loss = 0.0229, pixel accuracy = 68.8095%\n",
      "Dice score = 91.1952%, IoU = 84.3543%\n",
      "\n"
     ]
    },
    {
     "name": "stderr",
     "output_type": "stream",
     "text": [
      "CURRENT EPOCH: 47: 100%|██████████| 33/33 [00:09<00:00,  3.43it/s]\n"
     ]
    },
    {
     "name": "stdout",
     "output_type": "stream",
     "text": [
      "Learning rate: 0.000800\n",
      "Epoch loss = 0.0236, pixel accuracy = 68.9690%\n",
      "Dice score = 91.1817%, IoU = 84.3517%\n",
      "\n"
     ]
    },
    {
     "name": "stderr",
     "output_type": "stream",
     "text": [
      "CURRENT EPOCH: 48: 100%|██████████| 33/33 [00:09<00:00,  3.43it/s]\n"
     ]
    },
    {
     "name": "stdout",
     "output_type": "stream",
     "text": [
      "Learning rate: 0.000800\n",
      "Epoch loss = 0.0227, pixel accuracy = 68.8662%\n",
      "Dice score = 91.3062%, IoU = 84.5213%\n",
      "\n"
     ]
    },
    {
     "name": "stderr",
     "output_type": "stream",
     "text": [
      "CURRENT EPOCH: 49: 100%|██████████| 33/33 [00:09<00:00,  3.43it/s]\n"
     ]
    },
    {
     "name": "stdout",
     "output_type": "stream",
     "text": [
      "Learning rate: 0.000800\n",
      "Epoch loss = 0.0225, pixel accuracy = 68.9812%\n",
      "Dice score = 91.2336%, IoU = 84.4697%\n",
      "\n"
     ]
    },
    {
     "name": "stderr",
     "output_type": "stream",
     "text": [
      "CURRENT EPOCH: 50: 100%|██████████| 33/33 [00:09<00:00,  3.45it/s]\n"
     ]
    },
    {
     "name": "stdout",
     "output_type": "stream",
     "text": [
      "Learning rate: 0.000800\n",
      "Epoch loss = 0.0217, pixel accuracy = 68.7191%\n",
      "Dice score = 91.2553%, IoU = 84.4584%\n",
      "\n"
     ]
    },
    {
     "name": "stderr",
     "output_type": "stream",
     "text": [
      "CURRENT EPOCH: 51: 100%|██████████| 33/33 [00:09<00:00,  3.55it/s]\n"
     ]
    },
    {
     "name": "stdout",
     "output_type": "stream",
     "text": [
      "Learning rate: 0.000800\n",
      "Epoch loss = 0.0204, pixel accuracy = 68.9857%\n",
      "Dice score = 91.3087%, IoU = 84.5637%\n",
      "\n"
     ]
    },
    {
     "name": "stderr",
     "output_type": "stream",
     "text": [
      "CURRENT EPOCH: 52: 100%|██████████| 33/33 [00:09<00:00,  3.55it/s]\n"
     ]
    },
    {
     "name": "stdout",
     "output_type": "stream",
     "text": [
      "Learning rate: 0.000800\n",
      "Epoch loss = 0.0224, pixel accuracy = 68.8757%\n",
      "Dice score = 91.1665%, IoU = 84.3921%\n",
      "\n"
     ]
    },
    {
     "name": "stderr",
     "output_type": "stream",
     "text": [
      "CURRENT EPOCH: 53: 100%|██████████| 33/33 [00:09<00:00,  3.48it/s]\n"
     ]
    },
    {
     "name": "stdout",
     "output_type": "stream",
     "text": [
      "Learning rate: 0.000640\n",
      "Epoch loss = 0.0286, pixel accuracy = 69.0400%\n",
      "Dice score = 90.6687%, IoU = 83.6605%\n",
      "\n"
     ]
    },
    {
     "name": "stderr",
     "output_type": "stream",
     "text": [
      "CURRENT EPOCH: 54: 100%|██████████| 33/33 [00:09<00:00,  3.47it/s]\n"
     ]
    },
    {
     "name": "stdout",
     "output_type": "stream",
     "text": [
      "Learning rate: 0.000640\n",
      "Epoch loss = 0.0261, pixel accuracy = 68.7187%\n",
      "Dice score = 90.7293%, IoU = 83.7518%\n",
      "\n"
     ]
    },
    {
     "name": "stderr",
     "output_type": "stream",
     "text": [
      "CURRENT EPOCH: 55: 100%|██████████| 33/33 [00:09<00:00,  3.52it/s]\n"
     ]
    },
    {
     "name": "stdout",
     "output_type": "stream",
     "text": [
      "Learning rate: 0.000640\n",
      "Epoch loss = 0.0217, pixel accuracy = 68.8147%\n",
      "Dice score = 91.3168%, IoU = 84.5567%\n",
      "\n"
     ]
    },
    {
     "name": "stderr",
     "output_type": "stream",
     "text": [
      "CURRENT EPOCH: 56: 100%|██████████| 33/33 [00:09<00:00,  3.58it/s]\n"
     ]
    },
    {
     "name": "stdout",
     "output_type": "stream",
     "text": [
      "Learning rate: 0.000640\n",
      "Epoch loss = 0.0217, pixel accuracy = 68.8798%\n",
      "Dice score = 91.2163%, IoU = 84.4859%\n",
      "\n"
     ]
    },
    {
     "name": "stderr",
     "output_type": "stream",
     "text": [
      "CURRENT EPOCH: 57: 100%|██████████| 33/33 [00:09<00:00,  3.58it/s]\n"
     ]
    },
    {
     "name": "stdout",
     "output_type": "stream",
     "text": [
      "Learning rate: 0.000640\n",
      "Epoch loss = 0.0202, pixel accuracy = 68.8546%\n",
      "Dice score = 91.3994%, IoU = 84.6731%\n",
      "\n"
     ]
    },
    {
     "name": "stderr",
     "output_type": "stream",
     "text": [
      "CURRENT EPOCH: 58: 100%|██████████| 33/33 [00:09<00:00,  3.58it/s]\n"
     ]
    },
    {
     "name": "stdout",
     "output_type": "stream",
     "text": [
      "Learning rate: 0.000640\n",
      "Epoch loss = 0.0232, pixel accuracy = 68.8600%\n",
      "Dice score = 91.0399%, IoU = 84.2457%\n",
      "\n"
     ]
    },
    {
     "name": "stderr",
     "output_type": "stream",
     "text": [
      "CURRENT EPOCH: 59: 100%|██████████| 33/33 [00:09<00:00,  3.58it/s]\n"
     ]
    },
    {
     "name": "stdout",
     "output_type": "stream",
     "text": [
      "Learning rate: 0.000640\n",
      "Epoch loss = 0.0234, pixel accuracy = 68.8109%\n",
      "Dice score = 90.9791%, IoU = 84.1284%\n",
      "\n"
     ]
    },
    {
     "name": "stderr",
     "output_type": "stream",
     "text": [
      "CURRENT EPOCH: 60: 100%|██████████| 33/33 [00:09<00:00,  3.58it/s]\n"
     ]
    },
    {
     "name": "stdout",
     "output_type": "stream",
     "text": [
      "Learning rate: 0.000640\n",
      "Epoch loss = 0.0207, pixel accuracy = 69.0644%\n",
      "Dice score = 91.5276%, IoU = 84.8950%\n",
      "\n"
     ]
    },
    {
     "name": "stderr",
     "output_type": "stream",
     "text": [
      "CURRENT EPOCH: 61: 100%|██████████| 33/33 [00:09<00:00,  3.52it/s]\n"
     ]
    },
    {
     "name": "stdout",
     "output_type": "stream",
     "text": [
      "Learning rate: 0.000640\n",
      "Epoch loss = 0.0209, pixel accuracy = 69.0167%\n",
      "Dice score = 91.4732%, IoU = 84.8285%\n",
      "\n"
     ]
    },
    {
     "name": "stderr",
     "output_type": "stream",
     "text": [
      "CURRENT EPOCH: 62: 100%|██████████| 33/33 [00:09<00:00,  3.56it/s]\n"
     ]
    },
    {
     "name": "stdout",
     "output_type": "stream",
     "text": [
      "Learning rate: 0.000640\n",
      "Epoch loss = 0.0197, pixel accuracy = 68.8423%\n",
      "Dice score = 91.3983%, IoU = 84.7126%\n",
      "\n"
     ]
    },
    {
     "name": "stderr",
     "output_type": "stream",
     "text": [
      "CURRENT EPOCH: 63: 100%|██████████| 33/33 [00:09<00:00,  3.56it/s]\n"
     ]
    },
    {
     "name": "stdout",
     "output_type": "stream",
     "text": [
      "Learning rate: 0.000640\n",
      "Epoch loss = 0.0220, pixel accuracy = 69.0125%\n",
      "Dice score = 91.3769%, IoU = 84.6417%\n",
      "\n"
     ]
    },
    {
     "name": "stderr",
     "output_type": "stream",
     "text": [
      "CURRENT EPOCH: 64: 100%|██████████| 33/33 [00:09<00:00,  3.57it/s]\n"
     ]
    },
    {
     "name": "stdout",
     "output_type": "stream",
     "text": [
      "Learning rate: 0.000512\n",
      "Epoch loss = 0.0201, pixel accuracy = 68.8541%\n",
      "Dice score = 91.5303%, IoU = 84.9049%\n",
      "\n"
     ]
    },
    {
     "name": "stderr",
     "output_type": "stream",
     "text": [
      "CURRENT EPOCH: 65: 100%|██████████| 33/33 [00:09<00:00,  3.55it/s]\n"
     ]
    },
    {
     "name": "stdout",
     "output_type": "stream",
     "text": [
      "Learning rate: 0.000512\n",
      "Epoch loss = 0.0184, pixel accuracy = 68.8334%\n",
      "Dice score = 91.6649%, IoU = 85.1414%\n",
      "\n"
     ]
    },
    {
     "name": "stderr",
     "output_type": "stream",
     "text": [
      "CURRENT EPOCH: 66: 100%|██████████| 33/33 [00:09<00:00,  3.58it/s]\n"
     ]
    },
    {
     "name": "stdout",
     "output_type": "stream",
     "text": [
      "Learning rate: 0.000512\n",
      "Epoch loss = 0.0203, pixel accuracy = 68.6429%\n",
      "Dice score = 91.2981%, IoU = 84.4987%\n",
      "\n"
     ]
    },
    {
     "name": "stderr",
     "output_type": "stream",
     "text": [
      "CURRENT EPOCH: 67: 100%|██████████| 33/33 [00:09<00:00,  3.55it/s]\n"
     ]
    },
    {
     "name": "stdout",
     "output_type": "stream",
     "text": [
      "Learning rate: 0.000512\n",
      "Epoch loss = 0.0212, pixel accuracy = 68.8673%\n",
      "Dice score = 91.4419%, IoU = 84.7452%\n",
      "\n"
     ]
    },
    {
     "name": "stderr",
     "output_type": "stream",
     "text": [
      "CURRENT EPOCH: 68: 100%|██████████| 33/33 [00:09<00:00,  3.57it/s]\n"
     ]
    },
    {
     "name": "stdout",
     "output_type": "stream",
     "text": [
      "Learning rate: 0.000512\n",
      "Epoch loss = 0.0202, pixel accuracy = 68.8584%\n",
      "Dice score = 91.2728%, IoU = 84.5340%\n",
      "\n"
     ]
    },
    {
     "name": "stderr",
     "output_type": "stream",
     "text": [
      "CURRENT EPOCH: 69: 100%|██████████| 33/33 [00:09<00:00,  3.54it/s]\n"
     ]
    },
    {
     "name": "stdout",
     "output_type": "stream",
     "text": [
      "Learning rate: 0.000512\n",
      "Epoch loss = 0.0200, pixel accuracy = 68.9860%\n",
      "Dice score = 91.4289%, IoU = 84.8100%\n",
      "\n"
     ]
    },
    {
     "name": "stderr",
     "output_type": "stream",
     "text": [
      "CURRENT EPOCH: 70: 100%|██████████| 33/33 [00:09<00:00,  3.51it/s]\n"
     ]
    },
    {
     "name": "stdout",
     "output_type": "stream",
     "text": [
      "Learning rate: 0.000512\n",
      "Epoch loss = 0.0197, pixel accuracy = 69.0415%\n",
      "Dice score = 91.6072%, IoU = 85.0280%\n",
      "\n"
     ]
    },
    {
     "name": "stderr",
     "output_type": "stream",
     "text": [
      "CURRENT EPOCH: 71: 100%|██████████| 33/33 [00:09<00:00,  3.55it/s]\n"
     ]
    },
    {
     "name": "stdout",
     "output_type": "stream",
     "text": [
      "Learning rate: 0.000512\n",
      "Epoch loss = 0.0190, pixel accuracy = 68.9115%\n",
      "Dice score = 91.5325%, IoU = 84.9208%\n",
      "\n"
     ]
    },
    {
     "name": "stderr",
     "output_type": "stream",
     "text": [
      "CURRENT EPOCH: 72: 100%|██████████| 33/33 [00:09<00:00,  3.56it/s]\n"
     ]
    },
    {
     "name": "stdout",
     "output_type": "stream",
     "text": [
      "Learning rate: 0.000512\n",
      "Epoch loss = 0.0188, pixel accuracy = 68.9311%\n",
      "Dice score = 91.6743%, IoU = 85.1169%\n",
      "\n"
     ]
    },
    {
     "name": "stderr",
     "output_type": "stream",
     "text": [
      "CURRENT EPOCH: 73: 100%|██████████| 33/33 [00:09<00:00,  3.54it/s]\n"
     ]
    },
    {
     "name": "stdout",
     "output_type": "stream",
     "text": [
      "Learning rate: 0.000512\n",
      "Epoch loss = 0.0171, pixel accuracy = 68.9825%\n",
      "Dice score = 91.7660%, IoU = 85.2360%\n",
      "\n"
     ]
    },
    {
     "name": "stderr",
     "output_type": "stream",
     "text": [
      "CURRENT EPOCH: 74: 100%|██████████| 33/33 [00:09<00:00,  3.45it/s]\n"
     ]
    },
    {
     "name": "stdout",
     "output_type": "stream",
     "text": [
      "Learning rate: 0.000512\n",
      "Epoch loss = 0.0185, pixel accuracy = 68.8623%\n",
      "Dice score = 91.6365%, IoU = 85.0782%\n",
      "\n"
     ]
    },
    {
     "name": "stderr",
     "output_type": "stream",
     "text": [
      "CURRENT EPOCH: 75: 100%|██████████| 33/33 [00:09<00:00,  3.54it/s]\n"
     ]
    },
    {
     "name": "stdout",
     "output_type": "stream",
     "text": [
      "Learning rate: 0.000512\n",
      "Epoch loss = 0.0206, pixel accuracy = 68.7688%\n",
      "Dice score = 91.1594%, IoU = 84.4169%\n",
      "\n"
     ]
    },
    {
     "name": "stderr",
     "output_type": "stream",
     "text": [
      "CURRENT EPOCH: 76: 100%|██████████| 33/33 [00:09<00:00,  3.54it/s]\n"
     ]
    },
    {
     "name": "stdout",
     "output_type": "stream",
     "text": [
      "Learning rate: 0.000410\n",
      "Epoch loss = 0.0186, pixel accuracy = 68.8621%\n",
      "Dice score = 91.5584%, IoU = 84.9111%\n",
      "\n"
     ]
    },
    {
     "name": "stderr",
     "output_type": "stream",
     "text": [
      "CURRENT EPOCH: 77: 100%|██████████| 33/33 [00:09<00:00,  3.45it/s]\n"
     ]
    },
    {
     "name": "stdout",
     "output_type": "stream",
     "text": [
      "Learning rate: 0.000410\n",
      "Epoch loss = 0.0187, pixel accuracy = 68.8722%\n",
      "Dice score = 91.6221%, IoU = 85.0175%\n",
      "\n"
     ]
    },
    {
     "name": "stderr",
     "output_type": "stream",
     "text": [
      "CURRENT EPOCH: 78: 100%|██████████| 33/33 [00:09<00:00,  3.49it/s]\n"
     ]
    },
    {
     "name": "stdout",
     "output_type": "stream",
     "text": [
      "Learning rate: 0.000410\n",
      "Epoch loss = 0.0169, pixel accuracy = 68.7360%\n",
      "Dice score = 91.7891%, IoU = 85.3459%\n",
      "\n"
     ]
    },
    {
     "name": "stderr",
     "output_type": "stream",
     "text": [
      "CURRENT EPOCH: 79: 100%|██████████| 33/33 [00:09<00:00,  3.55it/s]\n"
     ]
    },
    {
     "name": "stdout",
     "output_type": "stream",
     "text": [
      "Learning rate: 0.000410\n",
      "Epoch loss = 0.0172, pixel accuracy = 68.7761%\n",
      "Dice score = 91.7979%, IoU = 85.3083%\n",
      "\n"
     ]
    },
    {
     "name": "stderr",
     "output_type": "stream",
     "text": [
      "CURRENT EPOCH: 80: 100%|██████████| 33/33 [00:09<00:00,  3.53it/s]\n"
     ]
    },
    {
     "name": "stdout",
     "output_type": "stream",
     "text": [
      "Learning rate: 0.000410\n",
      "Epoch loss = 0.0181, pixel accuracy = 68.9354%\n",
      "Dice score = 91.7341%, IoU = 85.2155%\n",
      "\n"
     ]
    },
    {
     "name": "stderr",
     "output_type": "stream",
     "text": [
      "CURRENT EPOCH: 81: 100%|██████████| 33/33 [00:09<00:00,  3.48it/s]\n"
     ]
    },
    {
     "name": "stdout",
     "output_type": "stream",
     "text": [
      "Learning rate: 0.000410\n",
      "Epoch loss = 0.0169, pixel accuracy = 68.9785%\n",
      "Dice score = 91.8906%, IoU = 85.4511%\n",
      "\n"
     ]
    },
    {
     "name": "stderr",
     "output_type": "stream",
     "text": [
      "CURRENT EPOCH: 82: 100%|██████████| 33/33 [00:09<00:00,  3.57it/s]\n"
     ]
    },
    {
     "name": "stdout",
     "output_type": "stream",
     "text": [
      "Learning rate: 0.000410\n",
      "Epoch loss = 0.0188, pixel accuracy = 69.2269%\n",
      "Dice score = 91.6288%, IoU = 85.1711%\n",
      "\n"
     ]
    },
    {
     "name": "stderr",
     "output_type": "stream",
     "text": [
      "CURRENT EPOCH: 83: 100%|██████████| 33/33 [00:09<00:00,  3.55it/s]\n"
     ]
    },
    {
     "name": "stdout",
     "output_type": "stream",
     "text": [
      "Learning rate: 0.000410\n",
      "Epoch loss = 0.0165, pixel accuracy = 68.9570%\n",
      "Dice score = 91.8727%, IoU = 85.4243%\n",
      "\n"
     ]
    },
    {
     "name": "stderr",
     "output_type": "stream",
     "text": [
      "CURRENT EPOCH: 84: 100%|██████████| 33/33 [00:09<00:00,  3.56it/s]\n"
     ]
    },
    {
     "name": "stdout",
     "output_type": "stream",
     "text": [
      "Learning rate: 0.000410\n",
      "Epoch loss = 0.0173, pixel accuracy = 68.8086%\n",
      "Dice score = 91.7592%, IoU = 85.2464%\n",
      "\n"
     ]
    },
    {
     "name": "stderr",
     "output_type": "stream",
     "text": [
      "CURRENT EPOCH: 85: 100%|██████████| 33/33 [00:09<00:00,  3.59it/s]\n"
     ]
    },
    {
     "name": "stdout",
     "output_type": "stream",
     "text": [
      "Learning rate: 0.000410\n",
      "Epoch loss = 0.0177, pixel accuracy = 68.7678%\n",
      "Dice score = 91.6684%, IoU = 85.1644%\n",
      "\n"
     ]
    },
    {
     "name": "stderr",
     "output_type": "stream",
     "text": [
      "CURRENT EPOCH: 86: 100%|██████████| 33/33 [00:09<00:00,  3.57it/s]\n"
     ]
    },
    {
     "name": "stdout",
     "output_type": "stream",
     "text": [
      "Learning rate: 0.000410\n",
      "Epoch loss = 0.0170, pixel accuracy = 68.8575%\n",
      "Dice score = 91.7807%, IoU = 85.3033%\n",
      "\n"
     ]
    },
    {
     "name": "stderr",
     "output_type": "stream",
     "text": [
      "CURRENT EPOCH: 87: 100%|██████████| 33/33 [00:09<00:00,  3.56it/s]\n"
     ]
    },
    {
     "name": "stdout",
     "output_type": "stream",
     "text": [
      "Learning rate: 0.000328\n",
      "Epoch loss = 0.0155, pixel accuracy = 68.7389%\n",
      "Dice score = 91.8880%, IoU = 85.4509%\n",
      "\n"
     ]
    },
    {
     "name": "stderr",
     "output_type": "stream",
     "text": [
      "CURRENT EPOCH: 88: 100%|██████████| 33/33 [00:09<00:00,  3.56it/s]\n"
     ]
    },
    {
     "name": "stdout",
     "output_type": "stream",
     "text": [
      "Learning rate: 0.000328\n",
      "Epoch loss = 0.0175, pixel accuracy = 69.0384%\n",
      "Dice score = 91.9203%, IoU = 85.5097%\n",
      "\n"
     ]
    },
    {
     "name": "stderr",
     "output_type": "stream",
     "text": [
      "CURRENT EPOCH: 89: 100%|██████████| 33/33 [00:09<00:00,  3.54it/s]\n"
     ]
    },
    {
     "name": "stdout",
     "output_type": "stream",
     "text": [
      "Learning rate: 0.000328\n",
      "Epoch loss = 0.0154, pixel accuracy = 68.8243%\n",
      "Dice score = 91.9405%, IoU = 85.5290%\n",
      "\n"
     ]
    },
    {
     "name": "stderr",
     "output_type": "stream",
     "text": [
      "CURRENT EPOCH: 90: 100%|██████████| 33/33 [00:09<00:00,  3.53it/s]\n"
     ]
    },
    {
     "name": "stdout",
     "output_type": "stream",
     "text": [
      "Learning rate: 0.000328\n",
      "Epoch loss = 0.0164, pixel accuracy = 68.6990%\n",
      "Dice score = 91.8418%, IoU = 85.3602%\n",
      "\n"
     ]
    },
    {
     "name": "stderr",
     "output_type": "stream",
     "text": [
      "CURRENT EPOCH: 91: 100%|██████████| 33/33 [00:09<00:00,  3.51it/s]\n"
     ]
    },
    {
     "name": "stdout",
     "output_type": "stream",
     "text": [
      "Learning rate: 0.000328\n",
      "Epoch loss = 0.0172, pixel accuracy = 68.8762%\n",
      "Dice score = 91.7698%, IoU = 85.2655%\n",
      "\n"
     ]
    },
    {
     "name": "stderr",
     "output_type": "stream",
     "text": [
      "CURRENT EPOCH: 92: 100%|██████████| 33/33 [00:09<00:00,  3.55it/s]\n"
     ]
    },
    {
     "name": "stdout",
     "output_type": "stream",
     "text": [
      "Learning rate: 0.000328\n",
      "Epoch loss = 0.0173, pixel accuracy = 68.8609%\n",
      "Dice score = 91.8357%, IoU = 85.3728%\n",
      "\n"
     ]
    },
    {
     "name": "stderr",
     "output_type": "stream",
     "text": [
      "CURRENT EPOCH: 93: 100%|██████████| 33/33 [00:09<00:00,  3.48it/s]\n"
     ]
    },
    {
     "name": "stdout",
     "output_type": "stream",
     "text": [
      "Learning rate: 0.000328\n",
      "Epoch loss = 0.0170, pixel accuracy = 68.8117%\n",
      "Dice score = 91.8438%, IoU = 85.3538%\n",
      "\n"
     ]
    },
    {
     "name": "stderr",
     "output_type": "stream",
     "text": [
      "CURRENT EPOCH: 94: 100%|██████████| 33/33 [00:09<00:00,  3.39it/s]\n"
     ]
    },
    {
     "name": "stdout",
     "output_type": "stream",
     "text": [
      "Learning rate: 0.000328\n",
      "Epoch loss = 0.0164, pixel accuracy = 68.9725%\n",
      "Dice score = 91.9769%, IoU = 85.5781%\n",
      "\n"
     ]
    },
    {
     "name": "stderr",
     "output_type": "stream",
     "text": [
      "CURRENT EPOCH: 95: 100%|██████████| 33/33 [00:09<00:00,  3.37it/s]\n"
     ]
    },
    {
     "name": "stdout",
     "output_type": "stream",
     "text": [
      "Learning rate: 0.000328\n",
      "Epoch loss = 0.0167, pixel accuracy = 68.9759%\n",
      "Dice score = 91.8493%, IoU = 85.4305%\n",
      "\n"
     ]
    },
    {
     "name": "stderr",
     "output_type": "stream",
     "text": [
      "CURRENT EPOCH: 96: 100%|██████████| 33/33 [00:09<00:00,  3.50it/s]\n"
     ]
    },
    {
     "name": "stdout",
     "output_type": "stream",
     "text": [
      "Learning rate: 0.000328\n",
      "Epoch loss = 0.0140, pixel accuracy = 68.8532%\n",
      "Dice score = 92.0906%, IoU = 85.7533%\n",
      "\n"
     ]
    },
    {
     "name": "stderr",
     "output_type": "stream",
     "text": [
      "CURRENT EPOCH: 97: 100%|██████████| 33/33 [00:09<00:00,  3.45it/s]\n"
     ]
    },
    {
     "name": "stdout",
     "output_type": "stream",
     "text": [
      "Learning rate: 0.000328\n",
      "Epoch loss = 0.0174, pixel accuracy = 69.1566%\n",
      "Dice score = 91.9733%, IoU = 85.5623%\n",
      "\n"
     ]
    },
    {
     "name": "stderr",
     "output_type": "stream",
     "text": [
      "CURRENT EPOCH: 98: 100%|██████████| 33/33 [00:11<00:00,  2.81it/s]\n"
     ]
    },
    {
     "name": "stdout",
     "output_type": "stream",
     "text": [
      "Learning rate: 0.000262\n",
      "Epoch loss = 0.0144, pixel accuracy = 68.9268%\n",
      "Dice score = 92.0615%, IoU = 85.7513%\n",
      "\n"
     ]
    },
    {
     "name": "stderr",
     "output_type": "stream",
     "text": [
      "CURRENT EPOCH: 99: 100%|██████████| 33/33 [00:12<00:00,  2.68it/s]"
     ]
    },
    {
     "name": "stdout",
     "output_type": "stream",
     "text": [
      "Learning rate: 0.000262\n",
      "Epoch loss = 0.0152, pixel accuracy = 68.6875%\n",
      "Dice score = 92.0201%, IoU = 85.6375%\n",
      "\n"
     ]
    },
    {
     "name": "stderr",
     "output_type": "stream",
     "text": [
      "\n"
     ]
    }
   ],
   "source": [
    "model, ftl, focal_loss, boundary_loss, optimizer = get_model(UNet=UNet3Plus, lr=1e-3)\n",
    "train_losses, train_dice_score, train_iou, train_accuracies = [],[],[],[]\n",
    "\n",
    "epochs = 100\n",
    "\n",
    "scheduler = torch.optim.lr_scheduler.ReduceLROnPlateau(optimizer, mode='max',factor = 0.8,patience = 10, threshold=5e-3)\n",
    "\n",
    "model.train()\n",
    "\n",
    "img, mask, _,_ =next(iter(trn_dl))\n",
    "print(img.shape, mask.shape)  # Should print torch.Size([B, 3, 224, 224]), torch.Size([B, 1, 224, 224])\n",
    "\n",
    "w_ftl = 0.5\n",
    "w_fl = 0.3\n",
    "\n",
    "head_weights = [0.1,0.1,0.2,0.6]\n",
    "\n",
    "for epoch in range(epochs):\n",
    "    loss_sum = acc_sum = dice_sum = iou_sum = 0.0\n",
    "    n = 0\n",
    "\n",
    "    w_bdry = ramp_weight(epoch, start = 3, end = 15, max_w = 0.7)\n",
    "\n",
    "    for batch in tqdm(trn_dl, desc=f'CURRENT EPOCH: {epoch}'):\n",
    "        loss, dice, iou, acc = train_batch(model, batch, optimizer, \n",
    "                                      focal_tversky_loss=ftl, \n",
    "                                      focal_loss=focal_loss,\n",
    "                                      boundary_loss=boundary_loss,\n",
    "                                      head_weights=head_weights,\n",
    "                                      w_ftl = w_ftl, w_fl = w_fl, w_bdry = w_bdry)\n",
    "        \n",
    "        # --- Convert to CPU and to float ---\n",
    "        if torch.is_tensor(loss): loss = float(loss.detach().cpu())\n",
    "        if torch.is_tensor(acc):  acc  = float(acc.detach().cpu())\n",
    "        if torch.is_tensor(dice): dice = float(dice.detach().cpu())\n",
    "        if torch.is_tensor(iou): iou = float(iou.detach().cpu())\n",
    "\n",
    "\n",
    "        # train_batch should already return plain floats\n",
    "        loss_sum += loss\n",
    "        acc_sum  += acc\n",
    "        dice_sum += dice\n",
    "        iou_sum += iou\n",
    "        n += 1\n",
    "\n",
    "    epoch_loss = loss_sum / n\n",
    "    epoch_acc  = acc_sum  / n\n",
    "    epoch_dice = dice_sum / n\n",
    "    epoch_iou = iou_sum / n\n",
    "\n",
    "    train_losses.append(np.array(epoch_loss).item())\n",
    "    train_accuracies.append(np.array(epoch_acc).item())\n",
    "    train_dice_score.append(np.array(epoch_dice).item())\n",
    "    train_iou.append(np.array(epoch_iou).item())\n",
    "\n",
    "    scheduler.step(epoch_dice)\n",
    "\n",
    "    print(f'Learning rate: {scheduler.get_last_lr()[0]:.6f}')\n",
    "    print(f'Epoch loss = {epoch_loss:.4f}, pixel accuracy = {epoch_acc*100:.4f}%')\n",
    "    print(f'Dice score = {epoch_dice*100:.4f}%, IoU = {epoch_iou*100:.4f}%\\n')\n"
   ]
  },
  {
   "cell_type": "markdown",
   "id": "4c29eb7a",
   "metadata": {},
   "source": [
    "### Visualization of loss convergence and metrics"
   ]
  },
  {
   "cell_type": "code",
   "execution_count": 149,
   "id": "ec5e3ae3",
   "metadata": {},
   "outputs": [
    {
     "data": {
      "image/png": "[encoded data removed]",
      "text/plain": [
       "<Figure size 2000x500 with 3 Axes>"
      ]
     },
     "metadata": {},
     "output_type": "display_data"
    }
   ],
   "source": [
    "'''---Plotting and Visualizing convergence---'''\n",
    "it=np.arange(epochs)+1\n",
    "plt.figure(figsize=(20,5))\n",
    "\n",
    "'''--- Training loss ---'''\n",
    "plt.subplot(131)\n",
    "plt.title('Training Loss over Epochs')\n",
    "plt.plot(it, train_losses, label='Training Loss', color = 'red')\n",
    "plt.xlabel('Epoch')\n",
    "plt.ylabel('Loss')\n",
    "plt.grid(True)\n",
    "plt.legend()\n",
    "\n",
    "'''--- Pixel Accuracy ---'''\n",
    "ax2 = plt.subplot(132) \n",
    "plt.title('Pixel accuracy over Epochs')\n",
    "plt.plot(it, train_accuracies, label='Training Accuracy', color = 'blue')\n",
    "plt.xlabel('Epoch')\n",
    "plt.ylabel('Pixel accuracy')\n",
    "plt.grid(True)\n",
    "plt.legend()\n",
    "\n",
    "ticks2 = ax2.get_yticks()\n",
    "ax2.set_yticks(ticks2)\n",
    "ax2.set_yticklabels(['{:.0f}%'.format(x*100) for x in ticks2])\n",
    "\n",
    "\n",
    "'''--- Dice, Precision, Sensitivity ---'''\n",
    "ax3 = plt.subplot(133) \n",
    "plt.title('Dice, Precision, Sensitivity over Epochs')\n",
    "plt.plot(it, train_dice_score, label='Dice score', color = 'green')\n",
    "plt.plot(it, train_iou,label = 'IoU', color = 'orange')\n",
    "plt.xlabel('Epoch')\n",
    "plt.ylabel('Score (%)')\n",
    "plt.grid(True)\n",
    "plt.legend()\n",
    "\n",
    "ticks3 = ax3.get_yticks()\n",
    "ax3.set_yticks(ticks3)\n",
    "ax3.set_yticklabels(['{:.0f}%'.format(x*100) for x in ticks3])\n",
    "\n",
    "plt.tight_layout()\n",
    "plt.show()"
   ]
  },
  {
   "cell_type": "markdown",
   "id": "871d8fd1",
   "metadata": {},
   "source": [
    "### Run test samples on trained model"
   ]
  },
  {
   "cell_type": "code",
   "execution_count": 151,
   "id": "5281f643",
   "metadata": {},
   "outputs": [],
   "source": [
    "# model = UNet3Plus(deep_supervision=True).to(device)\n",
    "# state = torch.load('../LiteUNet3Plus.pth', map_location= device)\n",
    "# model.load_state_dict(state)"
   ]
  },
  {
   "cell_type": "code",
   "execution_count": 169,
   "id": "6d9eaf18",
   "metadata": {},
   "outputs": [
    {
     "data": {
      "image/png": "[encoded data removed]",
      "text/plain": [
       "<Figure size 1200x400 with 3 Axes>"
      ]
     },
     "metadata": {},
     "output_type": "display_data"
    }
   ],
   "source": [
    "'''Visualizing Segmented Output'''\n",
    "\n",
    "#DataLoader returns (batch_size,3,H,W) for img and (batch_size,1,H,W) for mask\n",
    "eval_dl = DataLoader(DSB2018_Dataset(set_type='eval'), batch_size=10, shuffle=True) \n",
    "\n",
    "# ---Get one sample---\n",
    "img, mask = next(iter(eval_dl)) # img: [B,3,H,W], mask: [B,1,H,W] \n",
    "img  = img.to(device)\n",
    "mask = mask.to(device)\n",
    "\n",
    "if mask.ndim == 4 and mask.shape[1] == 1: mask = mask[:, 0] # -> [B,H,W]\n",
    "elif mask.ndim != 3:\n",
    "    raise ValueError(\"mask must be [B,1,H,W] or [B,H,W] for binary\")\n",
    "\n",
    "# ---Normalized test input---\n",
    "img_norm = TF.normalize(img, mean = [0.485, 0.456, 0.406], std = [0.229, 0.224, 0.225])\n",
    "\n",
    "# --- Handling Deep Supervision and W/O Deep Supervision ---\n",
    "head_weights = [0.1,0.1,0.2,0.6]\n",
    "thr = 0.5\n",
    "model.eval()\n",
    "with torch.no_grad(): \n",
    "    model.deep_supervision= True\n",
    "    out = model(img_norm) # logits [B,1,H,W] or list of 4 [B,1,H,W]\n",
    "\n",
    "    #---Deep supervision---\n",
    "    #Average heads with weights, consistent with the head weights used in loss\n",
    "    if isinstance(out, (list, tuple)):\n",
    "        heads = []\n",
    "        for idx,o in enumerate(out):\n",
    "            if o.ndim == 4 and o.shape[1] == 1:      # [B,1,H,W]\n",
    "                heads.append(o[:, 0]*head_weights[idx])                # [B,H,W]\n",
    "            else: raise ValueError(f\"Unexpected head shape: {o.shape}\")\n",
    "\n",
    "        logit = torch.stack(heads, dim=0).mean(dim=0)   # [B,H,W]\n",
    "    \n",
    "    #---W/O Deep supervision---\n",
    "    else:\n",
    "        if out.ndim == 4 and out.shape[1] == 1:\n",
    "            logit = out[:, 0,:,:]                         # [B,H,W]\n",
    "        else: raise ValueError(f\"Unexpected output shape: {out.shape}\")\n",
    "\n",
    "    prob = torch.sigmoid(logit)                     # [B,H,W] in [0,1]\n",
    "    pred = (prob >= thr).float()                     # hard mask [B,H,W]\n",
    "\n",
    "# ---Convert to CPU---\n",
    "img_vis  = img[0].detach().permute(1,2,0).cpu().numpy()   # [H,W,3]\n",
    "mask_vis = mask[0].detach().float().cpu().numpy()         # [H,W]\n",
    "pred_vis = pred[0].detach().cpu().numpy()                 # [H,W]\n",
    "\n",
    "# ---Plotting---\n",
    "fig, axs = plt.subplots(1, 3, figsize=(12, 4))\n",
    "\n",
    "axs[0].imshow(img_vis)                        \n",
    "axs[0].set_title(\"Image\")       \n",
    "axs[0].axis('off')\n",
    "\n",
    "axs[1].imshow(mask_vis, cmap='gray', vmin=0, vmax=1)\n",
    "axs[1].set_title(\"GT mask\")\n",
    "axs[1].axis('off')\n",
    "\n",
    "axs[2].imshow(pred_vis, cmap='gray', vmin=0, vmax=1)\n",
    "axs[2].set_title(f\"Pred @ thr={thr}\")\n",
    "axs[2].axis('off')\n",
    "\n",
    "plt.tight_layout(); plt.show()\n",
    "\n"
   ]
  },
  {
   "cell_type": "code",
   "execution_count": null,
   "id": "ca2fd760",
   "metadata": {},
   "outputs": [],
   "source": [
    "# torch.save(model.state_dict(), '../LiteUNet3Plus.pth')"
   ]
  }
 ],
 "metadata": {
  "kernelspec": {
   "display_name": "torch311",
   "language": "python",
   "name": "python3"
  },
  "language_info": {
   "codemirror_mode": {
    "name": "ipython",
    "version": 3
   },
   "file_extension": ".py",
   "mimetype": "text/x-python",
   "name": "python",
   "nbconvert_exporter": "python",
   "pygments_lexer": "ipython3",
   "version": "3.11.0"
  }
 },
 "nbformat": 4,
 "nbformat_minor": 5
}
